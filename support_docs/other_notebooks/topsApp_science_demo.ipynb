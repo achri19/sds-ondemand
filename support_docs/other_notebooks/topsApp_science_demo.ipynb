{
 "cells": [
  {
   "cell_type": "markdown",
   "metadata": {
    "heading_collapsed": true
   },
   "source": [
    "# Processing your Data with topsApp.py\n",
    "\n",
    "**Author**: Bekaert David, Heresh Fattahi, Piyush Agram\n",
    "\n",
    "In this notebook, we will walk through the various steps of processing with topsApp.py. \n",
    "\n",
    "topsApp.py is a pair-by-pair interferometric processor that takes as input two Sentinel-1 SAR acquisitions acquired in TOPS mode. topsApp.py will not work for other Sentinel-1 acquisition formats such as Stripmap. ISCE's stripmapApp.py supports interferometric stripmap processing of Sentinel-1 and other sensors. At this time, topsApp only supports SLC data from Sentinel-1 A and B. Processing is supported across the Sentinel-1 constellation, i.e. data acquired from A and B can be combined.\n",
    "\n",
    "To illustrate the usage of topsApp.py, we will use a Sentinel-1 dataset capturing the surface deformation as result of the 15 May 2020 Mw6.5 Monte Cristo Range Earthquake that occurred in Nevada [(details here)](https://en.wikipedia.org/wiki/2020_Nevada_earthquake). The exercise runs the workflow step by step to generate a geocoded interferogram. "
   ]
  },
  {
   "cell_type": "markdown",
   "metadata": {
    "heading_collapsed": true,
    "hidden": true
   },
   "source": [
    "## 0. Initial setup of the notebook"
   ]
  },
  {
   "cell_type": "markdown",
   "metadata": {},
   "source": [
    "This notebooks uses the following directory structure\n",
    "\n",
    "```\n",
    ".\n",
    "├── topsApp.ipynb     (This notebook)\n",
    "├── insar             (This is where we will process the interferogram)\n",
    "├── support_docs      (Figures used in this notebook)\n",
    "└── data              (This is where we will download data for this notebook)\n",
    "```"
   ]
  },
  {
   "cell_type": "markdown",
   "metadata": {
    "hidden": true
   },
   "source": [
    "The cell below performs initial setup of the notebook and must be run every time the notebook is used. It is possible to partially complete the exercise, close the notebook, and come back and continue later from that point, but this initialization must be re-run before restarting (as well as Step 1.2.1 if the slc download step 1.2 is skipped).  Initialization defines the processing locations as well as a few plotting routines that will be used throughout the tutorial, and this information is lost when the notebook is closed."
   ]
  },
  {
   "cell_type": "code",
   "execution_count": 1,
   "metadata": {
    "hidden": true
   },
   "outputs": [
    {
     "name": "stdout",
     "output_type": "stream",
     "text": [
      "Notebook directory:  /home/jovyan/nisar-on-demand-use-cases\n"
     ]
    }
   ],
   "source": [
    "from shutil import copyfile, move # Utilities for copying and moving files\n",
    "from osgeo import gdal            # GDAL support for reading virtual files\n",
    "import os                         # To create and remove directories\n",
    "import matplotlib.pyplot as plt   # For plotting\n",
    "import numpy as np                # Matrix calculations\n",
    "import glob                       # Retrieving list of files\n",
    "import boto3                      # For talking to s3 bucket\n",
    "\n",
    "# directory in which the notebook resides\n",
    "if 'tutorial_home_dir' not in globals():\n",
    "    tutorial_home_dir = os.getcwd()\n",
    "print(\"Notebook directory: \", tutorial_home_dir)\n",
    "\n",
    "# directory for data downloads\n",
    "slc_dir = os.path.join(tutorial_home_dir,'data', 'slcs')\n",
    "orbit_dir = os.path.join(tutorial_home_dir, 'data', 'orbits')\n",
    "insar_dir = os.path.join(tutorial_home_dir, 'insar')\n",
    "\n",
    "\n",
    "# defining backup dirs in case of download issues on the local server\n",
    "s3 = boto3.resource(\"s3\")\n",
    "data_backup_bucket = s3.Bucket(\"asf-jupyter-data\")\n",
    "data_backup_dir = \"TOPS\"\n",
    "\n",
    "# generate all the folders in case they do not exist yet\n",
    "os.makedirs(slc_dir, exist_ok=True)\n",
    "os.makedirs(orbit_dir, exist_ok=True)\n",
    "os.makedirs(insar_dir, exist_ok=True)\n",
    "\n",
    "# Always start at the notebook directory    \n",
    "os.chdir(tutorial_home_dir)\n",
    "\n",
    "\n",
    "# Utility to copy data from \n",
    "def copy_from_bucket(file_in_bucket, dest_file,\n",
    "                    bucket=data_backup_bucket):\n",
    "    if os.path.exists(dest_file):\n",
    "        print(\"Destination file {0} already exists. Skipping download...\".format(dest_file))\n",
    "    else:\n",
    "        bucket.download_file(file_in_bucket, dest_file)\n",
    "\n",
    "# Utility to plot a 2D array\n",
    "def plotdata(GDALfilename, band=1,\n",
    "             title=None,colormap='gray',\n",
    "             aspect=1, background=None,\n",
    "             datamin=None, datamax=None,\n",
    "             interpolation='nearest',\n",
    "             nodata = None,\n",
    "             draw_colorbar=True, colorbar_orientation=\"horizontal\"):\n",
    "    \n",
    "    # Read the data into an array\n",
    "    ds = gdal.Open(GDALfilename, gdal.GA_ReadOnly)\n",
    "    data = ds.GetRasterBand(band).ReadAsArray()\n",
    "    transform = ds.GetGeoTransform()\n",
    "    ds = None\n",
    "    \n",
    "    try:\n",
    "        if nodata is not None:\n",
    "            data[data == nodata] = np.nan\n",
    "    except:\n",
    "        pass\n",
    "        \n",
    "    # getting the min max of the axes\n",
    "    firstx = transform[0]\n",
    "    firsty = transform[3]\n",
    "    deltay = transform[5]\n",
    "    deltax = transform[1]\n",
    "    lastx = firstx+data.shape[1]*deltax\n",
    "    lasty = firsty+data.shape[0]*deltay\n",
    "    ymin = np.min([lasty,firsty])\n",
    "    ymax = np.max([lasty,firsty])\n",
    "    xmin = np.min([lastx,firstx])\n",
    "    xmax = np.max([lastx,firstx])\n",
    "\n",
    "    # put all zero values to nan and do not plot nan\n",
    "    if background is None:\n",
    "        try:\n",
    "            data[data==0]=np.nan\n",
    "        except:\n",
    "            pass\n",
    "    \n",
    "    fig = plt.figure(figsize=(18, 16))\n",
    "    ax = fig.add_subplot(111)\n",
    "    cax = ax.imshow(data, vmin = datamin, vmax=datamax,\n",
    "                    cmap=colormap, extent=[xmin,xmax,ymin,ymax],\n",
    "                    interpolation=interpolation)\n",
    "    ax.set_title(title)\n",
    "    if draw_colorbar is not None:\n",
    "        cbar = fig.colorbar(cax,orientation=colorbar_orientation)\n",
    "    ax.set_aspect(aspect)    \n",
    "    plt.show()\n",
    "    \n",
    "    # clearing the data\n",
    "    data = None\n",
    "\n",
    "# Utility to plot interferograms\n",
    "def plotcomplexdata(GDALfilename,\n",
    "                    title=None, aspect=1,\n",
    "                    datamin=None, datamax=None,\n",
    "                    interpolation='nearest',\n",
    "                    draw_colorbar=None, colorbar_orientation=\"horizontal\"):\n",
    "    # Load the data into numpy array\n",
    "    ds = gdal.Open(GDALfilename, gdal.GA_ReadOnly)\n",
    "    slc = ds.GetRasterBand(1).ReadAsArray()\n",
    "    transform = ds.GetGeoTransform()\n",
    "    ds = None\n",
    "    \n",
    "    # getting the min max of the axes\n",
    "    firstx = transform[0]\n",
    "    firsty = transform[3]\n",
    "    deltay = transform[5]\n",
    "    deltax = transform[1]\n",
    "    lastx = firstx+slc.shape[1]*deltax\n",
    "    lasty = firsty+slc.shape[0]*deltay\n",
    "    ymin = np.min([lasty,firsty])\n",
    "    ymax = np.max([lasty,firsty])\n",
    "    xmin = np.min([lastx,firstx])\n",
    "    xmax = np.max([lastx,firstx])\n",
    "\n",
    "    # put all zero values to nan and do not plot nan\n",
    "    try:\n",
    "        slc[slc==0]=np.nan\n",
    "    except:\n",
    "        pass\n",
    "\n",
    "    \n",
    "    fig = plt.figure(figsize=(18, 16))\n",
    "    ax = fig.add_subplot(1,2,1)\n",
    "    cax1=ax.imshow(np.abs(slc), vmin = datamin, vmax=datamax,\n",
    "                   cmap='gray', extent=[xmin,xmax,ymin,ymax],\n",
    "                   interpolation=interpolation)\n",
    "    ax.set_title(title + \" (amplitude)\")\n",
    "    if draw_colorbar is not None:\n",
    "        cbar1 = fig.colorbar(cax1,orientation=colorbar_orientation)\n",
    "    ax.set_aspect(aspect)\n",
    "\n",
    "    ax = fig.add_subplot(1,2,2)\n",
    "    cax2 =ax.imshow(np.angle(slc), cmap='rainbow',\n",
    "                    vmin=-np.pi, vmax=np.pi,\n",
    "                    extent=[xmin,xmax,ymin,ymax],\n",
    "                    interpolation=interpolation)\n",
    "    ax.set_title(title + \" (phase [rad])\")\n",
    "    if draw_colorbar is not None:\n",
    "        cbar2 = fig.colorbar(cax2, orientation=colorbar_orientation)\n",
    "    ax.set_aspect(aspect)\n",
    "    plt.show()\n",
    "    \n",
    "    # clearing the data\n",
    "    slc = None\n",
    "\n",
    "# Utility to plot multiple similar arrays\n",
    "def plotstackdata(GDALfilename_wildcard, band=1,\n",
    "                  title=None, colormap='gray',\n",
    "                  aspect=1, datamin=None, datamax=None,\n",
    "                  interpolation='nearest',\n",
    "                  draw_colorbar=True, colorbar_orientation=\"horizontal\"):\n",
    "    # get a list of all files matching the filename wildcard criteria\n",
    "    GDALfilenames = glob.glob(GDALfilename_wildcard)\n",
    "    \n",
    "    # initialize empty numpy array\n",
    "    data = None\n",
    "    for GDALfilename in GDALfilenames:\n",
    "        ds = gdal.Open(GDALfilename, gdal.GA_ReadOnly)\n",
    "        data_temp = ds.GetRasterBand(band).ReadAsArray()   \n",
    "        ds = None\n",
    "        \n",
    "        if data is None:\n",
    "            data = data_temp\n",
    "        else:\n",
    "            data = np.vstack((data,data_temp))\n",
    "\n",
    "    # put all zero values to nan and do not plot nan\n",
    "    try:\n",
    "        data[data==0]=np.nan\n",
    "    except:\n",
    "        pass            \n",
    "            \n",
    "    fig = plt.figure(figsize=(18, 16))\n",
    "    ax = fig.add_subplot(111)\n",
    "    cax = ax.imshow(data, vmin = datamin, vmax=datamax,\n",
    "                    cmap=colormap, interpolation=interpolation)\n",
    "    ax.set_title(title)\n",
    "    if draw_colorbar is not None:\n",
    "        cbar = fig.colorbar(cax,orientation=colorbar_orientation)\n",
    "    ax.set_aspect(aspect)    \n",
    "    plt.show() \n",
    "\n",
    "    # clearing the data\n",
    "    data = None\n",
    "\n",
    "# Utility to plot multiple simple complex arrays\n",
    "def plotstackcomplexdata(GDALfilename_wildcard,\n",
    "                         title=None, aspect=1,\n",
    "                         datamin=None, datamax=None,\n",
    "                         interpolation='nearest',\n",
    "                         draw_colorbar=True, colorbar_orientation=\"horizontal\"):\n",
    "    # get a list of all files matching the filename wildcard criteria\n",
    "    GDALfilenames = glob.glob(GDALfilename_wildcard)\n",
    "    print(GDALfilenames)\n",
    "    # initialize empty numpy array\n",
    "    data = None\n",
    "    for GDALfilename in GDALfilenames:\n",
    "        ds = gdal.Open(GDALfilename, gdal.GA_ReadOnly)\n",
    "        data_temp = ds.GetRasterBand(1).ReadAsArray()\n",
    "        ds = None\n",
    "        \n",
    "        if data is None:\n",
    "            data = data_temp\n",
    "        else:\n",
    "            data = np.vstack((data,data_temp))\n",
    "\n",
    "    # put all zero values to nan and do not plot nan\n",
    "    try:\n",
    "        data[data==0]=np.nan\n",
    "    except:\n",
    "        pass              \n",
    "            \n",
    "    fig = plt.figure(figsize=(18, 16))\n",
    "    ax = fig.add_subplot(1,2,1)\n",
    "    cax1=ax.imshow(np.abs(data), vmin=datamin, vmax=datamax,\n",
    "                   cmap='gray', interpolation='nearest')\n",
    "    ax.set_title(title + \" (amplitude)\")\n",
    "    if draw_colorbar is not None:\n",
    "        cbar1 = fig.colorbar(cax1,orientation=colorbar_orientation)\n",
    "    ax.set_aspect(aspect)\n",
    "\n",
    "    ax = fig.add_subplot(1,2,2)\n",
    "    cax2 =ax.imshow(np.angle(data), cmap='rainbow',\n",
    "                            interpolation='nearest')\n",
    "    ax.set_title(title + \" (phase [rad])\")\n",
    "    if draw_colorbar is not None:\n",
    "        cbar2 = fig.colorbar(cax2,orientation=colorbar_orientation)\n",
    "    ax.set_aspect(aspect)\n",
    "    plt.show() \n",
    "    \n",
    "    # clearing the data\n",
    "    data = None"
   ]
  },
  {
   "cell_type": "markdown",
   "metadata": {
    "heading_collapsed": true,
    "hidden": true
   },
   "source": [
    "## 1. Overview of the tutorial input dataset"
   ]
  },
  {
   "cell_type": "markdown",
   "metadata": {
    "hidden": true
   },
   "source": [
    "Let us first take a look at the dataset. For our dataset we are focusing on Descending track 71 and acquisitions dates of 2020-05-11 and 2020-05-17. \n",
    "\n",
    "More information on the event can be found on USGS's Monte Cristo Range Earthquake page [here](https://earthquake.usgs.gov/earthquakes/eventpage/nn00725272/executive) \n",
    "\n",
    "You can see the scenes of interest on ASF's Vertex page [here](https://search.asf.alaska.edu/#/?zoom=6.9117542264702365&center=-117.963049,38.048229&polygon=POLYGON((-118.2093%2038.0347,-117.6875%2038.0347,-117.6875%2038.3268,-118.2093%2038.3268,-118.2093%2038.0347))&path=71-71&start=2020-05-11T00:00:00Z&end=2020-05-17T23:59:00Z&productTypes=SLC&resultsLoaded=true)\n",
    "\n",
    "The area of interest is captured by a single SLC on each pass and we shall use those in this tutorial. Even, if the event were to occur at an image boundary - all one would need to do is to download the multiple SLCs on the same track and topsApp.py will process and mosaic them for you."
   ]
  },
  {
   "cell_type": "markdown",
   "metadata": {},
   "source": [
    "**<font color=\"blue\">Note:<br>**\n",
    "    This earthquake was really well imaged on multiple tracks and with 6-day temporal sampling. If interested, feel free to process the other tracks - 64 and 144. We encourage students to do this to understand the impact of imaging geometry and projection of deformation in line-of-sight direction</font>"
   ]
  },
  {
   "cell_type": "markdown",
   "metadata": {
    "heading_collapsed": true,
    "hidden": true
   },
   "source": [
    "### 1.1 Background on TOPS mode"
   ]
  },
  {
   "cell_type": "markdown",
   "metadata": {
    "hidden": true
   },
   "source": [
    "The TOPS acquisition strategy is different than conventional stripmap mode. TOPS stands for Terrain Observation with Progressive Scans. As the name indicates, the radar sensor performs a scan of the surface by electronically steering the antenna beam from a backward-pointing along-track direction to a forward-pointing along-track direction for a fixed range swath (also called a subswath).\n",
    "![title](support_docs/tops_mode.png)\n",
    "After a successful scan at that range extent, the antenna beam is electronically rolled back to its initial position, the range swath is electronically directed outward to a new area to increase coverage, and the next scan is made from backward to forward along track at this new range swath. After a third scan at a third range swath, the entire process is repeated over and over to create a continuous image as the satellite flies along.  The timing of the scans is such that there is a small geographic overlap between successive scans at a given range to ensure continuous coverage. Each scan at a given range swath is known as a \"burst\".  When inspecting one of the downloaded SLC products you will note that data are provided in 3 individual subswaths (IW1, IW2, IW3) each with a set of bursts. All together they form a Sentinel-1 frame, typically ~250 x 250 km in size. The bursts are approximately 20 km in length and overlap by 2 km. Due to the TOPS acquisition mode, the overlap region in successive bursts is seen from two different directions (forward looking and backward looking).\n",
    "![title](support_docs/tops.png)\n",
    "The ESA website provides detailed background information on Sentinel-1 products and technical information of the TOPS sensors. Whenever during the tutorial you are waiting for the processing to complete, you could explore their webpage at https://sentinel.esa.int/web/sentinel/user-guides/sentinel-1-sar"
   ]
  },
  {
   "cell_type": "markdown",
   "metadata": {
    "heading_collapsed": true,
    "hidden": true
   },
   "source": [
    "### 1.2 SLC download"
   ]
  },
  {
   "cell_type": "markdown",
   "metadata": {
    "hidden": true
   },
   "source": [
    "The ASF vertex page (https://www.asf.alaska.edu/sentinel/) and the SSARA GUI (http://web-services.unavco.org/brokered/ssara/gui) both offer a GUI to visually search for available Sentinel-1 data over your area of interest. Once you have found your data, you can download it from the GUI. ASF provides a bulk-download python script.\n",
    "\n",
    "Alternatively, you can use SSARA from command line."
   ]
  },
  {
   "cell_type": "code",
   "execution_count": 2,
   "metadata": {
    "hidden": true
   },
   "outputs": [
    {
     "name": "stdout",
     "output_type": "stream",
     "text": [
      "Cloning into 'SSARA'...\n",
      "remote: Enumerating objects: 9, done.\u001b[K\n",
      "remote: Counting objects: 100% (9/9), done.\u001b[K\n",
      "remote: Compressing objects: 100% (8/8), done.\u001b[K\n",
      "remote: Total 219 (delta 2), reused 8 (delta 1), pack-reused 210\u001b[K\n",
      "\u001b[KReceiving objects: 100% (219/219), 1.22 MiB | 2.22 MiB/s, done.\n",
      "\u001b[KResolving deltas: 100% (103/103), done.\n"
     ]
    }
   ],
   "source": [
    "!git clone https://github.com/bakerunavco/SSARA.git  "
   ]
  },
  {
   "cell_type": "markdown",
   "metadata": {
    "hidden": true
   },
   "source": [
    "Running the client without any options will print the help message and describe the options.  Some usage examples are given in the help as well. "
   ]
  },
  {
   "cell_type": "code",
   "execution_count": 3,
   "metadata": {
    "hidden": true
   },
   "outputs": [
    {
     "name": "stdout",
     "output_type": "stream",
     "text": [
      "Usage: ssara_federated_query.py [options]\r\n",
      "\r\n",
      "Command line client for searching with the SSARA Federated API, \r\n",
      "creating KMLs, and downloading data.  See the options and \r\n",
      "descriptions below for details and usage examples.\r\n",
      "\r\n",
      "For questions or comments, contact Scott Baker: baker@unavco.org\r\n",
      "    \r\n",
      "Options:\r\n",
      "  --version             show program's version number and exit\r\n",
      "  -h, --help            show this help message and exit\r\n",
      "\r\n",
      "  Query Parameters:\r\n",
      "    These options are used for the API query.  Use options to limit what\r\n",
      "    is returned by the search. These options act as a way to filter the\r\n",
      "    results and narrow down the search results.\r\n",
      "\r\n",
      "    -p <ARG>, --platform=<ARG>\r\n",
      "                        List of platforms (ie ALOS, ENVISAT, ERS-2...\r\n",
      "    -a <ARG>, --absoluteOrbit=<ARG>\r\n",
      "                        Absolute orbit (single orbit or list)\r\n",
      "    -r <ARG>, --relativeOrbit=<ARG>\r\n",
      "                        Relative Orbit (ie track or path)\r\n",
      "    -i <ARG>, --intersectsWith=<ARG>\r\n",
      "                        WKT format POINT,LINE, or POLYGON\r\n",
      "    -f <ARG>, --frame=<ARG>\r\n",
      "                        frame(s) (single frame or as a list or range)\r\n",
      "    -s <ARG>, --start=<ARG>\r\n",
      "                        start date for acquisitions\r\n",
      "    -e <ARG>, --end=<ARG>\r\n",
      "                        end date for acquisitions\r\n",
      "    --beamMode=<ARG>    list of beam modes\r\n",
      "    --beamSwath=<ARG>   list of swaths: S1, S2, F1, F4...\r\n",
      "    --flightDirection=<ARG>\r\n",
      "                        Flight Direction (A or D, default is both)\r\n",
      "    --lookDirection=<ARG>\r\n",
      "                        Look Direction (L or R, default is both)\r\n",
      "    --polarization=<ARG>\r\n",
      "                        single or as a list\r\n",
      "    --collectionName=<ARG>\r\n",
      "                        single collection or list of collections\r\n",
      "    --processingLevel=PROCESSINGLEVEL\r\n",
      "                        Processing Level of data: L0, L1, L1.0, SLC...\r\n",
      "    --maxResults=<ARG>  maximum number of results to return (from each\r\n",
      "                        archive)\r\n",
      "    --minBaselinePerp=<ARG>\r\n",
      "                        min perpendicular baseline of granule\r\n",
      "    --maxBaselinePerp=<ARG>\r\n",
      "                        max perpendicular baseline of granule\r\n",
      "    --minFaradayRotation=<ARG>\r\n",
      "                        min faraday rotation of granule\r\n",
      "    --maxFaradayRotation=<ARG>\r\n",
      "                        max faraday rotation of granule\r\n",
      "    --minDoppler=<ARG>  min doppler of granule\r\n",
      "    --maxDoppler=<ARG>  max doppler of granule\r\n",
      "    --minInsarStackSize=<ARG>\r\n",
      "                        min stack size\r\n",
      "    --maxInsarStackSize=<ARG>\r\n",
      "                        max stack size\r\n",
      "\r\n",
      "  Result Options:\r\n",
      "    These options handle the results returned by the API query\r\n",
      "\r\n",
      "    --kml               create a KML of query\r\n",
      "    --kmlName=<ARG>     Filename for KML output\r\n",
      "    --csv               create a CSV of query\r\n",
      "    --print             print results to screen\r\n",
      "    --download          download the data\r\n",
      "    --parallel=<ARG>    number of scenes to download in parallel (default=1)\r\n",
      "    --monthMin=<ARG>    minimum integer month\r\n",
      "    --monthMax=<ARG>    maximum integer month\r\n",
      "    --noswath           Enforce first_frame==final_frame (i.e. not a swath)\r\n",
      "    --dem               OT call for DEM\r\n",
      "    --asfResponseTimeout=<ARG>\r\n",
      "                        Set the timeout length for ASF API response (SSARA\r\n",
      "                        server defaults to 15 sec.)\r\n",
      "    --s1orbits          Download S1 orbits from ESA for the result set\r\n",
      "\r\n",
      "Usage Examples:\r\n",
      "  These will do the search and create a KML:\r\n",
      "    ssara_federated_query.py --platform=ENVISAT -r 170 -f 2925 --kml\r\n",
      "    ssara_federated_query.py --platform=ENVISAT -r 170,392 -f 2925,657-693 -s 2003-01-01 -e 2008-01-01 --kml\r\n",
      "    ssara_federated_query.py --platform=ENVISAT,ERS-1,ERS-2 -r 170 -f 2925 --collectionName=\"WInSAR ESA,EarthScope ESA\" --kml\r\n",
      "    ssara_federated_query.py --platform=ENVISAT --intersectsWith='POLYGON((-118.3 33.7, -118.3 33.8, -118.0 33.8, -118.0 33.7, -118.3 33.7))' --kml\r\n",
      "    \r\n",
      "  To download data, add the --download option and add your user credentials to the password_config.py file\r\n",
      "    ssara_federated_query.py --platform=ENVISAT -r 170 -f 2925 --download \r\n",
      "    ssara_federated_query.py --platform=ENVISAT -r 170,392 -f 2925,657-693 -s 2003-01-01 -e 2008-01-01 --download \r\n",
      "    ssara_federated_query.py --platform=ENVISAT,ERS-1,ERS-2 -r 170 -f 2925 --collection=\"WInSAR ESA,EarthScope ESA\" --download \r\n",
      "\r\n",
      "  UAVSAR flight line is mapped to relative orbit in the API. Also the default for the command line client is L0/L1.0 so you will\r\n",
      "  need to use the \"processingLevel\" option, either set it to blank for everything or to something specific.  \r\n",
      "    ssara_federated_query.py --platform=UAVSAR --relativeOrbit=05901 --processingLevel='' --intersectsWith='POINT(-155.3 19.4)'\r\n",
      "    ssara_federated_query.py --platform=UAVSAR --relativeOrbit=05901 --processingLevel='INTERFEROMETRY' --intersectsWith='POINT(-155.3 19.4)'\r\n"
     ]
    }
   ],
   "source": [
    "!SSARA/ssara_federated_query.py  "
   ]
  },
  {
   "cell_type": "markdown",
   "metadata": {
    "hidden": true
   },
   "source": [
    "Take some time to perform some example searches in a terminal window to get a feel from how the client works.\n",
    "<br>\n",
    "<div class=\"alert alert-warning\">\n",
    "<b>TIP:</b> \n",
    "In case you are not sure about some of the SSARA API fields (e.g. the platform name, the polygon etc.), you can experiment with the SSARA GUI first. One potential solution is to draw a polygon without specifying much additional information, see what the search table returns for keywords, and use those on the command line API. \n",
    "</div>\n",
    "\n",
    "The following command provides the necessary filters for the search and returns the two scenes we need for processing:"
   ]
  },
  {
   "cell_type": "code",
   "execution_count": 4,
   "metadata": {
    "hidden": true
   },
   "outputs": [
    {
     "name": "stdout",
     "output_type": "stream",
     "text": [
      "Running SSARA API Query:  https://web-services.unavco.org/brokered/ssara/api/sar/search?platform=sentinel-1B%2Csentinel-1A&relativeOrbit=71&start=2020-05-11&end=2020-05-18&processingLevel=L0%2CL1.0%2CSLC&intersectsWith=POLYGON%28%28-118.2093+38.0347%2C-117.6875+38.0347%2C-117.6875+38.3268%2C-118.2093+38.3268%2C-118.2093+38.0347%29%29\n",
      "SSARA API query: 5.301189 seconds\n",
      "Found 2 scenes\n",
      "wget -O dem.tif \"http://ot-data1.sdsc.edu:9090/otr/getdem?north=39.852557&south=36.983995&east=-114.971208&west=-118.624800&demtype=SRTMGL1_E\"\n",
      "gdal_translate -of GMT -ot Int16 -projwin -118.624800 39.852557 -114.971208 36.983995 /vsicurl/https://cloud.sdsc.edu/v1/AUTH_opentopography/Raster/SRTM_GL1_Ellip/SRTM_GL1_Ellip_srtm.vrt dem.grd\n",
      "ASF,Sentinel-1A,32518,2020-05-11T13:51:17.000000,2020-05-11T13:51:44.000000,71,2821,2821,IW,None,DESCENDING,R,VV+VH,https://datapool.asf.alaska.edu/SLC/SA/S1A_IW_SLC__1SDV_20200511T135117_20200511T135144_032518_03C421_7768.zip\n",
      "ASF,Sentinel-1B,21622,2020-05-17T13:50:26.000000,2020-05-17T13:50:56.000000,71,2810,2810,IW,None,DESCENDING,R,VV+VH,https://datapool.asf.alaska.edu/SLC/SB/S1B_IW_SLC__1SDV_20200517T135026_20200517T135056_021622_0290CB_99E2.zip\n"
     ]
    }
   ],
   "source": [
    "!SSARA/ssara_federated_query.py --platform=sentinel-1B,sentinel-1A \\\n",
    "--relativeOrbit=71 -s 2020-05-11 -e 2020-05-18 \\\n",
    "--intersectsWith='POLYGON((-118.2093 38.0347,-117.6875 38.0347,-117.6875 38.3268,-118.2093 38.3268,-118.2093 38.0347))'\\\n",
    "--print\n"
   ]
  },
  {
   "cell_type": "markdown",
   "metadata": {
    "hidden": true
   },
   "source": [
    "By changing the **--print** to **--download** you can download the files once you set up your password and username for SSARA in the **password_config.py** file.\n",
    "\n",
    "Below we include a small python script to download the data which allows you to directly parse your pasword and username at the top of the function (this will take a few minutes for each file)."
   ]
  },
  {
   "cell_type": "code",
   "execution_count": 8,
   "metadata": {
    "hidden": true
   },
   "outputs": [
    {
     "name": "stdout",
     "output_type": "stream",
     "text": [
      "wget https://datapool.asf.alaska.edu/SLC/SA/S1A_IW_SLC__1SDV_20200511T135117_20200511T135144_032518_03C421_7768.zip -P /home/jovyan/nisar-on-demand-use-cases/data/slcs -nc\n",
      "wget https://datapool.asf.alaska.edu/SLC/SB/S1B_IW_SLC__1SDV_20200517T135026_20200517T135056_021622_0290CB_99E2.zip -P /home/jovyan/nisar-on-demand-use-cases/data/slcs -nc\n"
     ]
    }
   ],
   "source": [
    "# Update this with your NASA Earthdata login to download SLC data\n",
    "# Earthdata login is in the .netrc file\n",
    "# ASF_USER = \"foo\"\n",
    "# ASF_PASS = \"bar\"\n",
    "\n",
    "files = ['https://datapool.asf.alaska.edu/SLC/SA/S1A_IW_SLC__1SDV_20200511T135117_20200511T135144_032518_03C421_7768.zip',\n",
    "         'https://datapool.asf.alaska.edu/SLC/SB/S1B_IW_SLC__1SDV_20200517T135026_20200517T135056_021622_0290CB_99E2.zip']\n",
    "         \n",
    "# if len(ASF_USER)==0 or len(ASF_PASS)==0:\n",
    "    # raise Exception(\"Specifiy your ASF password and user (earthdata log-in)\")\n",
    "    \n",
    "for file in files:\n",
    "    filename = os.path.basename(file)\n",
    "    \n",
    "    if not os.path.exists(os.path.join(slc_dir,filename)):\n",
    "        # cmd = \"wget {0} --user={1} --password={2} -P {3} -nc\".format(file, ASF_USER, ASF_PASS, slc_dir)\n",
    "        cmd = \"wget {0} -P {1} -nc\".format(file, slc_dir)\n",
    "        print(cmd)\n",
    "        os.system(cmd)\n",
    "    else:\n",
    "        print(filename + \" already exists. Skipping download ..\")"
   ]
  },
  {
   "cell_type": "markdown",
   "metadata": {
    "hidden": true
   },
   "source": [
    "Files size are 4+GB each."
   ]
  },
  {
   "cell_type": "code",
   "execution_count": 9,
   "metadata": {
    "hidden": true
   },
   "outputs": [
    {
     "name": "stdout",
     "output_type": "stream",
     "text": [
      "total 8.7G\r\n",
      "-rw-r--r-- 1 jovyan users 4.2G May 11 17:40 S1A_IW_SLC__1SDV_20200511T135117_20200511T135144_032518_03C421_7768.zip\r\n",
      "-rw-r--r-- 1 jovyan users 4.6G May 18 04:28 S1B_IW_SLC__1SDV_20200517T135026_20200517T135056_021622_0290CB_99E2.zip\r\n"
     ]
    }
   ],
   "source": [
    "! ls -lh {slc_dir}"
   ]
  },
  {
   "cell_type": "markdown",
   "metadata": {
    "heading_collapsed": true,
    "hidden": true
   },
   "source": [
    "#### 1.2.1 Download issues"
   ]
  },
  {
   "cell_type": "markdown",
   "metadata": {
    "hidden": true
   },
   "source": [
    "In case the download does not work, we have pre-downloaded the required files. Run the routine below to copy these files into your work directory."
   ]
  },
  {
   "cell_type": "code",
   "execution_count": 10,
   "metadata": {
    "hidden": true
   },
   "outputs": [
    {
     "name": "stdout",
     "output_type": "stream",
     "text": [
      "S1A_IW_SLC__1SDV_20200511T135117_20200511T135144_032518_03C421_7768.zip already exists\n",
      "S1B_IW_SLC__1SDV_20200517T135026_20200517T135056_021622_0290CB_99E2.zip already exists\n"
     ]
    }
   ],
   "source": [
    "files = ['https://datapool.asf.alaska.edu/SLC/SA/S1A_IW_SLC__1SDV_20200511T135117_20200511T135144_032518_03C421_7768.zip',\n",
    "         'https://datapool.asf.alaska.edu/SLC/SB/S1B_IW_SLC__1SDV_20200517T135026_20200517T135056_021622_0290CB_99E2.zip']\n",
    "         \n",
    "for file in files:\n",
    "    filename = os.path.basename(file)  \n",
    "    localfilename = os.path.join(slc_dir, filename)\n",
    "    if not os.path.exists(localfilename):  \n",
    "        copy_from_bucket(os.path.join(\"TOPS\", filename),\n",
    "                        localfilename)\n",
    "    else:\n",
    "        print(filename + \" already exists\")"
   ]
  },
  {
   "cell_type": "markdown",
   "metadata": {
    "hidden": true
   },
   "source": [
    "File sizes are around 4+ GB each"
   ]
  },
  {
   "cell_type": "markdown",
   "metadata": {},
   "source": [
    "#### 1.2.2 Set/Reset to home directory\n",
    "\n",
    "This step is required each time the notebook is restarted and the slc download is skipped.  It can also be run in the initial run, though it is not needed since the directory is reset during the slc download process."
   ]
  },
  {
   "cell_type": "code",
   "execution_count": 11,
   "metadata": {},
   "outputs": [],
   "source": [
    "os.chdir(tutorial_home_dir)"
   ]
  },
  {
   "cell_type": "code",
   "execution_count": 12,
   "metadata": {
    "hidden": true
   },
   "outputs": [
    {
     "name": "stdout",
     "output_type": "stream",
     "text": [
      "total 8.7G\r\n",
      "-rw-r--r-- 1 jovyan users 4.2G May 11 17:40 S1A_IW_SLC__1SDV_20200511T135117_20200511T135144_032518_03C421_7768.zip\r\n",
      "-rw-r--r-- 1 jovyan users 4.6G May 18 04:28 S1B_IW_SLC__1SDV_20200517T135026_20200517T135056_021622_0290CB_99E2.zip\r\n"
     ]
    }
   ],
   "source": [
    "!ls -lh {slc_dir}"
   ]
  },
  {
   "cell_type": "markdown",
   "metadata": {
    "heading_collapsed": true,
    "hidden": true
   },
   "source": [
    "### 1.3 SLC filenaming convention"
   ]
  },
  {
   "cell_type": "markdown",
   "metadata": {
    "hidden": true
   },
   "source": [
    "TOPS SLC product files delivered from ESA are zip archives. When unpacked the zip extension will be replaced by SAFE. The products are therefore also frequently called SAFE files. topsApp.py can read the data from either a zip file or a SAFE file. To limit disk usage, it is recommended to not unzip the individual files.\n",
    "\n",
    "The zip or SAFE filenames provide information on the product type, the polarization, and the start and stop acquisition time. For example: S1A_IW_SLC__1SDV_20200511T135117_20200511T135144_032518_03C421_7768.zip\n",
    "- Type = slc\n",
    "- Polarization = Dual polarization\n",
    "- Date = 20200511\n",
    "- UTC time of acquisition = ~13:51\n",
    "- Sensing start for the acquisition was 20200511 at 13:51:17\n"
   ]
  },
  {
   "cell_type": "markdown",
   "metadata": {
    "heading_collapsed": true,
    "hidden": true
   },
   "source": [
    "### 1.3 Orbits download"
   ]
  },
  {
   "cell_type": "markdown",
   "metadata": {
    "hidden": true
   },
   "source": [
    "In addition to the **SAFE files**, **orbit files** and the **auxiliary instrument files** are required for ISCE processing. Both the orbit and instrument files are provided by ESA and can be downloaded at: https://qc.sentinel1.eo.esa.int/."
   ]
  },
  {
   "cell_type": "code",
   "execution_count": 13,
   "metadata": {},
   "outputs": [],
   "source": [
    "os.chdir(tutorial_home_dir)"
   ]
  },
  {
   "cell_type": "code",
   "execution_count": 14,
   "metadata": {},
   "outputs": [
    {
     "name": "stdout",
     "output_type": "stream",
     "text": [
      "Running SSARA API Query:  https://web-services.unavco.org/brokered/ssara/api/sar/search?platform=sentinel-1B%2Csentinel-1A&relativeOrbit=71&start=2020-05-11&end=2020-05-18&processingLevel=L0%2CL1.0%2CSLC&intersectsWith=POLYGON%28%28-118.2093+38.0347%2C-117.6875+38.0347%2C-117.6875+38.3268%2C-118.2093+38.3268%2C-118.2093+38.0347%29%29\n",
      "SSARA API query: 5.318402 seconds\n",
      "Found 2 scenes\n",
      "wget -O dem.tif \"http://ot-data1.sdsc.edu:9090/otr/getdem?north=39.852557&south=36.983995&east=-114.971208&west=-118.624800&demtype=SRTMGL1_E\"\n",
      "gdal_translate -of GMT -ot Int16 -projwin -118.624800 39.852557 -114.971208 36.983995 /vsicurl/https://cloud.sdsc.edu/v1/AUTH_opentopography/Raster/SRTM_GL1_Ellip/SRTM_GL1_Ellip_srtm.vrt dem.grd\n",
      "ASF,Sentinel-1A,32518,2020-05-11T13:51:17.000000,2020-05-11T13:51:44.000000,71,2821,2821,IW,None,DESCENDING,R,VV+VH,https://datapool.asf.alaska.edu/SLC/SA/S1A_IW_SLC__1SDV_20200511T135117_20200511T135144_032518_03C421_7768.zip\n",
      "ASF,Sentinel-1B,21622,2020-05-17T13:50:26.000000,2020-05-17T13:50:56.000000,71,2810,2810,IW,None,DESCENDING,R,VV+VH,https://datapool.asf.alaska.edu/SLC/SB/S1B_IW_SLC__1SDV_20200517T135026_20200517T135056_021622_0290CB_99E2.zip\n",
      "Downloading S1 orbit data, 1 at a time\n",
      "wget --no-check-certificate -c http://aux.sentinel1.eo.esa.int/POEORB/2020/06/06/S1B_OPER_AUX_POEORB_OPOD_20200606T110735_V20200516T225942_20200518T005942.EOF\n",
      "wget --no-check-certificate -c http://aux.sentinel1.eo.esa.int/POEORB/2020/05/31/S1A_OPER_AUX_POEORB_OPOD_20200531T120757_V20200510T225942_20200512T005942.EOF\n"
     ]
    }
   ],
   "source": [
    "!SSARA/ssara_federated_query.py --platform=sentinel-1B,sentinel-1A \\\n",
    "--relativeOrbit=71 -s \"2020-05-11\" -e \"2020-05-18\" \\\n",
    "--intersectsWith='POLYGON((-118.2093 38.0347,-117.6875 38.0347,-117.6875 38.3268,-118.2093 38.3268,-118.2093 38.0347))' \\\n",
    "--print --s1orbits"
   ]
  },
  {
   "cell_type": "code",
   "execution_count": 15,
   "metadata": {},
   "outputs": [],
   "source": [
    "from shutil import move\n",
    "# Move the orbits to orbit folder\n",
    "orb_files = glob.glob(\"*.EOF\")\n",
    "for orb in orb_files:\n",
    "    move(orb, os.path.join(orbit_dir, orb))"
   ]
  },
  {
   "cell_type": "code",
   "execution_count": 16,
   "metadata": {},
   "outputs": [
    {
     "name": "stdout",
     "output_type": "stream",
     "text": [
      "S1A_OPER_AUX_POEORB_OPOD_20200531T120757_V20200510T225942_20200512T005942.EOF\r\n",
      "S1B_OPER_AUX_POEORB_OPOD_20200606T110735_V20200516T225942_20200518T005942.EOF\r\n"
     ]
    }
   ],
   "source": [
    "!ls {orbit_dir}"
   ]
  },
  {
   "cell_type": "markdown",
   "metadata": {},
   "source": [
    "#### 1.3.1 If download fails"
   ]
  },
  {
   "cell_type": "markdown",
   "metadata": {},
   "source": [
    "We have pre-downloaded the precise orbit files for our test dataset. Run the routine below to copy these files into the orbits folder."
   ]
  },
  {
   "cell_type": "code",
   "execution_count": 17,
   "metadata": {
    "hidden": true
   },
   "outputs": [
    {
     "name": "stdout",
     "output_type": "stream",
     "text": [
      "S1A_OPER_AUX_POEORB_OPOD_20200531T120757_V20200510T225942_20200512T005942.EOF already exists\n",
      "S1B_OPER_AUX_POEORB_OPOD_20200606T110735_V20200516T225942_20200518T005942.EOF already exists\n"
     ]
    }
   ],
   "source": [
    "files = ['S1A_OPER_AUX_POEORB_OPOD_20200531T120757_V20200510T225942_20200512T005942.EOF',\n",
    "         'S1B_OPER_AUX_POEORB_OPOD_20200606T110735_V20200516T225942_20200518T005942.EOF']\n",
    "\n",
    "for file in files:\n",
    "    localorb = os.path.join(orbit_dir, file)\n",
    "    if not os.path.exists(localorb):\n",
    "        copy_from_bucket(os.path.join(\"TOPS\", file),\n",
    "                        localorb)\n",
    "        print(file + \" done\")\n",
    "    else:\n",
    "        print(file + \" already exists\")\n",
    "        \n",
    "os.chdir(tutorial_home_dir)"
   ]
  },
  {
   "cell_type": "markdown",
   "metadata": {
    "hidden": true
   },
   "source": [
    "Although Sentinel-1 restituted orbits (RESORB) are of good quality, it is recommended to use the precise orbits (POEORB) when available. Typically, precise orbits are available with a 15 to 20-day lag from the day of the acquisition."
   ]
  },
  {
   "cell_type": "markdown",
   "metadata": {},
   "source": [
    "### 1.4 Instrument calibration file"
   ]
  },
  {
   "cell_type": "markdown",
   "metadata": {},
   "source": [
    "Sentinel-1 SLCs are usually well calibrated products and in general, we don't have to deal with reading instrument calibration files. One exception is SLCs generated with **IPF version 002.36**. However, the number of such SLCs is well below 0.5% of the data and only impacts data from earlier in the mission in 2015. We do not need these files for our dataset. More information on how to download these files can be found in the example xml files included on the isce github page. These files are also included in \"support_docs\" folder here."
   ]
  },
  {
   "cell_type": "markdown",
   "metadata": {
    "heading_collapsed": true,
    "hidden": true
   },
   "source": [
    "## 2. topsApp.py input variables"
   ]
  },
  {
   "cell_type": "markdown",
   "metadata": {
    "hidden": true
   },
   "source": [
    "Like the other apps in ISCE, the input variables to topsApp.py are controlled through an app xml file. All apps in ISCE have example xml files included in the ISCE distribution. You can find these under [**examples/input_files**](https://github.com/isce-framework/isce2/tree/main/examples/input_files) on the github repo. For convenience, we have included the *topsApp.xml* and *reference_TOPS_SENTINEL1.xml* example in the support_docs folder. "
   ]
  },
  {
   "cell_type": "markdown",
   "metadata": {
    "heading_collapsed": true,
    "hidden": true
   },
   "source": [
    "### 2.1 Required versus optional topsApp.py inputs"
   ]
  },
  {
   "cell_type": "markdown",
   "metadata": {
    "hidden": true
   },
   "source": [
    "The example *topsApp.xml* contains all input variables with a description. Let us first read this file. You can open the file by launching a **terminal** and using your preferred editor to open the file. For vim type:\n",
    "```\n",
    "    vim support_docs/example/topsApp.xml\n",
    "    vim support_docs/example/reference_TOPS_SENTINEL1.xml\n",
    "```\n",
    "When it comes to the actual processing with topsApp.py, you do not need to specify all the input variables as shown in the example topsApp.xml. Defaults will be assumed when properties are not set by the user. You can get a simple table overview of the required variables by calling the help of topsApp.py."
   ]
  },
  {
   "cell_type": "code",
   "execution_count": 18,
   "metadata": {
    "hidden": true
   },
   "outputs": [
    {
     "name": "stdout",
     "output_type": "stream",
     "text": [
      "Using default ISCE Path: /opt/isce2/isce\n",
      "This is the Open Source version of ISCE.\n",
      "Some of the workflows depend on a separate licensed package.\n",
      "To obtain the licensed package, please make a request for ISCE\n",
      "through the website: https://download.jpl.nasa.gov/ops/request/index.cfm.\n",
      "Alternatively, if you are a member, or can become a member of WinSAR\n",
      "you may be able to obtain access to a version of the licensed sofware at\n",
      "https://winsar.unavco.org/software/isce\n",
      "2020-11-06 01:03:59,833 - isce.insar - INFO - ISCE VERSION = 2.3, RELEASE_SVN_REVISION = 2531,RELEASE_DATE = 20190112, CURRENT_SVN_REVISION = 2531\n",
      "ISCE VERSION = 2.3, RELEASE_SVN_REVISION = 2531,RELEASE_DATE = 20190112, CURRENT_SVN_REVISION = 2531\n",
      "None\n",
      "The currently supported sensors are:  ['SENTINEL1']\n",
      "\n",
      "Usages: \n",
      "topsApp.py <input-file.xml>\n",
      "topsApp.py --steps\n",
      "topsApp.py --help\n",
      "topsApp.py --help --steps\n",
      "\n",
      "\n",
      "See the table of configurable parameters listed \n",
      "below for a list of parameters that may be specified in the\n",
      "input file.  See example input xml files in the isce 'examples'\n",
      "directory.  Read about the input file in the ISCE.pdf document.\n",
      "\n",
      "The user configurable inputs are given in the following table.\n",
      "Those inputs that are of type 'component' are also listed in\n",
      "table of facilities below with additional information.\n",
      "To configure the parameters, enter the desired value in the\n",
      "input file using a property tag with name = to the name\n",
      "given in the table.\n",
      "name                        type       mandatory  doc                           \n",
      "=========================== ========== ========== ==============================\n",
      "ampcormargin                int        False      Ampcor margin offset. Used in \n",
      "                                                  runDenseOffsets.              \n",
      "ampcoroversamplingfactor    int        False      Ampcor oversampling factor.   \n",
      "                                                  Used in runDenseOffsets.      \n",
      "ampcorsearchwindowheight    int        False      Ampcor search window size     \n",
      "                                                  height. Used in               \n",
      "                                                  runDenseOffsets.              \n",
      "ampcorsearchwindowwidth     int        False      Ampcor search window size     \n",
      "                                                  width. Used in                \n",
      "                                                  runDenseOffsets.              \n",
      "ampcorskipheight            int        False      Ampcor skip down height. Used \n",
      "                                                  in runDenseOffsets.           \n",
      "ampcorskipwidth             int        False      Ampcor skip across width. Used\n",
      "                                                  in runDenseOffsets.           \n",
      "ampcorwindowheight          int        False      Ampcor main window size       \n",
      "                                                  height. Used in               \n",
      "                                                  runDenseOffsets.              \n",
      "ampcorwindowwidth           int        False      Ampcor main window size width.\n",
      "                                                  Used in runDenseOffsets.      \n",
      "applypolynomialfitbeforefil bool       False      N/A                           \n",
      "teringionospherephase                                                           \n",
      "azimuthlooks                int        False      N/A                           \n",
      "azimuthshift                int        False      Ampcor gross offset down. Used\n",
      "                                                  in runDenseOffsets.           \n",
      "correctphaseerrorcausedbyio int        False      N/A                           \n",
      "nosphereazimuthshift                                                            \n",
      "demfilename                 str        False      Filename of the Digital       \n",
      "                                                  Elevation Model (DEM)         \n",
      "demstitcher                 component  False      Object that based on the frame\n",
      "                                                  bounding boxes creates a DEM  \n",
      "dodenseoffsets              bool       False      Perform dense offset          \n",
      "                                                  estimation                    \n",
      "doesd                       bool       False      Perform ESD estimation        \n",
      "dointerferogram             bool       False      Perform interferometry. Set to\n",
      "                                                  false to skip insar steps.    \n",
      "doionospherecorrection      bool       False      N/A                           \n",
      "dounwrap                    bool       False      True if unwrapping is desired.\n",
      "                                                  To be unsed in combination    \n",
      "                                                  with UNWRAPPER_NAME.          \n",
      "dounwrap2stage              bool       False      True if unwrapping is desired.\n",
      "                                                  To be unsed in combination    \n",
      "                                                  with UNWRAPPER_NAME.          \n",
      "endionospherestep           str        False      N/A                           \n",
      "esdazimuthlooks             int        False      Number of azimuth looks for   \n",
      "                                                  overlap IFGs                  \n",
      "esdcoherencethreshold       float      False      ESD coherence threshold       \n",
      "esdrangelooks               int        False      Number of range looks for     \n",
      "                                                  overlap IFGs                  \n",
      "extraesdcycles              float      False      Extra ESD cycles to interpret \n",
      "                                                  overlap phase                 \n",
      "family                      str        False      Instance family name          \n",
      "filternullfactor            float      False      NULL factor to use in         \n",
      "                                                  filtering offset fields to    \n",
      "                                                  avoid numpy type issues.      \n",
      "filterstrength              float      False      N/A                           \n",
      "filterwindowsize            int        False      Window size for median_filter.\n",
      "geocodeboundingbox          float      False      Bounding box for geocoding -  \n",
      "                                                  South, North, West, East in   \n",
      "                                                  degrees                       \n",
      "geocodedemfilename          str        False      Filename of the DEM for       \n",
      "                                                  geocoding                     \n",
      "geocodelist                 str        False      List of products to geocode.  \n",
      "heightofionospherelayerinkm float      False      N/A                           \n",
      "maximumwindowsizeforfilteri int        False      N/A                           \n",
      "ngionosphereazimuthshift                                                        \n",
      "maximumwindowsizeforfilteri int        False      N/A                           \n",
      "ngionospherephase                                                               \n",
      "minimumwindowsizeforfilteri int        False      N/A                           \n",
      "ngionosphereazimuthshift                                                        \n",
      "minimumwindowsizeforfilteri int        False      N/A                           \n",
      "ngionospherephase                                                               \n",
      "name                        str        False      Instance name                 \n",
      "numberofazimuthlooksatfirst int        False      N/A                           \n",
      "stageforionospherephaseunwr                                                     \n",
      "apping                                                                          \n",
      "numberofrangelooksatfirstst int        False      N/A                           \n",
      "ageforionospherephaseunwrap                                                     \n",
      "ping                                                                            \n",
      "offsetgeocodelist           str        False      List of offset-specific files \n",
      "                                                  to geocode.                   \n",
      "offsetsnrthreshold          float      False      Offset SNR threshold          \n",
      "pickledumpdirectory         str        False      If steps is used, the         \n",
      "                                                  directory in which to store   \n",
      "                                                  pickle objects.               \n",
      "pickleloaddirectory         str        False      If steps is used, the         \n",
      "                                                  directory from which to       \n",
      "                                                  retrieve pickle objects.      \n",
      "rangelooks                  int        False      N/A                           \n",
      "rangeshift                  int        False      Ampcor gross offset across.   \n",
      "                                                  Used in runDenseOffsets.      \n",
      "reference                   component  True       Reference raw data component  \n",
      "regionofinterest            float      False      User defined area to crop in  \n",
      "                                                  SNWE                          \n",
      "renderer                    str        True       Format in which the data is   \n",
      "                                                  serialized when using steps.  \n",
      "                                                  Options are xml (default) or  \n",
      "                                                  pickle.                       \n",
      "rununwrapper                component  False      Unwrapping module             \n",
      "rununwrapper2stage          component  False      Unwrapping module             \n",
      "secondary                   component  True       Secondary raw data component  \n",
      "sensorname                  str        True       Sensor name                   \n",
      "snrthresholdfactor          float      False      SNR Threshold factor used in  \n",
      "                                                  filtering offset field        \n",
      "                                                  objects.                      \n",
      "solver_2stage               str        False      Linear Programming Solver for \n",
      "                                                  2Stage; Options: pulp, gurobi,\n",
      "                                                  glpk; Used only for Redundant \n",
      "                                                  Arcs                          \n",
      "startionospherestep         str        False      N/A                           \n",
      "swaths                      int        False      Swaths to process             \n",
      "topsproc                    component  False      TopsProc object               \n",
      "totalnumberofazimuthlooksin int        False      N/A                           \n",
      "theionosphereprocessing                                                         \n",
      "totalnumberofrangelooksinth int        False      N/A                           \n",
      "eionosphereprocessing                                                           \n",
      "unwrapper2stagename         str        False      2 Stage Unwrapping method to  \n",
      "                                                  use. Available: MCF, REDARC0, \n",
      "                                                  REDARC1, REDARC2              \n",
      "unwrappername               str        False      Unwrapping method to use. To  \n",
      "                                                  be used in combination with   \n",
      "                                                  UNWRAP.                       \n",
      "usegpu                      bool       False      Allow App to use GPU when     \n",
      "                                                  available                     \n",
      "usehighresolutiondemonly    int        False      If True and a dem is not      \n",
      "                                                  specified in input, it will   \n",
      "                                                  only download the SRTM highest\n",
      "                                                  resolution dem if it is       \n",
      "                                                  available and fill the missing\n",
      "                                                  portion with null values      \n",
      "                                                  (typically -32767).           \n",
      "usevirtualfiles             bool       False      Use virtual files when        \n",
      "                                                  possible to save space        \n",
      "\n",
      "\n",
      "The configurable facilities are given in the following table.\n",
      "Enter the component parameter values for any of these facilities in the\n",
      "input file using a component tag with name = to the name given in\n",
      "the table. The configurable parameters for a facility are entered with \n",
      "property tags inside the component tag. Examples of the configurable\n",
      "parameters are available in the examples/inputs directory.\n",
      "For more help on a given facility run\n",
      "iscehelp.py -t type\n",
      "where type (if available) is the second entry in the table\n",
      "\n",
      "name                 type           \n",
      "                                    \n",
      "==================== ===============\n",
      "demstitcher          DataManager    \n",
      "reference            GRDSensor      \n",
      "rununwrapper         N/A            \n",
      "rununwrapper2stage   N/A            \n",
      "secondary            GRDSensor      \n",
      "topsproc             N/A            \n"
     ]
    }
   ],
   "source": [
    "!/opt/isce2/isce/applications/topsApp.py --help"
   ]
  },
  {
   "cell_type": "markdown",
   "metadata": {
    "hidden": true
   },
   "source": [
    "From the table, you can see that the **reference** and **secondary** components are to be specified. This can be done directly with its specific properties in the topsApp.xml, or alternatively, one can point to a dedicated xml file for the **reference** and **secondary**, each of which contain their individual properties. The required properties for the reference and secondary should at least include orbit information as \"orbit directory\" and a list of products under the \"safe\" property tag. \n",
    "\n",
    "<br>\n",
    "<div class=\"alert alert-danger\">\n",
    "<b>POTENTIAL ISSUE:</b> \n",
    "If you specify a **region of interest**, make sure it covers at last two bursts. If this is not the case, ESD will fail in the processing as it is being estimated from the burst overlap region. You could always decide to only geocode a smaller region with the ** ** property.\n",
    "</div>"
   ]
  },
  {
   "cell_type": "markdown",
   "metadata": {
    "heading_collapsed": true,
    "hidden": true
   },
   "source": [
    "### 2.2 topsApp inputs for this tutorial"
   ]
  },
  {
   "cell_type": "markdown",
   "metadata": {
    "hidden": true
   },
   "source": [
    "Let us now examine the files *topsApp.xml*, *reference.xml* and *secondary.xml*  that will be used for this tutorial."
   ]
  },
  {
   "cell_type": "markdown",
   "metadata": {
    "heading_collapsed": true,
    "hidden": true
   },
   "source": [
    "#### 2.2.1 topsApp.xml"
   ]
  },
  {
   "cell_type": "markdown",
   "metadata": {
    "hidden": true
   },
   "source": [
    "```xml\n",
    "<?xml version=\"1.0\" encoding=\"UTF-8\"?>\n",
    "<topsApp>\n",
    "  <component name=\"topsinsar\">\n",
    "    <property name=\"Sensor name\">SENTINEL1</property>\n",
    "    <component name=\"reference\">\n",
    "        <catalog>reference.xml</catalog>\n",
    "    </component>\n",
    "    <component name=\"secondary\">\n",
    "        <catalog>secondary.xml</catalog>\n",
    "    </component>\n",
    "    <property name=\"swaths\">[3]</property>\n",
    "    <property name=\"range looks\">7</property>\n",
    "    <property name=\"azimuth looks\">3</property>\n",
    "    <property name=\"region of interest\">[37.98, 38.33, -118.21, -117.68]</property>\n",
    "    <property name=\"do unwrap\">True</property>\n",
    "    <property name=\"unwrapper name\">snaphu_mcf</property>\n",
    "    <property name=\"do denseoffsets\">True</property>\n",
    "      <!--<property name=\"demfilename\">path_to_your_dem</property>-->\n",
    "      <!--<property name=\"geocode demfilename\">path_to_your_dem</property>-->\n",
    "    <!--property name=\"geocode list\">['merged/phsig.cor', 'merged/filt_topophase.unw', 'merged/los.rdr', 'merged/topophase.flat', 'merged/filt_topophase.flat','merged/topophase.cor','merged/filt_topophase.unw.conncomp']</property>-->\n",
    "  </component>\n",
    "</topsApp>\n",
    "```\n",
    "\n",
    "\n",
    "- The reference and secondary components refer  to their own *.xml* files \n",
    "- The **swaths** property controls the number of swaths to be processed. As the earthquake occurred in the subswath three, we can directly limit the list to the single entry list [3] only.\n",
    "- We specify the **range looks** and **azimuth looks** to be 7 and 3. The range resolution for sentinel varies from near to far range, but is roughly 5m, while the azimuth resolution is approximately 15m, leading to a multi-looked product that will be approximately 35m by 45m.\n",
    "- By specifying the **region of interest** as [S, N, W, E] to only capture the extent of the earthquake, topsApp.py will only extract those bursts from subswath 3 needed to cover the earthquake.\n",
    "- By default, topsApp can download a DEM on the fly. By including **demFilename** a local DEM can be specified as input for the processing. For this notebook exercise, a sample 1-arc second DEM in WGS84 is provided in the DEM/DEM1 folder.\n",
    "- By default, the geocoding in topsApp.py is performed at the same sampling as processing DEM. However, a different DEM *to be used specifically for geocoding* can be specified using the **geocode demfilename** property. This is used for the case when data has been multilooked to order of 100m or greater and when geocoding to 30m is an overkill.\n",
    "- By default, no unwrapping is done. In order to turn it on, set the property **do unwrap** to *True*.\n",
    "- In case unwrapping is requested, the default unwrapping strategy to be applied is the *icu* unwrapping method. For this tutorial, we will use *snaphu_mcf*.\n",
    "- Lastly, we request topsApp.py to run the dense-offsets using the **do denseoffsets** property. By enabling this, topsApp.py will estimate the range and azimuth offsets on the amplitude of the reference and secondary SLC files.\n",
    "\n",
    "\n",
    "You will see that a few of the above properties are commented out in the xml files provided. We will come back to these later in the tutorial.  The commented properties have the form:\n",
    "```xml\n",
    "<!--<property> ... </property>--> \n",
    "```"
   ]
  },
  {
   "cell_type": "markdown",
   "metadata": {
    "heading_collapsed": true,
    "hidden": true
   },
   "source": [
    "#### 2.2.2 reference.xml and secondary.xml"
   ]
  },
  {
   "cell_type": "markdown",
   "metadata": {
    "hidden": true
   },
   "source": [
    "**reference.xml**\n",
    "``` xml\n",
    "<component name=\"reference\">\n",
    "    <property name=\"orbit directory\">../data/orbits</property>\n",
    "    <property name=\"output directory\">reference</property>\n",
    "    <property name=\"safe\">['../data/slcs/S1A_IW_SLC__1SDV_20200511T135117_20200511T135144_032518_03C421_7768.zip']</property>\n",
    "</component>\n",
    "```\n",
    "\n",
    "**secondary.xml**\n",
    "``` xml\n",
    "<component name=\"secondary\">\n",
    "    <property name=\"orbit directory\">../data/orbits</property>\n",
    "    <property name=\"output directory\">secondary</property>\n",
    "    <property name=\"safe\">['../data/slcs/S1B_IW_SLC__1SDV_20200517T135026_20200517T135056_021622_0290CB_99E2.zip']</property>\n",
    "</component>\n",
    "```\n",
    "\n",
    "- The value associated with the reference **safe** property corresponds to a list of SAFE files that are to be mosaiced when generating the interferogram. \n",
    "- The **orbit directory** points  to the directory where we have stored the POEORB (precise) orbits for this example.\n",
    "\n",
    "\n",
    "<br>\n",
    "<div class=\"alert alert-warning\">\n",
    "<b>SIGN CONVENTION:</b> \n",
    "By selecting the secondary to be the one acquired after the reference, and keeping in mind that the interferogram formation is reference* conj(secondary), then a positive phase value for the interferogram indicates the surface has moved towards the satellite between 2020-05-11 and 2020-05-17. \n",
    "</div>\n"
   ]
  },
  {
   "cell_type": "markdown",
   "metadata": {
    "heading_collapsed": true,
    "hidden": true
   },
   "source": [
    "## 3. topsApp.py processing steps"
   ]
  },
  {
   "cell_type": "markdown",
   "metadata": {
    "hidden": true
   },
   "source": [
    "The topsApp.py workflow can be called with a single command-line call to topsApp.py; by default it will run all the required processing steps with inputs pulled from the topsApp.xml file. Although this is an attractive feature, it is recommended to run topsApp.py with “steps” enabled. This will allow you to re-start the processing from a given processing step. If “steps” are not used, users must restart processing from the beginning of the workflow after fixing any downstream issues with the processing. \n",
    "\n",
    "The \"--help\" switch lists all the steps involved in the processing:"
   ]
  },
  {
   "cell_type": "code",
   "execution_count": 19,
   "metadata": {
    "hidden": true
   },
   "outputs": [
    {
     "name": "stdout",
     "output_type": "stream",
     "text": [
      "Using default ISCE Path: /opt/isce2/isce\n",
      "This is the Open Source version of ISCE.\n",
      "Some of the workflows depend on a separate licensed package.\n",
      "To obtain the licensed package, please make a request for ISCE\n",
      "through the website: https://download.jpl.nasa.gov/ops/request/index.cfm.\n",
      "Alternatively, if you are a member, or can become a member of WinSAR\n",
      "you may be able to obtain access to a version of the licensed sofware at\n",
      "https://winsar.unavco.org/software/isce\n",
      "2020-11-06 01:04:11,535 - isce.insar - INFO - ISCE VERSION = 2.3, RELEASE_SVN_REVISION = 2531,RELEASE_DATE = 20190112, CURRENT_SVN_REVISION = 2531\n",
      "ISCE VERSION = 2.3, RELEASE_SVN_REVISION = 2531,RELEASE_DATE = 20190112, CURRENT_SVN_REVISION = 2531\n",
      "None\n",
      "The currently supported sensors are:  ['SENTINEL1']\n",
      "\n",
      "Usages: \n",
      "topsApp.py <input-file.xml>\n",
      "topsApp.py --steps\n",
      "topsApp.py --help\n",
      "topsApp.py --help --steps\n",
      "\n",
      "None\n",
      "A description of the individual steps can be found in the README file\n",
      "and also in the ISCE.pdf document\n",
      "\n",
      "Command line options for steps processing are formed by\n",
      "combining the following three options as required:\n",
      "\n",
      "'--start=<step>', '--end=<step>', '--dostep=<step>'\n",
      "\n",
      "The step names are chosen from the following list:\n",
      "\n",
      "['startup', 'preprocess', 'computeBaselines', 'verifyDEM', 'topo']\n",
      "['subsetoverlaps', 'coarseoffsets', 'coarseresamp', 'overlapifg', 'prepesd']\n",
      "['esd', 'rangecoreg', 'fineoffsets', 'fineresamp', 'ion']\n",
      "['burstifg', 'mergebursts', 'filter', 'unwrap', 'unwrap2stage']\n",
      "['geocode', 'denseoffsets', 'filteroffsets', 'geocodeoffsets']\n",
      "\n",
      "If --start is missing, then processing starts at the first step.\n",
      "If --end is missing, then processing ends at the final step.\n",
      "If --dostep is used, then only the named step is processed.\n",
      "\n",
      "In order to use either --start or --dostep, it is necessary that a\n",
      "previous run was done using one of the steps options to process at least\n",
      "through the step immediately preceding the starting step of the current run.\n",
      "\n"
     ]
    }
   ],
   "source": [
    "!/opt/isce2/isce/applications/topsApp.py --help --steps"
   ]
  },
  {
   "cell_type": "markdown",
   "metadata": {
    "hidden": true
   },
   "source": [
    "<br>\n",
    "<div class=\"alert alert-danger\">\n",
    "<b>POTENTIAL ISSUE:</b> \n",
    "**Steps are to be run in the following prescribed order**:\n",
    "*<center>\n",
    "['startup', 'preprocess', 'computeBaselines', 'verifyDEM', 'topo']\n",
    "['subsetoverlaps', 'coarseoffsets', 'coarseresamp', 'overlapifg', 'prepesd']\n",
    "['esd', 'rangecoreg', 'fineoffsets', 'fineresamp', 'burstifg']\n",
    "['mergebursts', 'filter', 'unwrap', 'unwrap2stage', 'geocode']\n",
    "['denseoffsets', 'filteroffsets', 'geocodeoffsets']\n",
    "</center>*\n",
    "</div>\n"
   ]
  },
  {
   "cell_type": "markdown",
   "metadata": {
    "heading_collapsed": true,
    "hidden": true
   },
   "source": [
    "### 3.0 Directory setup"
   ]
  },
  {
   "cell_type": "markdown",
   "metadata": {
    "hidden": true
   },
   "source": [
    "Before we begin step by step processing with topsApp.py, we first setup the processing directory named **insar**, and copy the template topsApp.xml file (*ls support_docs/insar/topsApp.xml*) to the processing location."
   ]
  },
  {
   "cell_type": "code",
   "execution_count": 21,
   "metadata": {
    "hidden": true
   },
   "outputs": [],
   "source": [
    "## Template xml for this tutorial\n",
    "topsAppXml_original =  os.path.join(tutorial_home_dir,'support_docs/insar/topsApp.xml')  \n",
    "refXml_original =  os.path.join(tutorial_home_dir,'support_docs/insar/reference.xml')  \n",
    "secXml_original =  os.path.join(tutorial_home_dir,'support_docs/insar/secondary.xml')  \n",
    "\n",
    "\n",
    "## Check if the topsApp.xml file already exists, if not copy the example for the excerisize\n",
    "if not os.path.isfile(os.path.join(insar_dir,'topsApp.xml')):\n",
    "    copyfile(topsAppXml_original, os.path.join(insar_dir, 'topsApp.xml'))\n",
    "else:\n",
    "    print(os.path.join(insar_dir,'topsApp.xml') + \" already exist, will not overwrite\")\n",
    "    \n",
    "if not os.path.isfile(os.path.join(insar_dir, 'reference.xml')):\n",
    "    copyfile(refXml_original, os.path.join(insar_dir,'reference.xml'))\n",
    "else:\n",
    "    print(os.path.join(insar_dir,'reference.xml') + \" already exist, will not overwrite\")\n",
    "    \n",
    "if not os.path.isfile(os.path.join(insar_dir, 'secondary.xml')):\n",
    "    copyfile(secXml_original,os.path.join(insar_dir, 'secondary.xml'))\n",
    "else:\n",
    "    print(os.path.join(insar_dir,'secondary.xml') + \" already exist, will not overwrite\")"
   ]
  },
  {
   "cell_type": "markdown",
   "metadata": {
    "hidden": true
   },
   "source": [
    "We will now \"cd\" into this directory where the processing will be done."
   ]
  },
  {
   "cell_type": "code",
   "execution_count": 22,
   "metadata": {
    "hidden": true
   },
   "outputs": [],
   "source": [
    "os.chdir(insar_dir)"
   ]
  },
  {
   "cell_type": "markdown",
   "metadata": {},
   "source": [
    "### 3.1 Quick overview of your interferogram"
   ]
  },
  {
   "cell_type": "code",
   "execution_count": 23,
   "metadata": {},
   "outputs": [
    {
     "name": "stdout",
     "output_type": "stream",
     "text": [
      "Using default ISCE Path: /opt/isce2/isce\n",
      "This is the Open Source version of ISCE.\n",
      "Some of the workflows depend on a separate licensed package.\n",
      "To obtain the licensed package, please make a request for ISCE\n",
      "through the website: https://download.jpl.nasa.gov/ops/request/index.cfm.\n",
      "Alternatively, if you are a member, or can become a member of WinSAR\n",
      "you may be able to obtain access to a version of the licensed sofware at\n",
      "https://winsar.unavco.org/software/isce\n",
      "2020-11-06 01:14:24,917 - isce.insar - INFO - ISCE VERSION = 2.3, RELEASE_SVN_REVISION = 2531,RELEASE_DATE = 20190112, CURRENT_SVN_REVISION = 2531\n",
      "ISCE VERSION = 2.3, RELEASE_SVN_REVISION = 2531,RELEASE_DATE = 20190112, CURRENT_SVN_REVISION = 2531\n",
      "Step processing\n",
      "Running step startup\n",
      "None\n",
      "The currently supported sensors are:  ['SENTINEL1']\n",
      "Dumping the application's pickle object _insar to file  PICKLE/startup\n",
      "The remaining steps are (in order):  ['preprocess', 'computeBaselines', 'verifyDEM', 'topo', 'subsetoverlaps', 'coarseoffsets', 'coarseresamp', 'overlapifg', 'prepesd', 'esd', 'rangecoreg', 'fineoffsets', 'fineresamp', 'ion', 'burstifg', 'mergebursts', 'filter', 'unwrap', 'unwrap2stage', 'geocode', 'denseoffsets', 'filteroffsets', 'geocodeoffsets']\n",
      "Running step preprocess\n",
      "Input XML files:  ['/vsizip/../data/slcs/S1A_IW_SLC__1SDV_20200511T135117_20200511T135144_032518_03C421_7768.zip/S1A_IW_SLC__1SDV_20200511T135117_20200511T135144_032518_03C421_7768.SAFE/annotation/s1a-iw3-slc-vv-20200511t135118-20200511t135143-032518-03c421-006.xml']\n",
      "Input TIFF files:  ['/vsizip/../data/slcs/S1A_IW_SLC__1SDV_20200511T135117_20200511T135144_032518_03C421_7768.zip/S1A_IW_SLC__1SDV_20200511T135117_20200511T135144_032518_03C421_7768.SAFE/measurement/s1a-iw3-slc-vv-20200511t135118-20200511t135143-032518-03c421-006.tiff']\n",
      "Manifest files:  ['/vsizip/../data/slcs/S1A_IW_SLC__1SDV_20200511T135117_20200511T135144_032518_03C421_7768.zip/S1A_IW_SLC__1SDV_20200511T135117_20200511T135144_032518_03C421_7768.SAFE/manifest.safe']\n",
      "MANS:  ../data/slcs/S1A_IW_SLC__1SDV_20200511T135117_20200511T135144_032518_03C421_7768.zip S1A_IW_SLC__1SDV_20200511T135117_20200511T135144_032518_03C421_7768.SAFE/manifest.safe\n",
      "Setting IPF version to :  003.20\n",
      "Extracting orbit from Orbit File:  ../data/orbits/S1A_OPER_AUX_POEORB_OPOD_20200531T120757_V20200510T225942_20200512T005942.EOF\n",
      "Number of Bursts before cropping:  9\n",
      "Number of Bursts after cropping:  4\n",
      "Updating burst number from 4 to 1\n",
      "Updating burst number from 5 to 2\n",
      "Updating burst number from 6 to 3\n",
      "Updating burst number from 7 to 4\n",
      "Input XML files:  ['/vsizip/../data/slcs/S1B_IW_SLC__1SDV_20200517T135026_20200517T135056_021622_0290CB_99E2.zip/S1B_IW_SLC__1SDV_20200517T135026_20200517T135056_021622_0290CB_99E2.SAFE/annotation/s1b-iw3-slc-vv-20200517t135028-20200517t135056-021622-0290cb-006.xml']\n",
      "Input TIFF files:  ['/vsizip/../data/slcs/S1B_IW_SLC__1SDV_20200517T135026_20200517T135056_021622_0290CB_99E2.zip/S1B_IW_SLC__1SDV_20200517T135026_20200517T135056_021622_0290CB_99E2.SAFE/measurement/s1b-iw3-slc-vv-20200517t135028-20200517t135056-021622-0290cb-006.tiff']\n",
      "Manifest files:  ['/vsizip/../data/slcs/S1B_IW_SLC__1SDV_20200517T135026_20200517T135056_021622_0290CB_99E2.zip/S1B_IW_SLC__1SDV_20200517T135026_20200517T135056_021622_0290CB_99E2.SAFE/manifest.safe']\n",
      "MANS:  ../data/slcs/S1B_IW_SLC__1SDV_20200517T135026_20200517T135056_021622_0290CB_99E2.zip S1B_IW_SLC__1SDV_20200517T135026_20200517T135056_021622_0290CB_99E2.SAFE/manifest.safe\n",
      "Setting IPF version to :  003.20\n",
      "Extracting orbit from Orbit File:  ../data/orbits/S1B_OPER_AUX_POEORB_OPOD_20200606T110735_V20200516T225942_20200518T005942.EOF\n",
      "Number of Bursts before cropping:  10\n",
      "Number of Bursts after cropping:  4\n",
      "Updating burst number from 7 to 1\n",
      "Updating burst number from 8 to 2\n",
      "Updating burst number from 9 to 3\n",
      "Updating burst number from 10 to 4\n",
      "2020-11-06 01:14:44,476 - isce.topsinsar.runPreprocessor - INFO - \n",
      "####################################################################################################\n",
      "    runPreprocessor\n",
      "----------------------------------------------------------------------------------------------------\n",
      "common.Input list of swaths to process:  = [3]\n",
      "reference.burstLength_3 = 1515\n",
      "reference.burstWidth_3 = 24492\n",
      "reference.numberOfBursts_3 = 4\n",
      "reference.sensor.ascendingnodetime = 2020-05-11 13:12:30.117289\n",
      "reference.sensor.family = topsswathslc\n",
      "reference.sensor.folder = None\n",
      "reference.sensor.imagingmode = TOPS\n",
      "reference.sensor.mission = S1A\n",
      "reference.sensor.name = topsswathslc_name\n",
      "reference.sensor.numberofbursts = 4\n",
      "reference.sensor.processingfacility = DLR-Oberpfaffenhofen, Germany\n",
      "reference.sensor.processingsoftwareversion = 003.20\n",
      "reference.sensor.processingsystem = Sentinel-1 IPF\n",
      "reference.sensor.spacecraftname = Sentinel-1\n",
      "secondary.burstLength_3 = 1513\n",
      "secondary.burstWidth_3 = 24158\n",
      "secondary.numberOfBursts_3 = 4\n",
      "secondary.sensor.ascendingnodetime = 2020-05-17 13:11:48.571324\n",
      "secondary.sensor.family = topsswathslc\n",
      "secondary.sensor.folder = None\n",
      "secondary.sensor.imagingmode = TOPS\n",
      "secondary.sensor.mission = S1B\n",
      "secondary.sensor.name = topsswathslc_name\n",
      "secondary.sensor.numberofbursts = 4\n",
      "secondary.sensor.processingfacility = DLR-Oberpfaffenhofen, Germany\n",
      "secondary.sensor.processingsoftwareversion = 003.20\n",
      "secondary.sensor.processingsystem = Sentinel-1 IPF\n",
      "secondary.sensor.spacecraftname = Sentinel-1\n",
      "####################################################################################################\n",
      "Dumping the application's pickle object _insar to file  PICKLE/preprocess\n",
      "The remaining steps are (in order):  ['computeBaselines', 'verifyDEM', 'topo', 'subsetoverlaps', 'coarseoffsets', 'coarseresamp', 'overlapifg', 'prepesd', 'esd', 'rangecoreg', 'fineoffsets', 'fineresamp', 'ion', 'burstifg', 'mergebursts', 'filter', 'unwrap', 'unwrap2stage', 'geocode', 'denseoffsets', 'filteroffsets', 'geocodeoffsets']\n",
      "Running step computeBaselines\n",
      "Estimated burst offset:  0\n",
      "Polynomial Order: 0 - by - 0 \n",
      "0\t\n",
      "Polynomial Order: 0 - by - 0 \n",
      "0\t\n",
      "2020-11-06 01:14:45,181 - isce.topsinsar.runPreprocessor - INFO - \n",
      "####################################################################################################\n",
      "    runComputeBaseline\n",
      "----------------------------------------------------------------------------------------------------\n",
      "baseline.IW-3 Bpar at midrange for first common burst = 28.16030532429423\n",
      "baseline.IW-3 Bpar at midrange for last common burst = 27.97987490921053\n",
      "baseline.IW-3 Bperp at midrange for first common burst = -21.93173058602992\n",
      "baseline.IW-3 Bperp at midrange for last common burst = -21.578266180159886\n",
      "baseline.IW-3 First common burst in reference = 0\n",
      "baseline.IW-3 First common burst in secondary = 0\n",
      "baseline.IW-3 Last common burst in reference = 4\n",
      "baseline.IW-3 Last common burst in secondary = 4\n",
      "baseline.IW-3 Number of bursts in reference = 4\n",
      "baseline.IW-3 Number of bursts in secondary = 4\n",
      "baseline.IW-3 Number of common bursts = 4\n",
      "####################################################################################################\n",
      "Dumping the application's pickle object _insar to file  PICKLE/computeBaselines\n",
      "The remaining steps are (in order):  ['verifyDEM', 'topo', 'subsetoverlaps', 'coarseoffsets', 'coarseresamp', 'overlapifg', 'prepesd', 'esd', 'rangecoreg', 'fineoffsets', 'fineresamp', 'ion', 'burstifg', 'mergebursts', 'filter', 'unwrap', 'unwrap2stage', 'geocode', 'denseoffsets', 'filteroffsets', 'geocodeoffsets']\n"
     ]
    }
   ],
   "source": [
    "os.chdir(insar_dir)\n",
    "!/opt/isce2/isce/applications/topsApp.py --start=startup --end=computeBaselines"
   ]
  },
  {
   "cell_type": "markdown",
   "metadata": {
    "heading_collapsed": true,
    "hidden": true
   },
   "source": [
    "#### 3.1.1 Step startup"
   ]
  },
  {
   "cell_type": "markdown",
   "metadata": {
    "hidden": true
   },
   "source": [
    "We will start with running the first step **startup**. "
   ]
  },
  {
   "cell_type": "code",
   "execution_count": 24,
   "metadata": {
    "hidden": true
   },
   "outputs": [
    {
     "name": "stdout",
     "output_type": "stream",
     "text": [
      "Using default ISCE Path: /opt/isce2/isce\n",
      "This is the Open Source version of ISCE.\n",
      "Some of the workflows depend on a separate licensed package.\n",
      "To obtain the licensed package, please make a request for ISCE\n",
      "through the website: https://download.jpl.nasa.gov/ops/request/index.cfm.\n",
      "Alternatively, if you are a member, or can become a member of WinSAR\n",
      "you may be able to obtain access to a version of the licensed sofware at\n",
      "https://winsar.unavco.org/software/isce\n",
      "2020-11-06 01:15:05,353 - isce.insar - INFO - ISCE VERSION = 2.3, RELEASE_SVN_REVISION = 2531,RELEASE_DATE = 20190112, CURRENT_SVN_REVISION = 2531\n",
      "ISCE VERSION = 2.3, RELEASE_SVN_REVISION = 2531,RELEASE_DATE = 20190112, CURRENT_SVN_REVISION = 2531\n",
      "Step processing\n",
      "Running step startup\n",
      "None\n",
      "The currently supported sensors are:  ['SENTINEL1']\n",
      "Dumping the application's pickle object _insar to file  PICKLE/startup\n",
      "The remaining steps are (in order):  ['preprocess', 'computeBaselines', 'verifyDEM', 'topo', 'subsetoverlaps', 'coarseoffsets', 'coarseresamp', 'overlapifg', 'prepesd', 'esd', 'rangecoreg', 'fineoffsets', 'fineresamp', 'ion', 'burstifg', 'mergebursts', 'filter', 'unwrap', 'unwrap2stage', 'geocode', 'denseoffsets', 'filteroffsets', 'geocodeoffsets']\n"
     ]
    }
   ],
   "source": [
    "# Uncomment if you want to run this step only\n",
    "!/opt/isce2/isce/applications/topsApp.py --dostep=startup"
   ]
  },
  {
   "cell_type": "markdown",
   "metadata": {
    "hidden": true
   },
   "source": [
    "When topsApp.py is run in steps, PICKLE files are used to store state information between the steps.  A PICKLE folder is created during the startup step. The PICKLE folder is used to store the processing parameters for each processing step. By exploring the pickle folder, you will find a binary pickle file and an *xml* file associated with the **startup** step."
   ]
  },
  {
   "cell_type": "code",
   "execution_count": 25,
   "metadata": {
    "hidden": true
   },
   "outputs": [
    {
     "name": "stdout",
     "output_type": "stream",
     "text": [
      "computeBaselines      preprocess      startup\r\n",
      "computeBaselines.xml  preprocess.xml  startup.xml\r\n"
     ]
    }
   ],
   "source": [
    "!ls PICKLE"
   ]
  },
  {
   "cell_type": "markdown",
   "metadata": {
    "hidden": true
   },
   "source": [
    "The information contained within the **startup** pickle and *xml* files allows topsApp to start or re-start processing from where **startup** was completed. "
   ]
  },
  {
   "cell_type": "markdown",
   "metadata": {
    "heading_collapsed": true,
    "hidden": true
   },
   "source": [
    "#### 3.1.2 Step preprocess"
   ]
  },
  {
   "cell_type": "markdown",
   "metadata": {
    "hidden": true
   },
   "source": [
    "Keeping in mind that the order of steps matter, we move to the second step of topsApp.py processing, which is to **preprocess** the data."
   ]
  },
  {
   "cell_type": "code",
   "execution_count": 26,
   "metadata": {
    "hidden": true
   },
   "outputs": [
    {
     "name": "stdout",
     "output_type": "stream",
     "text": [
      "Using default ISCE Path: /opt/isce2/isce\n",
      "This is the Open Source version of ISCE.\n",
      "Some of the workflows depend on a separate licensed package.\n",
      "To obtain the licensed package, please make a request for ISCE\n",
      "through the website: https://download.jpl.nasa.gov/ops/request/index.cfm.\n",
      "Alternatively, if you are a member, or can become a member of WinSAR\n",
      "you may be able to obtain access to a version of the licensed sofware at\n",
      "https://winsar.unavco.org/software/isce\n",
      "2020-11-06 01:15:17,338 - isce.insar - INFO - ISCE VERSION = 2.3, RELEASE_SVN_REVISION = 2531,RELEASE_DATE = 20190112, CURRENT_SVN_REVISION = 2531\n",
      "ISCE VERSION = 2.3, RELEASE_SVN_REVISION = 2531,RELEASE_DATE = 20190112, CURRENT_SVN_REVISION = 2531\n",
      "Step processing\n",
      "Running step preprocess\n",
      "Input XML files:  ['/vsizip/../data/slcs/S1A_IW_SLC__1SDV_20200511T135117_20200511T135144_032518_03C421_7768.zip/S1A_IW_SLC__1SDV_20200511T135117_20200511T135144_032518_03C421_7768.SAFE/annotation/s1a-iw3-slc-vv-20200511t135118-20200511t135143-032518-03c421-006.xml']\n",
      "Input TIFF files:  ['/vsizip/../data/slcs/S1A_IW_SLC__1SDV_20200511T135117_20200511T135144_032518_03C421_7768.zip/S1A_IW_SLC__1SDV_20200511T135117_20200511T135144_032518_03C421_7768.SAFE/measurement/s1a-iw3-slc-vv-20200511t135118-20200511t135143-032518-03c421-006.tiff']\n",
      "Manifest files:  ['/vsizip/../data/slcs/S1A_IW_SLC__1SDV_20200511T135117_20200511T135144_032518_03C421_7768.zip/S1A_IW_SLC__1SDV_20200511T135117_20200511T135144_032518_03C421_7768.SAFE/manifest.safe']\n",
      "MANS:  ../data/slcs/S1A_IW_SLC__1SDV_20200511T135117_20200511T135144_032518_03C421_7768.zip S1A_IW_SLC__1SDV_20200511T135117_20200511T135144_032518_03C421_7768.SAFE/manifest.safe\n",
      "Setting IPF version to :  003.20\n",
      "Extracting orbit from Orbit File:  ../data/orbits/S1A_OPER_AUX_POEORB_OPOD_20200531T120757_V20200510T225942_20200512T005942.EOF\n",
      "Number of Bursts before cropping:  9\n",
      "Number of Bursts after cropping:  4\n",
      "Updating burst number from 4 to 1\n",
      "Updating burst number from 5 to 2\n",
      "Updating burst number from 6 to 3\n",
      "Updating burst number from 7 to 4\n",
      "Input XML files:  ['/vsizip/../data/slcs/S1B_IW_SLC__1SDV_20200517T135026_20200517T135056_021622_0290CB_99E2.zip/S1B_IW_SLC__1SDV_20200517T135026_20200517T135056_021622_0290CB_99E2.SAFE/annotation/s1b-iw3-slc-vv-20200517t135028-20200517t135056-021622-0290cb-006.xml']\n",
      "Input TIFF files:  ['/vsizip/../data/slcs/S1B_IW_SLC__1SDV_20200517T135026_20200517T135056_021622_0290CB_99E2.zip/S1B_IW_SLC__1SDV_20200517T135026_20200517T135056_021622_0290CB_99E2.SAFE/measurement/s1b-iw3-slc-vv-20200517t135028-20200517t135056-021622-0290cb-006.tiff']\n",
      "Manifest files:  ['/vsizip/../data/slcs/S1B_IW_SLC__1SDV_20200517T135026_20200517T135056_021622_0290CB_99E2.zip/S1B_IW_SLC__1SDV_20200517T135026_20200517T135056_021622_0290CB_99E2.SAFE/manifest.safe']\n",
      "MANS:  ../data/slcs/S1B_IW_SLC__1SDV_20200517T135026_20200517T135056_021622_0290CB_99E2.zip S1B_IW_SLC__1SDV_20200517T135026_20200517T135056_021622_0290CB_99E2.SAFE/manifest.safe\n",
      "Setting IPF version to :  003.20\n",
      "Extracting orbit from Orbit File:  ../data/orbits/S1B_OPER_AUX_POEORB_OPOD_20200606T110735_V20200516T225942_20200518T005942.EOF\n",
      "Number of Bursts before cropping:  10\n",
      "Number of Bursts after cropping:  4\n",
      "Updating burst number from 7 to 1\n",
      "Updating burst number from 8 to 2\n",
      "Updating burst number from 9 to 3\n",
      "Updating burst number from 10 to 4\n",
      "2020-11-06 01:15:37,450 - isce.topsinsar.runPreprocessor - INFO - \n",
      "####################################################################################################\n",
      "    runPreprocessor\n",
      "----------------------------------------------------------------------------------------------------\n",
      "common.Input list of swaths to process:  = [3]\n",
      "reference.burstLength_3 = 1515\n",
      "reference.burstWidth_3 = 24492\n",
      "reference.numberOfBursts_3 = 4\n",
      "reference.sensor.ascendingnodetime = 2020-05-11 13:12:30.117289\n",
      "reference.sensor.family = topsswathslc\n",
      "reference.sensor.folder = None\n",
      "reference.sensor.imagingmode = TOPS\n",
      "reference.sensor.mission = S1A\n",
      "reference.sensor.name = topsswathslc_name\n",
      "reference.sensor.numberofbursts = 4\n",
      "reference.sensor.processingfacility = DLR-Oberpfaffenhofen, Germany\n",
      "reference.sensor.processingsoftwareversion = 003.20\n",
      "reference.sensor.processingsystem = Sentinel-1 IPF\n",
      "reference.sensor.spacecraftname = Sentinel-1\n",
      "secondary.burstLength_3 = 1513\n",
      "secondary.burstWidth_3 = 24158\n",
      "secondary.numberOfBursts_3 = 4\n",
      "secondary.sensor.ascendingnodetime = 2020-05-17 13:11:48.571324\n",
      "secondary.sensor.family = topsswathslc\n",
      "secondary.sensor.folder = None\n",
      "secondary.sensor.imagingmode = TOPS\n",
      "secondary.sensor.mission = S1B\n",
      "secondary.sensor.name = topsswathslc_name\n",
      "secondary.sensor.numberofbursts = 4\n",
      "secondary.sensor.processingfacility = DLR-Oberpfaffenhofen, Germany\n",
      "secondary.sensor.processingsoftwareversion = 003.20\n",
      "secondary.sensor.processingsystem = Sentinel-1 IPF\n",
      "secondary.sensor.spacecraftname = Sentinel-1\n",
      "####################################################################################################\n",
      "Dumping the application's pickle object _insar to file  PICKLE/preprocess\n",
      "The remaining steps are (in order):  ['computeBaselines', 'verifyDEM', 'topo', 'subsetoverlaps', 'coarseoffsets', 'coarseresamp', 'overlapifg', 'prepesd', 'esd', 'rangecoreg', 'fineoffsets', 'fineresamp', 'ion', 'burstifg', 'mergebursts', 'filter', 'unwrap', 'unwrap2stage', 'geocode', 'denseoffsets', 'filteroffsets', 'geocodeoffsets']\n"
     ]
    }
   ],
   "source": [
    "# Uncomment if you want to run this step only\n",
    "!/opt/isce2/isce/applications/topsApp.py --dostep=preprocess"
   ]
  },
  {
   "cell_type": "markdown",
   "metadata": {
    "hidden": true
   },
   "source": [
    "During preprocessing, the orbits, the IPF (Instrument Processing Facility, which is the processing version used by ESA to focus the data), the bursts, and, if needed, the antenna pattern are extracted. \n",
    "\n",
    "Note if you had processed the complete region without limitation, there would be three subswaths (IW1,IW2,IW3). For our example,\n",
    "we limited the processing to IW3 alone.  Therefore, for our tutorial, within the secondary and reference folders you will find only an **IW3** folder and an **IW3.xml** file."
   ]
  },
  {
   "cell_type": "code",
   "execution_count": 27,
   "metadata": {
    "hidden": true
   },
   "outputs": [
    {
     "name": "stdout",
     "output_type": "stream",
     "text": [
      "reference/IW3.xml\r\n",
      "\r\n",
      "reference/IW3:\r\n",
      "burst_01.slc.vrt  burst_02.slc.vrt  burst_03.slc.vrt  burst_04.slc.vrt\r\n",
      "burst_01.slc.xml  burst_02.slc.xml  burst_03.slc.xml  burst_04.slc.xml\r\n"
     ]
    }
   ],
   "source": [
    "!ls reference/*"
   ]
  },
  {
   "cell_type": "markdown",
   "metadata": {
    "hidden": true
   },
   "source": [
    "The **IW3.xml** file contains metadata information specific for each subswath (e.g. orbit state vectors, doppler, sensing times, IPF version). You can open the file using your preferred editor from the command line:\n",
    "```\n",
    "    vim reference/IW3.xml\n",
    "```\n",
    "The **IW3** folder contains the unpacked bursts and their meta-data.\n",
    "Typically you will find *.xml* and *.vrt* files, and in certain cases *.slc* files, as described below.\n",
    "-\tIf a bounding box is specified, only the reference bursts covering the box are unpacked, otherwise the complete reference SLC is used. The bursts of the reference in reference/IW* are relabeled from 1 to n.\n",
    "-\tThe secondary/IW* folders typically contain a larger set of bursts to cover the reference extent completely, where the bursts are labelled from 1 to m.  The burst numbering is not coordinated between reference and secondary folders: burst 1 in the reference does not necessarily correspond to burst 1 in the secondary.\n",
    "-\tAll data are unpacked virtually (i.e., only *.xml* and *.vrt* files in *IW* folders) unless: (1) user requested to physically unpack the data, which can be requested in topsApp.xml by property **usevirtualfiles**, or (2) if an antenna pattern correction needs to be applied (not controlled by user) which happens mainly for the initially acquired Sentinel-1 data.\n",
    "-\tThe IPF version of unpacked bursts is tracked and a combined IPF is assigned for the reference and one for the secondary. Note: bursts processed with different IPF versions cannot be stitched and attempting to do so will cause an error message. \n",
    "\n",
    "<br>\n",
    "<div class=\"alert alert-danger\">\n",
    "<b>POTENTIAL ISSUE:</b> \n",
    "There is a gap in spatial coverage, e.g. you are missing the middle SAFE file.\n",
    "</div>\n",
    "<div class=\"alert alert-danger\">\n",
    "<b>POTENTIAL ISSUE:</b> \n",
    "The SAFE frames that need to be stitched do not have a consistent IPF version\n",
    "</div>"
   ]
  },
  {
   "cell_type": "markdown",
   "metadata": {
    "heading_collapsed": true,
    "hidden": true
   },
   "source": [
    "#### 3.1.3 Step computeBaselines"
   ]
  },
  {
   "cell_type": "code",
   "execution_count": 28,
   "metadata": {
    "hidden": true,
    "scrolled": true
   },
   "outputs": [
    {
     "name": "stdout",
     "output_type": "stream",
     "text": [
      "Using default ISCE Path: /opt/isce2/isce\n",
      "This is the Open Source version of ISCE.\n",
      "Some of the workflows depend on a separate licensed package.\n",
      "To obtain the licensed package, please make a request for ISCE\n",
      "through the website: https://download.jpl.nasa.gov/ops/request/index.cfm.\n",
      "Alternatively, if you are a member, or can become a member of WinSAR\n",
      "you may be able to obtain access to a version of the licensed sofware at\n",
      "https://winsar.unavco.org/software/isce\n",
      "2020-11-06 01:17:01,043 - isce.insar - INFO - ISCE VERSION = 2.3, RELEASE_SVN_REVISION = 2531,RELEASE_DATE = 20190112, CURRENT_SVN_REVISION = 2531\n",
      "ISCE VERSION = 2.3, RELEASE_SVN_REVISION = 2531,RELEASE_DATE = 20190112, CURRENT_SVN_REVISION = 2531\n",
      "Step processing\n",
      "Running step computeBaselines\n",
      "Estimated burst offset:  0\n",
      "Polynomial Order: 0 - by - 0 \n",
      "0\t\n",
      "Polynomial Order: 0 - by - 0 \n",
      "0\t\n",
      "2020-11-06 01:17:01,875 - isce.topsinsar.runPreprocessor - INFO - \n",
      "####################################################################################################\n",
      "    runComputeBaseline\n",
      "----------------------------------------------------------------------------------------------------\n",
      "baseline.IW-3 Bpar at midrange for first common burst = 28.16030532429423\n",
      "baseline.IW-3 Bpar at midrange for last common burst = 27.97987490921053\n",
      "baseline.IW-3 Bperp at midrange for first common burst = -21.93173058602992\n",
      "baseline.IW-3 Bperp at midrange for last common burst = -21.578266180159886\n",
      "baseline.IW-3 First common burst in reference = 0\n",
      "baseline.IW-3 First common burst in secondary = 0\n",
      "baseline.IW-3 Last common burst in reference = 4\n",
      "baseline.IW-3 Last common burst in secondary = 4\n",
      "baseline.IW-3 Number of bursts in reference = 4\n",
      "baseline.IW-3 Number of bursts in secondary = 4\n",
      "baseline.IW-3 Number of common bursts = 4\n",
      "####################################################################################################\n",
      "Dumping the application's pickle object _insar to file  PICKLE/computeBaselines\n",
      "The remaining steps are (in order):  ['verifyDEM', 'topo', 'subsetoverlaps', 'coarseoffsets', 'coarseresamp', 'overlapifg', 'prepesd', 'esd', 'rangecoreg', 'fineoffsets', 'fineresamp', 'ion', 'burstifg', 'mergebursts', 'filter', 'unwrap', 'unwrap2stage', 'geocode', 'denseoffsets', 'filteroffsets', 'geocodeoffsets']\n"
     ]
    }
   ],
   "source": [
    "# Uncomment this line if you want to run this step only \n",
    "!/opt/isce2/isce/applications/topsApp.py --dostep=computeBaselines"
   ]
  },
  {
   "cell_type": "markdown",
   "metadata": {
    "hidden": true
   },
   "source": [
    "In this step, the perpendicular and parallel baselines are computed using the orbit (state vector information) for the first and last burst of the reference image (center range). Each subswath is processed individually, with output sent to the screen. As the processing for the tutorial is limited to IW3, the baselines are only computed for this subswath."
   ]
  },
  {
   "cell_type": "markdown",
   "metadata": {
    "heading_collapsed": true,
    "hidden": true
   },
   "source": [
    "### 3.2 Step verifyDEM"
   ]
  },
  {
   "cell_type": "code",
   "execution_count": 29,
   "metadata": {
    "hidden": true
   },
   "outputs": [
    {
     "name": "stdout",
     "output_type": "stream",
     "text": [
      "Using default ISCE Path: /opt/isce2/isce\n",
      "This is the Open Source version of ISCE.\n",
      "Some of the workflows depend on a separate licensed package.\n",
      "To obtain the licensed package, please make a request for ISCE\n",
      "through the website: https://download.jpl.nasa.gov/ops/request/index.cfm.\n",
      "Alternatively, if you are a member, or can become a member of WinSAR\n",
      "you may be able to obtain access to a version of the licensed sofware at\n",
      "https://winsar.unavco.org/software/isce\n",
      "2020-11-06 01:17:09,104 - isce.insar - INFO - ISCE VERSION = 2.3, RELEASE_SVN_REVISION = 2531,RELEASE_DATE = 20190112, CURRENT_SVN_REVISION = 2531\n",
      "ISCE VERSION = 2.3, RELEASE_SVN_REVISION = 2531,RELEASE_DATE = 20190112, CURRENT_SVN_REVISION = 2531\n",
      "Step processing\n",
      "Running step verifyDEM\n",
      "command = curl -n  -L -c $HOME/.earthdatacookie -b $HOME/.earthdatacookie -k -f -O http://e4ftl01.cr.usgs.gov/MEASURES/SRTMGL1.003/2000.02.11/N38W119.SRTMGL1.hgt.zip\n",
      "  % Total    % Received % Xferd  Average Speed   Time    Time     Time  Current\n",
      "                                 Dload  Upload   Total   Spent    Left  Speed\n",
      "100   267  100   267    0     0   1570      0 --:--:-- --:--:-- --:--:--  1561\n",
      "100   498  100   498    0     0    799      0 --:--:-- --:--:-- --:--:--   799\n",
      "100   291    0   291    0     0    207      0 --:--:--  0:00:01 --:--:--   989\n",
      "100   267  100   267    0     0    144      0  0:00:01  0:00:01 --:--:--   144\n",
      "  0     0    0     0    0     0      0      0 --:--:--  0:00:01 --:--:--     0\n",
      "100 11.9M  100 11.9M    0     0   704k      0  0:00:17  0:00:17 --:--:-- 1065k\n",
      "command = curl -n  -L -c $HOME/.earthdatacookie -b $HOME/.earthdatacookie -k -f -O http://e4ftl01.cr.usgs.gov/MEASURES/SRTMGL1.003/2000.02.11/N38W118.SRTMGL1.hgt.zip\n",
      "  % Total    % Received % Xferd  Average Speed   Time    Time     Time  Current\n",
      "                                 Dload  Upload   Total   Spent    Left  Speed\n",
      "100   267  100   267    0     0   1552      0 --:--:-- --:--:-- --:--:--  1552\n",
      "100 10.9M  100 10.9M    0     0  1208k      0  0:00:09  0:00:09 --:--:-- 2026k96 10.6M    0     0  1183k      0  0:00:09  0:00:09 --:--:-- 1759k\n",
      "command = curl -n  -L -c $HOME/.earthdatacookie -b $HOME/.earthdatacookie -k -f -O http://e4ftl01.cr.usgs.gov/MEASURES/SRTMGL1.003/2000.02.11/N37W119.SRTMGL1.hgt.zip\n",
      "  % Total    % Received % Xferd  Average Speed   Time    Time     Time  Current\n",
      "                                 Dload  Upload   Total   Spent    Left  Speed\n",
      "100   267  100   267    0     0   1491      0 --:--:-- --:--:-- --:--:--  1491\n",
      "100 14.5M  100 14.5M    0     0  1075k      0  0:00:13  0:00:13 --:--:-- 1311k\n",
      "command = curl -n  -L -c $HOME/.earthdatacookie -b $HOME/.earthdatacookie -k -f -O http://e4ftl01.cr.usgs.gov/MEASURES/SRTMGL1.003/2000.02.11/N37W118.SRTMGL1.hgt.zip\n",
      "  % Total    % Received % Xferd  Average Speed   Time    Time     Time  Current\n",
      "                                 Dload  Upload   Total   Spent    Left  Speed\n",
      "100   267  100   267    0     0   1543      0 --:--:-- --:--:-- --:--:--  1543\n",
      "100 11.6M  100 11.6M    0     0  1266k      0  0:00:09  0:00:09 --:--:-- 1790k    0     0   838k      0  0:00:14  0:00:05  0:00:09  970k\n",
      "API open (R): demLat_N37_N39_Lon_W119_W117.dem\n",
      "API close:  demLat_N37_N39_Lon_W119_W117.dem\n",
      "Writing geotrans to VRT for demLat_N37_N39_Lon_W119_W117.dem\n",
      "GDAL open (R): demLat_N37_N39_Lon_W119_W117.dem.vrt\n",
      "API open (WR): demLat_N37_N39_Lon_W119_W117.dem.wgs84\n",
      "\n",
      "    << Geoid Correction I2 SRTM>>\n",
      "\n",
      "Jet Propulsion Laboratory - Radar Science and Engineering\n",
      "\n",
      "\n",
      "Sampling Geoid at grid points -  Longitude Samples:    23 Latitude Lines:    23\n",
      "Corner Geoid Heights (m) =  -28.17 -28.10 -24.55 -22.15\n",
      "\n",
      "Correcting data to geoid height...\n",
      "\n",
      "At line:      512\n",
      "At line:     1024\n",
      "At line:     1536\n",
      "At line:     2048\n",
      "At line:     2560\n",
      "At line:     3072\n",
      "At line:     3584\n",
      "At line:     4096\n",
      "At line:     4608\n",
      "At line:     5120\n",
      "At line:     5632\n",
      "At line:     6144\n",
      "At line:     6656\n",
      "At line:     7168\n",
      "GDAL close: demLat_N37_N39_Lon_W119_W117.dem.vrt\n",
      "API close:  demLat_N37_N39_Lon_W119_W117.dem.wgs84\n",
      "API open (R): demLat_N37_N39_Lon_W119_W117.dem.wgs84\n",
      "API close:  demLat_N37_N39_Lon_W119_W117.dem.wgs84\n",
      "Writing geotrans to VRT for demLat_N37_N39_Lon_W119_W117.dem.wgs84\n",
      "Dumping the application's pickle object _insar to file  PICKLE/verifyDEM\n",
      "The remaining steps are (in order):  ['topo', 'subsetoverlaps', 'coarseoffsets', 'coarseresamp', 'overlapifg', 'prepesd', 'esd', 'rangecoreg', 'fineoffsets', 'fineresamp', 'ion', 'burstifg', 'mergebursts', 'filter', 'unwrap', 'unwrap2stage', 'geocode', 'denseoffsets', 'filteroffsets', 'geocodeoffsets']\n"
     ]
    }
   ],
   "source": [
    "os.chdir(insar_dir)\n",
    "!/opt/isce2/isce/applications/topsApp.py --dostep=verifyDEM"
   ]
  },
  {
   "cell_type": "markdown",
   "metadata": {
    "hidden": true
   },
   "source": [
    "This step will check the DEM file specified in the topsApp.xml. If no DEM file has been specified, topsApp.py will download the DEM on the fly and track the filename for subsequent processing. \n",
    "\n",
    "<div class=\"alert alert-danger\">\n",
    "<b>POTENTIAL ISSUE:</b> \n",
    "You did not set your earthdata credentials as detailed in the ISCE installation. Find instructions here: [Step 2 here](https://wiki.earthdata.nasa.gov/display/EL/How+To+Access+Data+With+cURL+And+Wget)\n",
    "</div>\n",
    "\n",
    "<div class=\"alert alert-danger\">\n",
    "<b>POTENTIAL ISSUE:</b> \n",
    "You did set up your earthdata credentials as detailed in the ISCE installation but you have special characters in your password. \"Escape\" these characters by adding a backslash in front of them. \n",
    "</div>\n",
    "\n",
    "<div class=\"alert alert-danger\">\n",
    "<b>POTENTIAL ISSUE:</b> \n",
    "The DEM ftp site is down and returns no data tiles.\n",
    "</div>\n"
   ]
  },
  {
   "cell_type": "markdown",
   "metadata": {
    "heading_collapsed": true,
    "hidden": true
   },
   "source": [
    "#### ONLY if download fails"
   ]
  },
  {
   "cell_type": "markdown",
   "metadata": {
    "hidden": true
   },
   "source": [
    "If your DEM download failed and you are unable to resolve the issue, you can use the DEM provided with this tutorial. This requires three steps to complete, before you can rerun the **verifyDEM** step:\n",
    "\n",
    "1) Copy over the DEM from the backup folder to your processing location"
   ]
  },
  {
   "cell_type": "code",
   "execution_count": null,
   "metadata": {
    "hidden": true
   },
   "outputs": [],
   "source": [
    "files = ['demLat_N37_N39_Lon_W119_W117.dem.wgs84',       #Binary raster\n",
    "         'demLat_N37_N39_Lon_W119_W117.dem.wgs84.xml',   #XML needed by ISCE\n",
    "         'demLat_N37_N39_Lon_W119_W117.dem.wgs84.vrt']   #VRT needed by ISCE\n",
    "\n",
    "for file in files:\n",
    "    if not os.path.exists(os.path.join(insar_dir,file)):\n",
    "        copy_from_bucket(os.path.join(\"TOPS\",file),\n",
    "                 os.path.join(insar_dir,file))\n",
    "        print(file + \" done\")\n",
    "    else:\n",
    "        print(file + \" already exists\")"
   ]
  },
  {
   "cell_type": "markdown",
   "metadata": {
    "hidden": true
   },
   "source": [
    "2) To use this DEM, you will need to edit the **topsApp.xml** file and uncomment the property for the **demFilename**.\n",
    "``` vim\n",
    "    vim insar/topsApp.xml\n",
    "```\n",
    "Remember the *xml* guidelines:\n",
    "```xml\n",
    "<!--<property> ..COMMENTED.. </property>--> \n",
    "<property> ..UNCOMMENTED.. </property>\n",
    "```"
   ]
  },
  {
   "cell_type": "markdown",
   "metadata": {
    "hidden": true
   },
   "source": [
    "Now rerun the **verifyDEM** step to ensure the new DEM information is correctly loaded into the processing:"
   ]
  },
  {
   "cell_type": "code",
   "execution_count": 30,
   "metadata": {
    "hidden": true
   },
   "outputs": [
    {
     "name": "stdout",
     "output_type": "stream",
     "text": [
      "Using default ISCE Path: /opt/isce2/isce\n",
      "This is the Open Source version of ISCE.\n",
      "Some of the workflows depend on a separate licensed package.\n",
      "To obtain the licensed package, please make a request for ISCE\n",
      "through the website: https://download.jpl.nasa.gov/ops/request/index.cfm.\n",
      "Alternatively, if you are a member, or can become a member of WinSAR\n",
      "you may be able to obtain access to a version of the licensed sofware at\n",
      "https://winsar.unavco.org/software/isce\n",
      "2020-11-06 01:19:57,663 - isce.insar - INFO - ISCE VERSION = 2.3, RELEASE_SVN_REVISION = 2531,RELEASE_DATE = 20190112, CURRENT_SVN_REVISION = 2531\n",
      "ISCE VERSION = 2.3, RELEASE_SVN_REVISION = 2531,RELEASE_DATE = 20190112, CURRENT_SVN_REVISION = 2531\n",
      "Step processing\n",
      "Running step verifyDEM\n",
      "Dumping the application's pickle object _insar to file  PICKLE/verifyDEM\n",
      "The remaining steps are (in order):  ['topo', 'subsetoverlaps', 'coarseoffsets', 'coarseresamp', 'overlapifg', 'prepesd', 'esd', 'rangecoreg', 'fineoffsets', 'fineresamp', 'ion', 'burstifg', 'mergebursts', 'filter', 'unwrap', 'unwrap2stage', 'geocode', 'denseoffsets', 'filteroffsets', 'geocodeoffsets']\n"
     ]
    }
   ],
   "source": [
    "!/opt/isce2/isce/applications/topsApp.py --dostep=verifyDEM"
   ]
  },
  {
   "cell_type": "markdown",
   "metadata": {
    "heading_collapsed": true,
    "hidden": true
   },
   "source": [
    "### 3.3 Step topo"
   ]
  },
  {
   "cell_type": "markdown",
   "metadata": {
    "hidden": true
   },
   "source": [
    "During topo processing, the DEM is mapped into the radar coordinates of the **reference** image. As output this generates the **reference_geom** folder containing the longitude (*lon_XX.rdr*), latitude (*lat_XX.rdr*), height (*hgt_XX.rdr*) and LOS angles (*los_XX.rdr*) on a pixel by pixel grid for each burst (*XX*). This step is the most time-consuming step. It is parallelized for performance and can also be ran with GPU support enabled. \n",
    "\n",
    "For our tutorial, anticipate this step will take 20+ min in CPU mode with 4 threads. \n",
    "***Depending on the size of the class the instructor might recommend to decrease the number of treads, pair up in teams, or stagger this processing step***.\n",
    "\n",
    "This is a good opportunity to familiarize yourself a bit more with the TOPS mode and input parameters.\n",
    "- Can you find which property in the topsApp.xml controls the GPU processing? Tip: see “topsApp.py --help”.\n",
    "- Can you find the typical incidence angle range for IW3? Tip: You could try to load the los.rdr file for a burst or search the ESA website for TOPS documentation.\n",
    "\n",
    "Once the step is complete you can have a look at the files that have been generated for each burst:"
   ]
  },
  {
   "cell_type": "code",
   "execution_count": 31,
   "metadata": {
    "hidden": true
   },
   "outputs": [
    {
     "name": "stdout",
     "output_type": "stream",
     "text": [
      "Using default ISCE Path: /opt/isce2/isce\n",
      "This is the Open Source version of ISCE.\n",
      "Some of the workflows depend on a separate licensed package.\n",
      "To obtain the licensed package, please make a request for ISCE\n",
      "through the website: https://download.jpl.nasa.gov/ops/request/index.cfm.\n",
      "Alternatively, if you are a member, or can become a member of WinSAR\n",
      "you may be able to obtain access to a version of the licensed sofware at\n",
      "https://winsar.unavco.org/software/isce\n",
      "2020-11-06 01:20:02,641 - isce.insar - INFO - ISCE VERSION = 2.3, RELEASE_SVN_REVISION = 2531,RELEASE_DATE = 20190112, CURRENT_SVN_REVISION = 2531\n",
      "ISCE VERSION = 2.3, RELEASE_SVN_REVISION = 2531,RELEASE_DATE = 20190112, CURRENT_SVN_REVISION = 2531\n",
      "Step processing\n",
      "Running step topo\n",
      "2020-11-06 01:20:03,364 - isce.zerodop.topozero - WARNING - Default Peg heading set to: -2.9087016070951264\n",
      "Polynomial Order: 0 - by - 0 \n",
      "0\t\n",
      "Polynomial Order: 0 - by - 1 \n",
      "901674\t2.32956\t\n",
      "GDAL open (R): demLat_N37_N39_Lon_W119_W117.dem.wgs84.vrt\n",
      "API open (WR): geom_reference/IW3/lat_01.rdr\n",
      "API open (WR): geom_reference/IW3/lon_01.rdr\n",
      "API open (WR): geom_reference/IW3/hgt_01.rdr\n",
      "API open (WR): geom_reference/IW3/los_01.rdr\n",
      "C pointer already created. Finalize and recreate if image dimensions changed.\n",
      "C pointer already created. Finalize and recreate if image dimensions changed.\n",
      " Initializing biquintic interpolator\n",
      " Orbit interpolation method: hermite\n",
      " Max threads used:            4\n",
      " DEM parameters:\n",
      " Dimensions:         7200        7200\n",
      " Top Left:   -119.00000000000000        39.000000000000000     \n",
      " Spacing:    2.7777777777777778E-004  -2.7777777777777778E-004\n",
      " Lon:   -119.00000000000000       -117.00027777777778     \n",
      " Lat:    37.000277777777775        39.000000000000000     \n",
      "  \n",
      " Estimated DEM bounds needed for global height range: \n",
      " Lon:   -118.52247234896539       -117.14701434052724     \n",
      " Lat:    38.134978255382514        38.755879146915802     \n",
      "  \n",
      " Actual DEM bounds used: \n",
      " Dimensions:         4953        2237\n",
      " Top Left:   -118.52249999999999        38.756111111111110     \n",
      " Spacing:    2.7777777777777778E-004  -2.7777777777777778E-004\n",
      " Lon:   -118.52249999999999       -117.14694444444444     \n",
      " Lat:    38.134999999999998        38.756111111111110     \n",
      " Lines:          879        3115\n",
      " Pixels:         1720        6672\n",
      " Max DEM height:    3225.00000    \n",
      " Primary iterations:           25\n",
      " Secondary iterations:           10\n",
      " Distance threshold :    5.0000000000000003E-002\n",
      " Processing line:            1   7593.6563577601082     \n",
      " Dopplers:    0.0000000000000000        0.0000000000000000        0.0000000000000000     \n",
      " Processing line:         1001   7593.6911850493871     \n",
      " Dopplers:    0.0000000000000000        0.0000000000000000        0.0000000000000000     \n",
      " Total convergence:    36591614  out of     37105380\n",
      "API close:  geom_reference/IW3/lat_01.rdr\n",
      "API open (R): geom_reference/IW3/lat_01.rdr\n",
      "API close:  geom_reference/IW3/lat_01.rdr\n",
      "API close:  geom_reference/IW3/lon_01.rdr\n",
      "API open (R): geom_reference/IW3/lon_01.rdr\n",
      "API close:  geom_reference/IW3/lon_01.rdr\n",
      "API close:  geom_reference/IW3/hgt_01.rdr\n",
      "API open (R): geom_reference/IW3/hgt_01.rdr\n",
      "API close:  geom_reference/IW3/hgt_01.rdr\n",
      "API close:  geom_reference/IW3/los_01.rdr\n",
      "API open (R): geom_reference/IW3/los_01.rdr\n",
      "API close:  geom_reference/IW3/los_01.rdr\n",
      "GDAL close: demLat_N37_N39_Lon_W119_W117.dem.wgs84.vrt\n",
      "2020-11-06 01:21:30,657 - isce.zerodop.topozero - WARNING - Default Peg heading set to: -2.9089785674279764\n",
      "Polynomial Order: 0 - by - 0 \n",
      "0\t\n",
      "Polynomial Order: 0 - by - 1 \n",
      "901674\t2.32956\t\n",
      "GDAL open (R): demLat_N37_N39_Lon_W119_W117.dem.wgs84.vrt\n",
      "API open (WR): geom_reference/IW3/lat_02.rdr\n",
      "API open (WR): geom_reference/IW3/lon_02.rdr\n",
      "API open (WR): geom_reference/IW3/hgt_02.rdr\n",
      "API open (WR): geom_reference/IW3/los_02.rdr\n",
      "C pointer already created. Finalize and recreate if image dimensions changed.\n",
      "C pointer already created. Finalize and recreate if image dimensions changed.\n",
      " Initializing biquintic interpolator\n",
      " Orbit interpolation method: hermite\n",
      " Max threads used:            4\n",
      " DEM parameters:\n",
      " Dimensions:         7200        7200\n",
      " Top Left:   -119.00000000000000        39.000000000000000     \n",
      " Spacing:    2.7777777777777778E-004  -2.7777777777777778E-004\n",
      " Lon:   -119.00000000000000       -117.00027777777778     \n",
      " Lat:    37.000277777777775        39.000000000000000     \n",
      "  \n",
      " Estimated DEM bounds needed for global height range: \n",
      " Lon:   -118.55629417174255       -117.18334401729727     \n",
      " Lat:    37.969047595798777        38.590061370219644     \n",
      "  \n",
      " Actual DEM bounds used: \n",
      " Dimensions:         4944        2237\n",
      " Top Left:   -118.55638888888889        38.590277777777779     \n",
      " Spacing:    2.7777777777777778E-004  -2.7777777777777778E-004\n",
      " Lon:   -118.55638888888889       -117.18333333333334     \n",
      " Lat:    37.969166666666666        38.590277777777779     \n",
      " Lines:         1476        3712\n",
      " Pixels:         1598        6541\n",
      " Max DEM height:    2769.00000    \n",
      " Primary iterations:           25\n",
      " Secondary iterations:           10\n",
      " Distance threshold :    5.0000000000000003E-002\n",
      " Processing line:            1   7593.7031124763735     \n",
      " Dopplers:    0.0000000000000000        0.0000000000000000        0.0000000000000000     \n",
      " Processing line:         1001   7593.7378308123734     \n",
      " Dopplers:    0.0000000000000000        0.0000000000000000        0.0000000000000000     \n",
      " Total convergence:    36642048  out of     37105380\n",
      "API close:  geom_reference/IW3/lat_02.rdr\n",
      "API open (R): geom_reference/IW3/lat_02.rdr\n",
      "API close:  geom_reference/IW3/lat_02.rdr\n",
      "API close:  geom_reference/IW3/lon_02.rdr\n",
      "API open (R): geom_reference/IW3/lon_02.rdr\n",
      "API close:  geom_reference/IW3/lon_02.rdr\n",
      "API close:  geom_reference/IW3/hgt_02.rdr\n",
      "API open (R): geom_reference/IW3/hgt_02.rdr\n",
      "API close:  geom_reference/IW3/hgt_02.rdr\n",
      "API close:  geom_reference/IW3/los_02.rdr\n",
      "API open (R): geom_reference/IW3/los_02.rdr\n",
      "API close:  geom_reference/IW3/los_02.rdr\n",
      "GDAL close: demLat_N37_N39_Lon_W119_W117.dem.wgs84.vrt\n",
      "2020-11-06 01:23:02,405 - isce.zerodop.topozero - WARNING - Default Peg heading set to: -2.909252342119193\n",
      "Polynomial Order: 0 - by - 0 \n",
      "0\t\n",
      "Polynomial Order: 0 - by - 1 \n",
      "901674\t2.32956\t\n",
      "GDAL open (R): demLat_N37_N39_Lon_W119_W117.dem.wgs84.vrt\n",
      "API open (WR): geom_reference/IW3/lat_03.rdr\n",
      "API open (WR): geom_reference/IW3/lon_03.rdr\n",
      "API open (WR): geom_reference/IW3/hgt_03.rdr\n",
      "API open (WR): geom_reference/IW3/los_03.rdr\n",
      "C pointer already created. Finalize and recreate if image dimensions changed.\n",
      "C pointer already created. Finalize and recreate if image dimensions changed.\n",
      " Initializing biquintic interpolator\n",
      " Orbit interpolation method: hermite\n",
      " Max threads used:            4\n",
      " DEM parameters:\n",
      " Dimensions:         7200        7200\n",
      " Top Left:   -119.00000000000000        39.000000000000000     \n",
      " Spacing:    2.7777777777777778E-004  -2.7777777777777778E-004\n",
      " Lon:   -119.00000000000000       -117.00027777777778     \n",
      " Lat:    37.000277777777775        39.000000000000000     \n",
      "  \n",
      " Estimated DEM bounds needed for global height range: \n",
      " Lon:   -118.59002432859553       -117.21955776662520     \n",
      " Lat:    37.803356013100306        38.424483326473108     \n",
      "  \n",
      " Actual DEM bounds used: \n",
      " Dimensions:         4936        2238\n",
      " Top Left:   -118.59027777777777        38.424722222222222     \n",
      " Spacing:    2.7777777777777778E-004  -2.7777777777777778E-004\n",
      " Lon:   -118.59027777777777       -117.21944444444443     \n",
      " Lat:    37.803333333333335        38.424722222222222     \n",
      " Lines:         2072        4309\n",
      " Pixels:         1476        6411\n",
      " Max DEM height:    4098.00000    \n",
      " Primary iterations:           25\n",
      " Secondary iterations:           10\n",
      " Distance threshold :    5.0000000000000003E-002\n",
      " Processing line:            1   7593.7496484014237     \n",
      " Dopplers:    0.0000000000000000        0.0000000000000000        0.0000000000000000     \n",
      " Processing line:         1001   7593.7842419167473     \n",
      " Dopplers:    0.0000000000000000        0.0000000000000000        0.0000000000000000     \n",
      " Total convergence:    36665054  out of     37105380\n",
      "API close:  geom_reference/IW3/lat_03.rdr\n",
      "API open (R): geom_reference/IW3/lat_03.rdr\n",
      "API close:  geom_reference/IW3/lat_03.rdr\n",
      "API close:  geom_reference/IW3/lon_03.rdr\n",
      "API open (R): geom_reference/IW3/lon_03.rdr\n",
      "API close:  geom_reference/IW3/lon_03.rdr\n",
      "API close:  geom_reference/IW3/hgt_03.rdr\n",
      "API open (R): geom_reference/IW3/hgt_03.rdr\n",
      "API close:  geom_reference/IW3/hgt_03.rdr\n",
      "API close:  geom_reference/IW3/los_03.rdr\n",
      "API open (R): geom_reference/IW3/los_03.rdr\n",
      "API close:  geom_reference/IW3/los_03.rdr\n",
      "GDAL close: demLat_N37_N39_Lon_W119_W117.dem.wgs84.vrt\n",
      "2020-11-06 01:24:33,097 - isce.zerodop.topozero - WARNING - Default Peg heading set to: -2.9095237778492966\n",
      "Polynomial Order: 0 - by - 0 \n",
      "0\t\n",
      "Polynomial Order: 0 - by - 1 \n",
      "901674\t2.32956\t\n",
      "GDAL open (R): demLat_N37_N39_Lon_W119_W117.dem.wgs84.vrt\n",
      "API open (WR): geom_reference/IW3/lat_04.rdr\n",
      "API open (WR): geom_reference/IW3/lon_04.rdr\n",
      "API open (WR): geom_reference/IW3/hgt_04.rdr\n",
      "API open (WR): geom_reference/IW3/los_04.rdr\n",
      "C pointer already created. Finalize and recreate if image dimensions changed.\n",
      "C pointer already created. Finalize and recreate if image dimensions changed.\n",
      " Initializing biquintic interpolator\n",
      " Orbit interpolation method: hermite\n",
      " Max threads used:            4\n",
      " DEM parameters:\n",
      " Dimensions:         7200        7200\n",
      " Top Left:   -119.00000000000000        39.000000000000000     \n",
      " Spacing:    2.7777777777777778E-004  -2.7777777777777778E-004\n",
      " Lon:   -119.00000000000000       -117.00027777777778     \n",
      " Lat:    37.000277777777775        39.000000000000000     \n",
      "  \n",
      " Estimated DEM bounds needed for global height range: \n",
      " Lon:   -118.62376407379433       -117.25576441756210     \n",
      " Lat:    37.637409293678516        38.258651186760922     \n",
      "  \n",
      " Actual DEM bounds used: \n",
      " Dimensions:         4926        2238\n",
      " Top Left:   -118.62388888888889        38.258888888888890     \n",
      " Spacing:    2.7777777777777778E-004  -2.7777777777777778E-004\n",
      " Lon:   -118.62388888888889       -117.25583333333333     \n",
      " Lat:    37.637500000000003        38.258888888888890     \n",
      " Lines:         2669        4906\n",
      " Pixels:         1355        6280\n",
      " Max DEM height:    4260.00000    \n",
      " Primary iterations:           25\n",
      " Secondary iterations:           10\n",
      " Distance threshold :    5.0000000000000003E-002\n",
      " Processing line:            1   7593.7960887080280     \n",
      " Dopplers:    0.0000000000000000        0.0000000000000000        0.0000000000000000     \n",
      " Processing line:         1001   7593.8305743490555     \n",
      " Dopplers:    0.0000000000000000        0.0000000000000000        0.0000000000000000     \n",
      " Total convergence:    36625859  out of     37105380\n",
      "API close:  geom_reference/IW3/lat_04.rdr\n",
      "API open (R): geom_reference/IW3/lat_04.rdr\n",
      "API close:  geom_reference/IW3/lat_04.rdr\n",
      "API close:  geom_reference/IW3/lon_04.rdr\n",
      "API open (R): geom_reference/IW3/lon_04.rdr\n",
      "API close:  geom_reference/IW3/lon_04.rdr\n",
      "API close:  geom_reference/IW3/hgt_04.rdr\n",
      "API open (R): geom_reference/IW3/hgt_04.rdr\n",
      "API close:  geom_reference/IW3/hgt_04.rdr\n",
      "API close:  geom_reference/IW3/los_04.rdr\n",
      "API open (R): geom_reference/IW3/los_04.rdr\n",
      "API close:  geom_reference/IW3/los_04.rdr\n",
      "GDAL close: demLat_N37_N39_Lon_W119_W117.dem.wgs84.vrt\n",
      "2020-11-06 01:26:01,768 - isce.topsinsar.topo - INFO - \n",
      "####################################################################################################\n",
      "    runTopo\n",
      "----------------------------------------------------------------------------------------------------\n",
      "topo.Bounding box for burst 0 - IW-3 = [38.288491475545705, 38.596160110839975, -118.29675708961162, -117.32521942204318]\n",
      "topo.Bounding box for burst 1 - IW-3 = [38.122553945160305, 38.43088986001576, -118.32925233986923, -117.3602435567034]\n",
      "topo.Bounding box for burst 2 - IW-3 = [37.9572422506717, 38.26519206228212, -118.36616425955093, -117.39569623062584]\n",
      "topo.Bounding box for burst 3 - IW-3 = [37.79079203465316, 38.09929023665231, -118.39961229315176, -117.43588063640527]\n",
      "topo.Dem Used = demLat_N37_N39_Lon_W119_W117.dem.wgs84\n",
      "topo.Number of common bursts IW-3 = 4\n",
      "topo.Number of lines for burst 0 - IW-3 = 1515\n",
      "topo.Number of lines for burst 1 - IW-3 = 1515\n",
      "topo.Number of lines for burst 2 - IW-3 = 1515\n",
      "topo.Number of lines for burst 3 - IW-3 = 1515\n",
      "topo.Number of pixels for bursts 0 - IW-3 = 24492\n",
      "topo.Number of pixels for bursts 1 - IW-3 = 24492\n",
      "topo.Number of pixels for bursts 2 - IW-3 = 24492\n",
      "topo.Number of pixels for bursts 3 - IW-3 = 24492\n",
      "topo.Overall bounding box = [37.79079203465316, 38.596160110839975, -118.39961229315176, -117.32521942204318]\n",
      "####################################################################################################\n",
      "Dumping the application's pickle object _insar to file  PICKLE/topo\n",
      "The remaining steps are (in order):  ['subsetoverlaps', 'coarseoffsets', 'coarseresamp', 'overlapifg', 'prepesd', 'esd', 'rangecoreg', 'fineoffsets', 'fineresamp', 'ion', 'burstifg', 'mergebursts', 'filter', 'unwrap', 'unwrap2stage', 'geocode', 'denseoffsets', 'filteroffsets', 'geocodeoffsets']\n"
     ]
    }
   ],
   "source": [
    "os.chdir(insar_dir)\n",
    "!/opt/isce2/isce/applications/topsApp.py --dostep=topo"
   ]
  },
  {
   "cell_type": "code",
   "execution_count": 32,
   "metadata": {
    "hidden": true
   },
   "outputs": [
    {
     "name": "stdout",
     "output_type": "stream",
     "text": [
      "hgt_01.rdr      hgt_04.rdr.vrt  lat_03.rdr.xml  lon_03.rdr      los_02.rdr.vrt\r\n",
      "hgt_01.rdr.vrt  hgt_04.rdr.xml  lat_04.rdr      lon_03.rdr.vrt  los_02.rdr.xml\r\n",
      "hgt_01.rdr.xml  lat_01.rdr      lat_04.rdr.vrt  lon_03.rdr.xml  los_03.rdr\r\n",
      "hgt_02.rdr      lat_01.rdr.vrt  lat_04.rdr.xml  lon_04.rdr      los_03.rdr.vrt\r\n",
      "hgt_02.rdr.vrt  lat_01.rdr.xml  lon_01.rdr      lon_04.rdr.vrt  los_03.rdr.xml\r\n",
      "hgt_02.rdr.xml  lat_02.rdr      lon_01.rdr.vrt  lon_04.rdr.xml  los_04.rdr\r\n",
      "hgt_03.rdr      lat_02.rdr.vrt  lon_01.rdr.xml  los_01.rdr      los_04.rdr.vrt\r\n",
      "hgt_03.rdr.vrt  lat_02.rdr.xml  lon_02.rdr      los_01.rdr.vrt  los_04.rdr.xml\r\n",
      "hgt_03.rdr.xml  lat_03.rdr      lon_02.rdr.vrt  los_01.rdr.xml\r\n",
      "hgt_04.rdr      lat_03.rdr.vrt  lon_02.rdr.xml  los_02.rdr\r\n"
     ]
    }
   ],
   "source": [
    "ls geom_reference/*"
   ]
  },
  {
   "cell_type": "markdown",
   "metadata": {
    "hidden": true
   },
   "source": [
    "Were you able to figure out the incidence angle for subswath 3? It is about 41$^\\circ$-46$^\\circ$. This infomation is contained in the *los.XX.rdr* files.  Its first band contains the incidence angle and the second band the azimuth angle of the satellite. There is an easy way to retrieve its average value with GDAL:"
   ]
  },
  {
   "cell_type": "code",
   "execution_count": 33,
   "metadata": {
    "hidden": true
   },
   "outputs": [
    {
     "name": "stdout",
     "output_type": "stream",
     "text": [
      "Driver: VRT/Virtual Raster\n",
      "Files: geom_reference/IW3/los_02.rdr.vrt\n",
      "       geom_reference/IW3/los_02.rdr\n",
      "Size is 24492, 1515\n",
      "Corner Coordinates:\n",
      "Upper Left  (    0.0,    0.0)\n",
      "Lower Left  (    0.0, 1515.0)\n",
      "Upper Right (24492.0,    0.0)\n",
      "Lower Right (24492.0, 1515.0)\n",
      "Center      (12246.0,  757.5)\n",
      "Band 1 Block=24492x1 Type=Float32, ColorInterp=Undefined\n",
      "  Minimum=41.670, Maximum=46.160, Mean=43.960, StdDev=1.275\n",
      "  Metadata:\n",
      "    STATISTICS_MAXIMUM=46.159736633301\n",
      "    STATISTICS_MEAN=43.960011584421\n",
      "    STATISTICS_MINIMUM=41.670024871826\n",
      "    STATISTICS_STDDEV=1.2746222558848\n",
      "    STATISTICS_VALID_PERCENT=100\n",
      "Band 2 Block=24492x1 Type=Float32, ColorInterp=Undefined\n",
      "  Minimum=-99.771, Maximum=-99.170, Mean=-99.468, StdDev=0.170\n",
      "  Metadata:\n",
      "    STATISTICS_MAXIMUM=-99.170288085938\n",
      "    STATISTICS_MEAN=-99.467780397307\n",
      "    STATISTICS_MINIMUM=-99.770805358887\n",
      "    STATISTICS_STDDEV=0.17049619035761\n",
      "    STATISTICS_VALID_PERCENT=100\n"
     ]
    }
   ],
   "source": [
    "!gdalinfo -stats geom_reference/IW3/los_02.rdr.vrt"
   ]
  },
  {
   "cell_type": "code",
   "execution_count": 34,
   "metadata": {
    "hidden": true
   },
   "outputs": [
    {
     "data": {
      "image/png": "[encoded data removed]",
      "text/plain": [
       "<Figure size 1296x1152 with 2 Axes>"
      ]
     },
     "metadata": {
      "needs_background": "light"
     },
     "output_type": "display_data"
    },
    {
     "data": {
      "image/png": "[encoded data removed]",
      "text/plain": [
       "<Figure size 1296x1152 with 2 Axes>"
      ]
     },
     "metadata": {
      "needs_background": "light"
     },
     "output_type": "display_data"
    },
    {
     "data": {
      "image/png": "[encoded data removed]",
      "text/plain": [
       "<Figure size 1296x1152 with 2 Axes>"
      ]
     },
     "metadata": {
      "needs_background": "light"
     },
     "output_type": "display_data"
    }
   ],
   "source": [
    "plotdata('geom_reference/IW3/hgt_01.rdr', band=1,\n",
    "         title='IW3: Height of Burst 1 [meter]',\n",
    "         colormap='terrain')\n",
    "plotdata('geom_reference/IW3/los_01.rdr', band=1,\n",
    "         title='IW3: Incidence angle of Burst 1 [degrees]',\n",
    "         colormap='jet')\n",
    "plotdata('geom_reference/IW3/los_01.rdr', band=2,\n",
    "         title='IW3: Azimuth angle of Burst 1 [degrees]',\n",
    "         colormap='jet')"
   ]
  },
  {
   "cell_type": "markdown",
   "metadata": {},
   "source": [
    "### 3.4 Enhanced spectral diversity"
   ]
  },
  {
   "cell_type": "code",
   "execution_count": null,
   "metadata": {},
   "outputs": [],
   "source": [
    "os.chdir(insar_dir)\n",
    "!/opt/isce2/isce/applications/topsApp.py --start=subsetoverlaps --end=esd"
   ]
  },
  {
   "cell_type": "markdown",
   "metadata": {
    "heading_collapsed": true,
    "hidden": true
   },
   "source": [
    "#### 3.4.1 Step subsetoverlaps"
   ]
  },
  {
   "cell_type": "markdown",
   "metadata": {
    "hidden": true
   },
   "source": [
    "Due to the large doppler frequency variation inherent to the TOPS acquisition mode, images supporting interferometry must be coregistered in the azimuth direction to better than 0.001 pixels, compared to regular stripmap data (0.1 of a pixel). While conventional cross-correlation of the amplitude works for the range direction, it does not provide sufficient accuracy for azimuth. The solution is to apply an Enhanced Spectral Diversity (ESD) approach to estimate the azimuth coregistration. In ESD processing, a double difference interferogram is made between the **reference** and **secondary** in the burst overlap region. As the range displacement is cancelled out, this interferogram will only show azimuthal motion. In absence of large ground deformation this azimuthal motion can be interpreted as an azimuthal coregistration offset. \n",
    "\n",
    "The following processing steps up to ESD are specific to burst overlap regions alone. \n",
    "\n",
    "By running the **subsetoverlaps** step, the top and bottom overlap between bursts is computed for the reference geometry. The information is then stored within the *overlaps* folder of the reference directory.  \n",
    "\n",
    "Note, the nomenclature \"top\" and \"bottom\" can be confusing.  In this case, it is **not** referring to the top and bottom of the burst. It is referring to burst *n* as \"top\" and burst *n+1* as \"bottom\", visualizing it as the earlier image being laid on top of the later image, which is on the bottom. \n",
    "\n",
    "![title](support_docs/esd.png)\n",
    "(Figure from Fattahi et. al., SCEC)"
   ]
  },
  {
   "cell_type": "code",
   "execution_count": null,
   "metadata": {
    "hidden": true
   },
   "outputs": [],
   "source": [
    "# Uncomment to run this step only\n",
    "!/opt/isce2/isce/applications/topsApp.py --dostep=subsetoverlaps"
   ]
  },
  {
   "cell_type": "code",
   "execution_count": null,
   "metadata": {
    "hidden": true
   },
   "outputs": [],
   "source": [
    "!ls reference/overlaps/*"
   ]
  },
  {
   "cell_type": "markdown",
   "metadata": {
    "hidden": true
   },
   "source": [
    "For each subswath being processed, you will find a *bottom_IW[].xml* and a *top_IW[].xml* file, associated with the overlap region in the the bottom and top overlapping bursts, respectively. Like before, only a IW3 folder is present for this tutorial. If you explore the file, you will find  additional information such as the FM rate and the doppler information.\n",
    "```\n",
    "    vim reference/overlaps/bottom_IW3.xml\n",
    "```\n",
    "Within the *overlaps* directory you will also find for each processed subswath a folder containing the cropped SLC's for each burst overlap region. The convention for top and bottom is as follows:\n",
    "- Burst_bot_01_02.slc and Burst_top_01_02.slc both refer to the same burst overlap region, where:\n",
    "    - Burst_bot_01_02.slc is the part of burst 2 (bot burst)\n",
    "    - Burst_top_01_02.slc is the part of burst 1 (top burst)\n",
    "- Burst_bot_02_03.slc and Burst_top_02_03.slc both refer to the same burst overlap region, where:\n",
    "    - Burst_bot_02_03.slc is the part of burst 3\n",
    "    - Burst_top_02_03.slc is the part of burst 2\n",
    "- etc...\n",
    "\n",
    "Though the overlap is not large, we will try to visualize the overlap by comparing:\n",
    "- Burst_bot_01_02.slc and Burst_top_01_02.slc\n",
    "\n",
    "Can you spot the overlap with respect to the full burst?"
   ]
  },
  {
   "cell_type": "code",
   "execution_count": null,
   "metadata": {
    "hidden": true
   },
   "outputs": [],
   "source": [
    "plotcomplexdata('reference/overlaps/IW3/burst_bot_01_02.slc.vrt',\n",
    "                title='bot_01_02 (from Burst 2)',\n",
    "                aspect=10, datamin=0, datamax=200)\n",
    "plotcomplexdata('reference/overlaps/IW3/burst_top_01_02.slc.vrt',\n",
    "                title='top_01_02 (from Burst 1)',\n",
    "                aspect=10, datamin=0, datamax=200)\n",
    "plotcomplexdata('reference/IW3/burst_01.slc.vrt',\n",
    "                title='Burst 1',\n",
    "                aspect=10, datamin=0, datamax=200)\n",
    "plotcomplexdata('reference/IW3/burst_02.slc.vrt',\n",
    "                title='Burst 2', aspect=10,\n",
    "                datamin=0,datamax=200,\n",
    "                draw_colorbar=True,\n",
    "                colorbar_orientation=\"horizontal\")"
   ]
  },
  {
   "cell_type": "markdown",
   "metadata": {
    "heading_collapsed": true,
    "hidden": true
   },
   "source": [
    "#### 3.4.2 Step coarseoffsets"
   ]
  },
  {
   "cell_type": "markdown",
   "metadata": {
    "hidden": true
   },
   "source": [
    "A coarse coregistration can be done using the orbits alone. This is also referred to as geometric coregistration. As ESD is applied in burst overlap region, there is no need to apply this **coarseoffsets** estimation step to the complete SLC. Instead, we estimate the coarse offset for each burst overlap as identified in the previous step."
   ]
  },
  {
   "cell_type": "code",
   "execution_count": null,
   "metadata": {
    "hidden": true
   },
   "outputs": [],
   "source": [
    "# Uncomment to run this step only\n",
    "!/opt/isce2/isce/applications/topsApp.py --dostep=coarseoffsets"
   ]
  },
  {
   "cell_type": "markdown",
   "metadata": {
    "hidden": true
   },
   "source": [
    "As output this generates a \"*coarse_offsets/overlaps*\" folder, within which is a subswath breakdown (*IW*) containing pixel-by-pixel azimuth offsets (*azimuth_[top,bot]_XX_YY.off*) and range offsets (*range_[top,bot]_XX_YY.off*) for each burst overlap."
   ]
  },
  {
   "cell_type": "code",
   "execution_count": null,
   "metadata": {
    "hidden": true
   },
   "outputs": [],
   "source": [
    "ls coarse_offsets/overlaps/IW3/*"
   ]
  },
  {
   "cell_type": "markdown",
   "metadata": {
    "hidden": true
   },
   "source": [
    "Let us plot the average azimuth offset is for burst overlap: bot_01_02"
   ]
  },
  {
   "cell_type": "code",
   "execution_count": null,
   "metadata": {
    "hidden": true
   },
   "outputs": [],
   "source": [
    "plotdata('coarse_offsets/overlaps/IW3/azimuth_bot_01_02.off.vrt', band=1,\n",
    "         title='Azimuth bot_01_02', colormap='gray', aspect=10,\n",
    "         nodata=-999999.)\n",
    "!gdalinfo -stats coarse_offsets/overlaps/IW3/range_bot_01_02.off.vrt"
   ]
  },
  {
   "cell_type": "markdown",
   "metadata": {
    "hidden": true
   },
   "source": [
    "Now do the same for the range offset."
   ]
  },
  {
   "cell_type": "code",
   "execution_count": null,
   "metadata": {
    "hidden": true
   },
   "outputs": [],
   "source": [
    "plotdata('coarse_offsets/overlaps/IW3/range_bot_01_02.off.vrt', band=1,\n",
    "         title='Range bot_01_02', colormap='gray', aspect=10,\n",
    "         nodata=-999999)\n",
    "!gdalinfo -stats coarse_offsets/overlaps/IW3/range_bot_01_02.off.vrt\n"
   ]
  },
  {
   "cell_type": "markdown",
   "metadata": {
    "heading_collapsed": true,
    "hidden": true
   },
   "source": [
    "#### 3.4.3 Step coarseresamp"
   ]
  },
  {
   "cell_type": "markdown",
   "metadata": {
    "hidden": true
   },
   "source": [
    "Both reference and secondary need to be in a common geometry prior to interferogram formation. In this step we will be taking the outputs from the coarse offset estimation and resample the secondary burst overlaps into the reference geometry."
   ]
  },
  {
   "cell_type": "code",
   "execution_count": null,
   "metadata": {
    "hidden": true
   },
   "outputs": [],
   "source": [
    "# Uncomment to run this step only\n",
    "!/opt/isce2/isce/applications/topsApp.py --dostep=coarseresamp"
   ]
  },
  {
   "cell_type": "markdown",
   "metadata": {
    "hidden": true
   },
   "source": [
    "The output of this step is stored in the \"*coarse_coreg/overlaps/*\" folder for each subswath. "
   ]
  },
  {
   "cell_type": "code",
   "execution_count": null,
   "metadata": {
    "hidden": true
   },
   "outputs": [],
   "source": [
    "ls coarse_coreg/overlaps/IW3/*"
   ]
  },
  {
   "cell_type": "markdown",
   "metadata": {
    "heading_collapsed": true,
    "hidden": true
   },
   "source": [
    "#### 3.4.4 Step overlapifg"
   ]
  },
  {
   "cell_type": "markdown",
   "metadata": {
    "hidden": true
   },
   "source": [
    "Now that the reference and secondary burst overlap SLC's are in the same geometry we can compute the interferogram between the reference and the secondary. As there is a bottom and top set of SLC's, there will be two interferograms for each burst overlap: \n",
    "$$\\Delta\\Phi_{\\text{bot}}  = \\Phi_{\\text{bot}}^{\\text{ref}}*conj\\left( \\Phi_{\\text{bot}}^{\\text{sec}}\\right) $$\n",
    "$$\\Delta\\Phi_{\\text{top}}  = \\Phi_{\\text{top}}^{\\text{ref}}*conj\\left( \\Phi_{\\text{top}}^{\\text{sec}}\\right) $$"
   ]
  },
  {
   "cell_type": "code",
   "execution_count": null,
   "metadata": {
    "hidden": true
   },
   "outputs": [],
   "source": [
    "# Uncomment to run this step only\n",
    "!/opt/isce2/isce/applications/topsApp.py --dostep=overlapifg"
   ]
  },
  {
   "cell_type": "markdown",
   "metadata": {
    "hidden": true
   },
   "source": [
    "As output this generates a \"*coarse_interferogram/overlaps*\" folder, with in it a subswath breakdown (*IW*) containing the inteferograms (*burst_[top,bot]_XX_YY.int*) and multi-looked inteferograms (*burst_[top,bot]_XX_YY.7alks_19rlks.int*) for each burst overlap."
   ]
  },
  {
   "cell_type": "code",
   "execution_count": null,
   "metadata": {
    "hidden": true
   },
   "outputs": [],
   "source": [
    "ls coarse_interferogram/overlaps/IW3*"
   ]
  },
  {
   "cell_type": "markdown",
   "metadata": {
    "hidden": true
   },
   "source": [
    "Let us plot all the multi-looked interferograms for the \"top burst\" overlaps together."
   ]
  },
  {
   "cell_type": "code",
   "execution_count": null,
   "metadata": {
    "hidden": true
   },
   "outputs": [],
   "source": [
    "plotstackcomplexdata('coarse_interferogram/overlaps/IW3/burst_top_*.3alks_7rlks.int',\n",
    "                     title=\"Top overlaps \", aspect=10, datamin=0, datamax=6000,\n",
    "                     draw_colorbar=True, colorbar_orientation=\"horizontal\")"
   ]
  },
  {
   "cell_type": "markdown",
   "metadata": {
    "hidden": true
   },
   "source": [
    "As you can see there is a large fringe-rate in the interferograms, especially towards the center of our study area. Do you have any thoughts why this might be?"
   ]
  },
  {
   "cell_type": "markdown",
   "metadata": {
    "heading_collapsed": true,
    "hidden": true
   },
   "source": [
    "#### 3.4.5 Step prepesd"
   ]
  },
  {
   "cell_type": "markdown",
   "metadata": {
    "hidden": true
   },
   "source": [
    "Now that the bottom and top interferograms have been calculated the double difference interferogram can be calculated, this procedure is also referred to as spectral diversity: \n",
    "$$\\Delta\\Phi_{\\text{ESD}} = \\Delta\\Phi_{\\text{bot}}*conj\\left(\\Delta\\Phi_{\\text{top}}\\right)$$"
   ]
  },
  {
   "cell_type": "code",
   "execution_count": null,
   "metadata": {
    "hidden": true
   },
   "outputs": [],
   "source": [
    "#Uncomment to run this step only\n",
    "!/opt/isce2/isce/applications/topsApp.py --dostep=prepesd"
   ]
  },
  {
   "cell_type": "markdown",
   "metadata": {
    "hidden": true
   },
   "source": [
    "As output this generates a \"*ESD*\" folder, with in it the inteferograms (*overlap_[IW?]_XX.int*) and multi-looked interferograms (*overlap_[IW?]_XX.5alks_15rlks.int*) for each burst overlap *XX*."
   ]
  },
  {
   "cell_type": "markdown",
   "metadata": {
    "heading_collapsed": true,
    "hidden": true
   },
   "source": [
    "#### 3.4.6 Step esd"
   ]
  },
  {
   "cell_type": "markdown",
   "metadata": {
    "hidden": true
   },
   "source": [
    "The double difference interferogram only captures displacements in the azimuth direction. During the **esd** step, the phase of the double difference interferogram for each burst overlap is converted to pixel offsets using the azimuth frequency and difference of the Doppler Centroid frequency between the forward and backward-looking geometry. \n",
    "\n",
    "$$ \\text{offset}_{\\text{azimuth}}= \\frac{f_{\\text{azimuth}}}{2\\pi} \\frac{\\text{arg}\\left[e^{ j\\Delta\\Phi_{\\text{ESD}}} \\right]}{\\Delta f_{\\text{DC}}^{\\text{overlap}}}$$\n",
    "\n",
    "Once completed, all the offsets are combined together, and the mean of the distribution is taken as the azimuth coregistration offset. Note only those pixels with a coherence > than 0.85 are considered. \n",
    "\n",
    "<div class=\"alert alert-danger\">\n",
    "<b>POTENTIAL ISSUE:</b> \n",
    "Coherence is too bad to find reliable point to estimate the ESD threshold. Either take one the following two options listed below.\n",
    "</div>\n",
    "<br>\n",
    "<div class=\"alert alert-warning\">\n",
    "<b>ESD threshold:</b> \n",
    "The ESD coherence threshold can be changed by the user in the **topsApp.xml** using the property **ESD coherence threshold\"**. It is recommended not to go below 0.7. \n",
    "</div>\n",
    "<br>\n",
    "<div class=\"alert alert-warning\">\n",
    "<b>SKIP ESD:</b> \n",
    "In case you do not want to perform ESD, e.g. the coherence is to bad in the overlap regions, you could opt to skip ESD and only use the orbit information. This is controlled via **topsApp.xml** with the property **do ESD**. \n",
    "</div>"
   ]
  },
  {
   "cell_type": "code",
   "execution_count": null,
   "metadata": {
    "hidden": true
   },
   "outputs": [],
   "source": [
    "# Uncomment to run this step only\n",
    "!/opt/isce2/isce/applications/topsApp.py --dostep=esd"
   ]
  },
  {
   "cell_type": "markdown",
   "metadata": {
    "hidden": true
   },
   "source": [
    "At the completion of the **esd** step you will see that *combined_*\\**[.cor,.int,freq.bin]* files as well as an *ESDmisregistration.jpg* figure have been added to the \"*ESD*\" folder."
   ]
  },
  {
   "cell_type": "code",
   "execution_count": null,
   "metadata": {
    "hidden": true
   },
   "outputs": [],
   "source": [
    "ls ESD/combined* ESD/ESDmisregistration*"
   ]
  },
  {
   "cell_type": "markdown",
   "metadata": {
    "hidden": true
   },
   "source": [
    "The combined coherence and interferogram files are used as input to the ESD azimuth offset estimation:"
   ]
  },
  {
   "cell_type": "code",
   "execution_count": null,
   "metadata": {
    "hidden": true
   },
   "outputs": [],
   "source": [
    "# Plot ESD coherence\n",
    "plotdata('ESD/combined_IW3.cor', band=1,\n",
    "         title=\"coherence [-]\", aspect=10,\n",
    "         datamin=0, datamax=1, background='yes')\n",
    "\n",
    "# Plot double difference interferogram\n",
    "plotcomplexdata('ESD/combined_IW3.int',\n",
    "                title=\"Diff IFG [-]\", aspect=10,\n",
    "                datamin=100000, datamax=100000000,\n",
    "                draw_colorbar=True)"
   ]
  },
  {
   "cell_type": "markdown",
   "metadata": {
    "hidden": true
   },
   "source": [
    "In general, high coherence can be observed (> 0.85), and thus most pixels will be used in the ESD histogram generation. The interferogram shows strong azimuthal motion at the location of the earthquake. Away from the earthquake the impact is less, showing on average ~0 rad of azimuthal phase. Let us investigate if this potentially has biased the ESD estimation by inspecting the historgram figure that was created as part of the **esd** step:"
   ]
  },
  {
   "cell_type": "code",
   "execution_count": null,
   "metadata": {
    "hidden": true
   },
   "outputs": [],
   "source": [
    "import matplotlib.image as mpimg\n",
    "img= mpimg.imread(\"ESD/ESDmisregistration.png\")\n",
    "fig = plt.figure(figsize=(10, 11))\n",
    "plt.imshow(img);"
   ]
  },
  {
   "cell_type": "markdown",
   "metadata": {
    "hidden": true
   },
   "source": [
    "<div class=\"alert alert-warning\">\n",
    "<b>TIP:</b> \n",
    "It is always good to inspect the inputs of the ESD calculation, as there are sources such as ionosphere and tectonic deformation that can cause an apparent azimuthal shift, potentially biasing the mean of the ESD estimation.\n",
    "</div>"
   ]
  },
  {
   "cell_type": "markdown",
   "metadata": {
    "heading_collapsed": true,
    "hidden": true
   },
   "source": [
    "### 3.5 Step rangecoreg"
   ]
  },
  {
   "cell_type": "markdown",
   "metadata": {
    "hidden": true
   },
   "source": [
    "In the next step we will estimate the offset in the range direction by doing an amplitude cross-correlation between the reference and secondary burst overlaps. As for the azimuth offsets, a histogram of the range offset is used to estimate the mean range offset for the complete SLC. Note only pixels with an SNR of 8 or above are considered."
   ]
  },
  {
   "cell_type": "code",
   "execution_count": null,
   "metadata": {
    "hidden": true
   },
   "outputs": [],
   "source": [
    "os.chdir(insar_dir)\n",
    "!/opt/isce2/isce/applications/topsApp.py --dostep=rangecoreg"
   ]
  },
  {
   "cell_type": "markdown",
   "metadata": {
    "hidden": true
   },
   "source": [
    "Let us vizualize the results:"
   ]
  },
  {
   "cell_type": "code",
   "execution_count": null,
   "metadata": {
    "hidden": true
   },
   "outputs": [],
   "source": [
    "ls ESD"
   ]
  },
  {
   "cell_type": "code",
   "execution_count": null,
   "metadata": {
    "hidden": true
   },
   "outputs": [],
   "source": [
    "import matplotlib.image as mpimg\n",
    "img= mpimg.imread(\"ESD/rangeMisregistration.jpg\")\n",
    "fig = plt.figure(figsize=(10, 11))\n",
    "plt.imshow(img);"
   ]
  },
  {
   "cell_type": "markdown",
   "metadata": {},
   "source": [
    "### 3.6 Coregistered bursts"
   ]
  },
  {
   "cell_type": "code",
   "execution_count": null,
   "metadata": {},
   "outputs": [],
   "source": [
    "os.chdir(insar_dir)\n",
    "!/opt/isce2/isce/applications/topsApp.py --start=fineoffsets --end=fineresamp"
   ]
  },
  {
   "cell_type": "markdown",
   "metadata": {
    "heading_collapsed": true,
    "hidden": true
   },
   "source": [
    "#### 3.6.1 Step fineoffsets"
   ]
  },
  {
   "cell_type": "markdown",
   "metadata": {
    "hidden": true
   },
   "source": [
    "Now that we have estimated the range and azimuth offsets using the burst overlap regions, we will apply them to the full bursts in the **fineoffsets** step. "
   ]
  },
  {
   "cell_type": "code",
   "execution_count": null,
   "metadata": {
    "hidden": true
   },
   "outputs": [],
   "source": [
    "# Uncomment to run only this step\n",
    "!/opt/isce2/isce/applications/topsApp.py --dostep=fineoffsets"
   ]
  },
  {
   "cell_type": "markdown",
   "metadata": {
    "hidden": true
   },
   "source": [
    "The output is stored in the *fine_offsets* folder for each subswath, with an azimuth offset file (*azimuth_XX.off*) and a range offset file (*range_XX.off*) for each burst *XX*."
   ]
  },
  {
   "cell_type": "code",
   "execution_count": null,
   "metadata": {
    "hidden": true
   },
   "outputs": [],
   "source": [
    "ls fine_offsets/*"
   ]
  },
  {
   "cell_type": "markdown",
   "metadata": {
    "heading_collapsed": true,
    "hidden": true
   },
   "source": [
    "#### 3.6.2 Step fineresamp"
   ]
  },
  {
   "cell_type": "markdown",
   "metadata": {
    "hidden": true
   },
   "source": [
    "The burst fine offset files just created are used to resample the secondary burst SLC's into the reference geometry using the **fineresamp** step."
   ]
  },
  {
   "cell_type": "code",
   "execution_count": null,
   "metadata": {
    "hidden": true
   },
   "outputs": [],
   "source": [
    "#Uncomment to run this step only\n",
    "!/opt/isce2/isce/applications/topsApp.py --dostep=fineresamp"
   ]
  },
  {
   "cell_type": "markdown",
   "metadata": {
    "hidden": true
   },
   "source": [
    "The output is stored in the *coreg_fine* folder for each subswath, containing the resampled secondary burst SLC's (*burst_XX.slc*)."
   ]
  },
  {
   "cell_type": "markdown",
   "metadata": {},
   "source": [
    "### 3.7 Ionospheric phase screen"
   ]
  },
  {
   "cell_type": "markdown",
   "metadata": {},
   "source": [
    "In this tutorial, we are going to skip this step. We encourage students to read up on this step and setup appropriate parameters in **topsApp.xml** to exercise this option. By default, no ionosphere correction is performed. So this step is a pass through for this exercise."
   ]
  },
  {
   "cell_type": "code",
   "execution_count": null,
   "metadata": {},
   "outputs": [],
   "source": [
    "os.chdir(insar_dir)\n",
    "!/opt/isce2/isce/applications/topsApp.py --dostep=ion"
   ]
  },
  {
   "cell_type": "markdown",
   "metadata": {},
   "source": [
    "### 3.8 Interferogram generation"
   ]
  },
  {
   "cell_type": "code",
   "execution_count": null,
   "metadata": {},
   "outputs": [],
   "source": [
    "os.chdir(insar_dir)\n",
    "!/opt/isce2/isce/applications/topsApp.py --start=burstifg --end=filter"
   ]
  },
  {
   "cell_type": "markdown",
   "metadata": {
    "heading_collapsed": true,
    "hidden": true
   },
   "source": [
    "#### 3.8.1 Step burstifg"
   ]
  },
  {
   "cell_type": "markdown",
   "metadata": {
    "hidden": true
   },
   "source": [
    "The secondary and reference burst SLC's are now in a common geometry, and interferograms can be computed for each burst. We will do this as part of the **burstifg** step."
   ]
  },
  {
   "cell_type": "code",
   "execution_count": null,
   "metadata": {
    "hidden": true
   },
   "outputs": [],
   "source": [
    "#Uncomment to run this step only\n",
    "!/opt/isce2/isce/applications/topsApp.py --dostep=burstifg"
   ]
  },
  {
   "cell_type": "markdown",
   "metadata": {
    "hidden": true
   },
   "source": [
    "This step generates a \"*fine_interferogram*\" folder, within which is a subswath breakdown (*IW*), each containing their respective interferograms (*burst_XX.int*), the coherence (*burst_XX.cor*), and the multilooked interferograms (*burst_XX.3alks_7rlks.int*) for each burst *XX*."
   ]
  },
  {
   "cell_type": "code",
   "execution_count": null,
   "metadata": {
    "hidden": true
   },
   "outputs": [],
   "source": [
    "ls fine_interferogram/*"
   ]
  },
  {
   "cell_type": "markdown",
   "metadata": {
    "hidden": true
   },
   "source": [
    "Here is a plot of one of the burst interferograms:"
   ]
  },
  {
   "cell_type": "code",
   "execution_count": null,
   "metadata": {
    "hidden": true
   },
   "outputs": [],
   "source": [
    "plotcomplexdata('fine_interferogram/IW3/burst_03.3alks_7rlks.int.vrt', \n",
    "                title=\"Burst 3 IFG \", aspect=3, datamin=0, datamax=10000,\n",
    "                draw_colorbar=True)"
   ]
  },
  {
   "cell_type": "markdown",
   "metadata": {
    "heading_collapsed": true,
    "hidden": true
   },
   "source": [
    "#### 3.8.2 Step mergebursts"
   ]
  },
  {
   "cell_type": "markdown",
   "metadata": {
    "hidden": true
   },
   "source": [
    "As you can tell from the figure, it is hard to capture the full extent of the earthquake deformation from a single burst. In the **mergebursts** step, we will combine the different bursts together to generate a combined product."
   ]
  },
  {
   "cell_type": "code",
   "execution_count": null,
   "metadata": {
    "hidden": true
   },
   "outputs": [],
   "source": [
    "#Uncomment to run this step only\n",
    "!/opt/isce2/isce/applications/topsApp.py --dostep=mergebursts"
   ]
  },
  {
   "cell_type": "markdown",
   "metadata": {
    "hidden": true
   },
   "source": [
    "The output is written into the \"*merged*\" folder. This folder contains the merged interferogram (**topophase.flat**), the coherence (**topophase.cor**), the line-of-sight (LOS) angles (**los.rdr**), the heights (**z.rdr**), the longitude (**lon.rdr**), and the latitude information (**lat.rdr**). These files are multilooked, while files with a *.full* suffix refer to the full resolution data. You can also find a merged SLC for the reference (**reference.slc.full.vrt**) and the secondary (**reference.slc.full.vrt**). These files are generated if **do denseoffsets** property is set to *True* in **topsApp.xml**. You can use *gdalinfo* to explore the format of these files and the number of bands.\n",
    "\n",
    "\n",
    "Here is a plot of the merged intergerogram:"
   ]
  },
  {
   "cell_type": "code",
   "execution_count": null,
   "metadata": {
    "hidden": true
   },
   "outputs": [],
   "source": [
    "plotcomplexdata('merged/topophase.flat.vrt', \n",
    "                title=\"MERGED IFG \", aspect=3,\n",
    "                datamin=0, datamax=10000, draw_colorbar=True)"
   ]
  },
  {
   "cell_type": "markdown",
   "metadata": {
    "hidden": true
   },
   "source": [
    "In this particular example, there appears to be no obvious discontinuities in the earthquake region across bursts. With other earthquakes, we often observe slight misalignment of bursts close to the rupture. This is likely introduced by either the ionosphere or leakage of the earthquake azimuth deformation into the ESD estimation procedure. Two potential avenues can be further explored:\n",
    "\n",
    "1. In addition to the ESD threshold, mask out pixels within the earthquake region. i.e. let the ESD estimation be described by the far-field.\n",
    "2. Specify not to use ESD in the topsApp.xml. Instead only use the orbit information for coregistration purposes."
   ]
  },
  {
   "cell_type": "markdown",
   "metadata": {
    "heading_collapsed": true,
    "hidden": true
   },
   "source": [
    "#### 3.8.3 Step filter"
   ]
  },
  {
   "cell_type": "markdown",
   "metadata": {
    "hidden": true
   },
   "source": [
    "Multilooking reduces noise, but it is often insufficient for interpreting the interferogram or unwrapping. We often apply additional filtering to improve the SNR."
   ]
  },
  {
   "cell_type": "code",
   "execution_count": null,
   "metadata": {
    "hidden": true
   },
   "outputs": [],
   "source": [
    "# Uncomment to run this step only\n",
    "!/opt/isce2/isce/applications/topsApp.py --dostep=filter"
   ]
  },
  {
   "cell_type": "markdown",
   "metadata": {
    "hidden": true
   },
   "source": [
    "The outputs of the filtering step are added to the merged folder, where the filtered interferogram is called **filt_topophase.flat**, and the filtered coherence **phsig.cor**. Note that the latter is different from conventional coherence: it is based on an estimate of the standard deviation of the phase translated back to coherence through the Cramer-Rao bound relationship:\n",
    "\n",
    "$\\gamma = \\frac{1}{\\sqrt{1+2N\\sigma_\\phi^2}}$\n",
    "\n",
    "Let us compare the filtered and unfiltered interferograms:"
   ]
  },
  {
   "cell_type": "code",
   "execution_count": null,
   "metadata": {
    "hidden": true,
    "scrolled": false
   },
   "outputs": [],
   "source": [
    "plotcomplexdata('merged/topophase.flat.vrt',\n",
    "                title=\"MERGED IFG \", aspect=3,\n",
    "                datamin=0, datamax=10000, draw_colorbar=True)\n",
    "plotcomplexdata('merged/filt_topophase.flat.vrt', \n",
    "                title=\"MERGED FILT IFG \", aspect=1,\n",
    "                datamin=0, datamax=10000, draw_colorbar=True)"
   ]
  },
  {
   "cell_type": "markdown",
   "metadata": {
    "hidden": true
   },
   "source": [
    "<div class=\"alert alert-warning\">\n",
    "<b>FILTER STRENGTH:</b> \n",
    "The amount of filtering can be controlled through the **\"filter strength\"** property in the **topsApp.xml file**.</div>\n",
    "<div class=\"alert alert-danger\">\n",
    "<b>POTENTIAL ISSUE:</b> \n",
    "As a user you can change the filtering strength. Care should be taken, as a smoother and cleaner interferogram does not necessarily imply a better interferogram. Always inspect the interferogram before and after filtering and assess if false signals are introduced or if dense fringes are oversmoothed due to overfiltering. Look carefully at noisy regions, where fringes from coherent areas \"bleed\" into noisy areas.\n",
    "</div>\n"
   ]
  },
  {
   "cell_type": "markdown",
   "metadata": {},
   "source": [
    "### 3.9 Phase unwrapping"
   ]
  },
  {
   "cell_type": "code",
   "execution_count": null,
   "metadata": {},
   "outputs": [],
   "source": [
    "os.chdir(insar_dir)\n",
    "!/opt/isce2/isce/applications/topsApp.py --start=unwrap --end=unwrap2stage"
   ]
  },
  {
   "cell_type": "markdown",
   "metadata": {
    "heading_collapsed": true,
    "hidden": true
   },
   "source": [
    "#### 3.9.1 Step unwrap"
   ]
  },
  {
   "cell_type": "markdown",
   "metadata": {
    "hidden": true
   },
   "source": [
    "In the next step we will use **snaphu** to unwrap the interferogram:"
   ]
  },
  {
   "cell_type": "code",
   "execution_count": null,
   "metadata": {
    "hidden": true
   },
   "outputs": [],
   "source": [
    "#Uncomment to run this step only\n",
    "!/opt/isce2/isce/applications/topsApp.py --dostep=unwrap"
   ]
  },
  {
   "cell_type": "markdown",
   "metadata": {
    "hidden": true
   },
   "source": [
    "The unwrapped output is added to the \"*merged*\" folder. The unwrapped interferogram is contained in **filt_topophase.unw**. You will also find the connected components stored in **filt_topophase.conncomp**. We plot them below and inspect the results for potential errors.\n",
    "\n",
    "<div class=\"alert alert-warning\">\n",
    "<b>INSPECT CONNECTED COMPONENT OUPUT:</b> \n",
    "The connected component file is a metric of the unwrapping performance. It provides information on which parts of the unwrapped image are connected. Regions with a different connected component can have a phase jump equivalent to a multiple of 2 $\\pi$. It is therefore important to always inspect both the phase and the connected component output together. </div>\n",
    "\n",
    "<div class=\"alert alert-warning\">\n",
    "<b>CONNECTED COMPONENT NUMBERS:</b> \n",
    "Connected component 0 refers to those pixels which cannot be reliably unwrapped. These should be masked out before doing any sort of modeling. The other connected components increment by 1 per isolated region.\n",
    "</div>\n",
    "<div class=\"alert alert-danger\">\n",
    "<b>UNWRAPPING ERROR EXAMPLE:</b> \n",
    "To see unwrapped result with non-physical phase jumps, run the \"icu\" unwrapper by changing the **unwrapper name** property in **topsApp.xml** to *icu*. Note that the filename for the icu connected component is **filt_topophase.conncomp**.\n",
    "</div>\n"
   ]
  },
  {
   "cell_type": "code",
   "execution_count": null,
   "metadata": {
    "hidden": true,
    "scrolled": false
   },
   "outputs": [],
   "source": [
    "plotdata('merged/filt_topophase.unw', band=2,\n",
    "         title=\"UNW FILT IFG [rad] \",\n",
    "         colormap='jet', colorbar_orientation=\"vertical\")\n",
    "\n",
    "plotdata('merged/filt_topophase.unw.conncomp', band=1,\n",
    "         title=\"UNW CONN COMP [-] \", colormap='jet',\n",
    "         colorbar_orientation=\"vertical\",\n",
    "         nodata=0)"
   ]
  },
  {
   "cell_type": "markdown",
   "metadata": {
    "heading_collapsed": true,
    "hidden": true
   },
   "source": [
    "#### 3.9.2 Step unwrap2stage"
   ]
  },
  {
   "cell_type": "markdown",
   "metadata": {
    "hidden": true
   },
   "source": [
    "There is also a two-stage unwrapper where the outputs of the connected component file are used to adjust the unwrapped interferogram. During this optimization procedure, the phase offset between connected component boundaries are minimized. This step can only be run if the unwrapping was done with the  *snaphu_mcf* unwrapper, and also requires the **\"do unwrap2stage\"** property to be set to *True*. Both are controlled in the topsApp.xml. \n",
    "\n",
    "We did not enable the two stage unwrapper. The impact should be small given only small scale connected components.  Executing the **unwrap2stage** will therefore complete instantly."
   ]
  },
  {
   "cell_type": "code",
   "execution_count": null,
   "metadata": {
    "hidden": true
   },
   "outputs": [],
   "source": [
    "#Uncomment to run this step only\n",
    "!/opt/isce2/isce/applications/topsApp.py --dostep=unwrap2stage"
   ]
  },
  {
   "cell_type": "markdown",
   "metadata": {
    "heading_collapsed": true,
    "hidden": true
   },
   "source": [
    "### 3.10 Step geocode"
   ]
  },
  {
   "cell_type": "markdown",
   "metadata": {
    "hidden": true
   },
   "source": [
    "In the next step we will **geocode** many of the output products created to this point. By default topsApp.py geocodes the following files: **filt_topophase.flat**, **filt_topophase.unw**, **los.rdr**, **phsig.cor**, **topophase.cor** and **topophase.flat**. The user can control which files are geocoded using the **\"geocode list\"** property in **topsApp.xml**."
   ]
  },
  {
   "cell_type": "code",
   "execution_count": null,
   "metadata": {
    "hidden": true
   },
   "outputs": [],
   "source": [
    "os.chdir(insar_dir)\n",
    "!/opt/isce2/isce/applications/topsApp.py --dostep=geocode"
   ]
  },
  {
   "cell_type": "code",
   "execution_count": null,
   "metadata": {
    "hidden": true,
    "scrolled": false
   },
   "outputs": [],
   "source": [
    "plotdata('merged/filt_topophase.unw.geo', band=2,\n",
    "         title=\"UNW GEO FILT IFG [rad] \", colormap='jet',\n",
    "         colorbar_orientation=\"vertical\", datamin=-20, datamax=50)\n",
    "#plotdata('merged/filt_topophase_2stage.unw.geo',2,title=\"UNW 2-stage GEO FILT IFG [rad] \",colormap='jet',colorbar_orientation=\"vertical\",datamin=-40, datamax=200)"
   ]
  },
  {
   "cell_type": "markdown",
   "metadata": {
    "heading_collapsed": true,
    "hidden": true
   },
   "source": [
    "#### 3.10.1 Changing your geocode DEM or using your own DEM"
   ]
  },
  {
   "cell_type": "markdown",
   "metadata": {
    "hidden": true
   },
   "source": [
    "To experiment with a coarser resolution DEM, proceed with this section. By default, the geocoding in topsApp.py is done at the same sampling as processing DEM. However, a different DEM can be specified using the **geocode demfilename** property. "
   ]
  },
  {
   "cell_type": "markdown",
   "metadata": {
    "heading_collapsed": true,
    "hidden": true
   },
   "source": [
    "##### Option 1: Downsample your processing DEM"
   ]
  },
  {
   "cell_type": "markdown",
   "metadata": {
    "hidden": true
   },
   "source": [
    "The ISCE contrib folder has a script called **downsampleDEM.py** that allows you to downsample a DEM to a user-defined sampling. To see how to call the function type: "
   ]
  },
  {
   "cell_type": "code",
   "execution_count": null,
   "metadata": {
    "hidden": true
   },
   "outputs": [],
   "source": [
    "!downsampleDEM.py -h"
   ]
  },
  {
   "cell_type": "markdown",
   "metadata": {
    "hidden": true
   },
   "source": [
    "Let us now locally downsample this dem to 120m using **downsampleDEM.py**"
   ]
  },
  {
   "cell_type": "code",
   "execution_count": null,
   "metadata": {
    "hidden": true
   },
   "outputs": [],
   "source": [
    "!downsampleDEM.py -i demLat_N37_N39_Lon_W119_W117.dem.wgs84.vrt -rmeter 120"
   ]
  },
  {
   "cell_type": "code",
   "execution_count": null,
   "metadata": {},
   "outputs": [],
   "source": [
    "!ls Coarse*.wgs84*"
   ]
  },
  {
   "cell_type": "markdown",
   "metadata": {
    "hidden": true
   },
   "source": [
    "Now update your **geocode demfilename** in the topsApp.xml file with the new coarse DEM. Once done, you can run the geocode step again:"
   ]
  },
  {
   "cell_type": "code",
   "execution_count": null,
   "metadata": {
    "hidden": true
   },
   "outputs": [],
   "source": [
    "!/opt/isce2/isce/applications/topsApp.py --dostep=geocode\n",
    "plotdata('merged/filt_topophase.unw.geo', band=2,\n",
    "         title=\"UNW GEO FILT IFG [rad] \",\n",
    "         colormap='jet',colorbar_orientation=\"vertical\")"
   ]
  },
  {
   "cell_type": "markdown",
   "metadata": {
    "heading_collapsed": true,
    "hidden": true
   },
   "source": [
    "##### Option 2: Use of a different DEM (User exercise)"
   ]
  },
  {
   "cell_type": "markdown",
   "metadata": {
    "hidden": true
   },
   "source": [
    "DEMs are often available in different formats. The checklist for bringing your own DEM for processing the data is as follows:\n",
    "\n",
    "1. Map projection: ISCE currently supports only EPSG:4326 / EPSG:4979 projection systems - i.e lat/lon on a WGS84 Ellipsoid. If your DEM is in another system like Polar Stereographic or UTM- you will need to reproject it to lat/lon using gdalwarp or your favorite tools.\n",
    "\n",
    "2. File format: ISCE currently supports flat binary rasters only. If your DEM is in a geotiff / GMTs grd format you will need to convert it to flat binary format. We recommend using gdal_translate to convert it to a ENVI file format.\n",
    "\n",
    "3. Generate the XML and VRT file to go with the flat binary. This can be done with gdal2isce_xml.py. Using this script with an ENVI format file will generate the right ISCE XML and VRT files.\n",
    "\n",
    "\n",
    "4. If DEM is in another folder and you want to use it for processing, use fixImageXml.py to set the paths in the xml file to use absolute paths. \n",
    "\n",
    "\n",
    "5. Vertical datum: The data should in the DEM represent Ellipsoid heights (.dem.wgs84) / heights above EGM96 (.dem). The vertical reference is communicated to ISCE by setting the reference tag to EGM96 / WGS84\n",
    "```xml\n",
    "<property name=\"reference\">\n",
    "    <value>EGM96</value>\n",
    "    <doc>Geodetic datum</doc>\n",
    "</property>\n",
    "```\n",
    "Make sure that the correct tag is present in your DEM xml file. Add this field, if it is missing. "
   ]
  },
  {
   "cell_type": "code",
   "execution_count": null,
   "metadata": {},
   "outputs": [],
   "source": [
    "# Utility to generate XML and VRT from ENVI format flat binary files\n",
    "!gdal2isce_xml.py -h"
   ]
  },
  {
   "cell_type": "code",
   "execution_count": null,
   "metadata": {
    "hidden": true
   },
   "outputs": [],
   "source": [
    "# Utility to fix paths in ISCE XML files\n",
    "!fixImageXml.py -h"
   ]
  },
  {
   "cell_type": "markdown",
   "metadata": {
    "hidden": true
   },
   "source": [
    "From the help, you can see that the **-f** option will update the path in the xml file with an absolute path. Now run the command:"
   ]
  },
  {
   "cell_type": "markdown",
   "metadata": {
    "hidden": true
   },
   "source": [
    "Once, you have your DEM prepared update the \"demfilename\" or \"geocode demfilename\" as needed for processing your data."
   ]
  },
  {
   "cell_type": "markdown",
   "metadata": {},
   "source": [
    "### 3.11 Pixel offset maps (User exercise)"
   ]
  },
  {
   "cell_type": "markdown",
   "metadata": {},
   "source": [
    "In addition to the interferogram, topsApp.py can also be used to generate pixel offset maps. By default, pixel offsets are turned off. You can enable this by uncommenting the \"do denseoffsets\" line in our topsApp.xml"
   ]
  },
  {
   "cell_type": "code",
   "execution_count": null,
   "metadata": {},
   "outputs": [],
   "source": [
    "!/opt/isce2/isce/applications/topsApp.py --start=denseoffsets --end=geocodeoffsets"
   ]
  },
  {
   "cell_type": "markdown",
   "metadata": {
    "heading_collapsed": true,
    "hidden": true
   },
   "source": [
    "#### 3.11.1 Step denseoffsets"
   ]
  },
  {
   "cell_type": "markdown",
   "metadata": {
    "hidden": true
   },
   "source": [
    "In addition to the interferometric processing, we also requested to run the **denseoffsets** step in the **topsApp.xml**. The azimuth and range offsets are estimated by doing a cross-correlation between the coregistered reference and secondary SLC's on a dense grid, providing a low resolution image of displacement in the range and azimuth domain."
   ]
  },
  {
   "cell_type": "code",
   "execution_count": null,
   "metadata": {
    "hidden": true
   },
   "outputs": [],
   "source": [
    "#Uncomment to run this step only\n",
    "!/opt/isce2/isce/applications/topsApp.py --dostep=denseoffsets"
   ]
  },
  {
   "cell_type": "markdown",
   "metadata": {
    "hidden": true
   },
   "source": [
    "The output file, **dense_offsets.bil**, is a two-band file containing the azimuth and range offsets, placed in the \"*merged*\" folder . The correlation coefficient is contained in the **dense_offsets_snr.bil** file.\n",
    "\n",
    "Here is a plot of the azimuth and range offsets:"
   ]
  },
  {
   "cell_type": "code",
   "execution_count": null,
   "metadata": {
    "hidden": true,
    "scrolled": false
   },
   "outputs": [],
   "source": [
    "# This will only work if you enabled pixel offset generation\n",
    "plotdata('merged/dense_offsets.bil', band=2,\n",
    "         title=\"DENSE RANGE OFFSETS [pixels] \",\n",
    "         datamin=-0.5, datamax=0.5,\n",
    "         colormap='jet', colorbar_orientation=\"vertical\")\n",
    "\n",
    "plotdata('merged/dense_offsets.bil',band=1,\n",
    "         title=\"DENSE AZIMUTH OFFSETS [pixels] \",\n",
    "         datamin=-0.25, datamax=0.25\n",
    "         colormap='jet', colorbar_orientation=\"vertical\")"
   ]
  },
  {
   "cell_type": "markdown",
   "metadata": {
    "heading_collapsed": true,
    "hidden": true
   },
   "source": [
    "#### 3.11.2 Step filteroffsets"
   ]
  },
  {
   "cell_type": "markdown",
   "metadata": {
    "hidden": true
   },
   "source": [
    "The denseoffsets can be a bit noisy. In the following step, we will clean this up by applying a filter. The output will be added to the \"*merged*\" folder under the filename **filt_dense_offsets.bil**."
   ]
  },
  {
   "cell_type": "code",
   "execution_count": null,
   "metadata": {
    "hidden": true
   },
   "outputs": [],
   "source": [
    "#Uncomment to run this step only\n",
    "!/opt/isce2/isce/applications/topsApp.py --dostep=filteroffsets"
   ]
  },
  {
   "cell_type": "markdown",
   "metadata": {
    "heading_collapsed": true,
    "hidden": true
   },
   "source": [
    "#### 3.11.3 Step geocodeoffsets"
   ]
  },
  {
   "cell_type": "markdown",
   "metadata": {
    "hidden": true
   },
   "source": [
    "Geocoding the filtered dense offsets generates a **filt_dense_offsets.bil.geo** file in the \"*merged*\" folder."
   ]
  },
  {
   "cell_type": "code",
   "execution_count": null,
   "metadata": {
    "hidden": true
   },
   "outputs": [],
   "source": [
    "#Uncomment to run this step only\n",
    "!/opt/isce2/isce/applications/topsApp.py --dostep=geocodeoffsets"
   ]
  },
  {
   "cell_type": "markdown",
   "metadata": {
    "hidden": true
   },
   "source": [
    "Here is a plot of the final geocoded filtered dense offsets:"
   ]
  },
  {
   "cell_type": "code",
   "execution_count": null,
   "metadata": {
    "hidden": true,
    "scrolled": false
   },
   "outputs": [],
   "source": [
    "# This will only work if you enabled pixel offset generation\n",
    "plotdata('merged/filt_dense_offsets.bil.geo', band=2,\n",
    "         title=\"DENSE AZIMUTH OFFSETS [pixels] \",\n",
    "         datamin=-0.5, datamax=0.5,\n",
    "         colormap='jet', colorbar_orientation=\"vertical\")\n",
    "plotdata('merged/filt_dense_offsets.bil.geo',band=1,\n",
    "         title=\"DENSE RANGE OFFSETS [pixels] \",\n",
    "         datamin=-0.25, datamax=0.25,\n",
    "         colormap='jet', colorbar_orientation=\"vertical\")"
   ]
  },
  {
   "cell_type": "markdown",
   "metadata": {},
   "source": [
    "### 4. Recommended user exercises"
   ]
  },
  {
   "cell_type": "markdown",
   "metadata": {},
   "source": [
    "We recommend the following exercises for users to get used to the different options available with topsApp.py. These exercises involve reading the detailed topsApp.xml file included in the examples and set appropriate properties and rerun topsApp.py workflows."
   ]
  },
  {
   "cell_type": "markdown",
   "metadata": {},
   "source": [
    "#### 4.1 Process complete Sentinel-1 frames"
   ]
  },
  {
   "cell_type": "markdown",
   "metadata": {},
   "source": [
    "In this exercise, we demonstrate use of topsApp.py to process a small region of interest. Users can remove this subsetting option and process all 3 swaths in one go."
   ]
  },
  {
   "cell_type": "markdown",
   "metadata": {},
   "source": [
    "#### 4.2 Process multiple Sentinel-2 frames together"
   ]
  },
  {
   "cell_type": "markdown",
   "metadata": {
    "slideshow": {
     "slide_type": "slide"
    }
   },
   "source": [
    "In this exercise, we used a single SLC each acquired on the reference and secondary dates. Users can add multiple SLCs for each of the dates and let topsApp.py mosaic them together for you."
   ]
  },
  {
   "cell_type": "markdown",
   "metadata": {},
   "source": [
    "#### 4.3 Ionospheric phase screen"
   ]
  },
  {
   "cell_type": "markdown",
   "metadata": {},
   "source": [
    "As mentioned in Section 3.7, we skipped ionospheric phase screen generation in this exercise. We recommend users get familiar with various flags and options available in topsApp.py to control the generation of ionospheric phase screens [see, bottom of page here](https://github.com/isce-framework/isce2/blob/main/examples/input_files/topsApp.xml). Users only need to start from \"step ion\" for this exercise."
   ]
  },
  {
   "cell_type": "markdown",
   "metadata": {},
   "source": [
    "#### 4.4 Generate pixel offsets without generating interferogram"
   ]
  },
  {
   "cell_type": "markdown",
   "metadata": {},
   "source": [
    "If you are interested in pixel offset maps over fast moving ice streams/ glaciers and not interested in wasting time on interferogram generation which are likely to be decorrelated, you can figure out the correct options to set in topsApp.xml to generate pixel offsets only."
   ]
  },
  {
   "cell_type": "markdown",
   "metadata": {},
   "source": [
    "#### 4.5 Familiarize yourself with interferogram post processing"
   ]
  },
  {
   "cell_type": "markdown",
   "metadata": {},
   "source": [
    "By default, the interferograms are filtered before unwrapping. We recommend users get familiar with impact of different filter strengths on their datasets. topsApp.py also offers multiple unwrapping options like - icu, snaphu, snaphu_mcf and grass. Exercising these options over different decorrelation regimes will let users become familiar with the strengths and weaknesses of each of the methods. Users only need to rerun steps starting from filtering for this exercise."
   ]
  },
  {
   "cell_type": "markdown",
   "metadata": {},
   "source": [
    "#### 4.6 Familiarize yourself with impact of ESD"
   ]
  },
  {
   "cell_type": "markdown",
   "metadata": {},
   "source": [
    "topsApp.py includes optimizations to generate \"ESD\" corrections using only the overlaps between bursts. However, users can turn off this refinement if they chose to - depending on their application. Users only need to start from steps related to ESD for this exercise."
   ]
  },
  {
   "cell_type": "markdown",
   "metadata": {},
   "source": [
    "# Relevant references:\n",
    "- Heresh Fattahi, Piyush Agram, and Mark Simons, *Precise coregistration of Sentinel-1A TOPS data*, https://files.scec.org/s3fs-public/0129_1400_1530_Fattahi.pdf\n",
    "- Fattahi, H., Agram, P. and Simons, M., 2016. A network-based enhanced spectral diversity approach for TOPS time-series analysis. IEEE Transactions on Geoscience and Remote Sensing, 55(2), pp.777-786. https://core.ac.uk/reader/77927508\n",
    "- ESA, *Sentinel-1 and TOPS overview*, https://sentinel.esa.int/web/sentinel/user-guides/sentinel-1-sar\n",
    "- Nestor Yague-Martinez, Pau Prats-Iraola, Fernando Rodriguez Gonzalez,Ramon Brcic, Robert Shau, Dirk Geudtner, Michael Eineder, and Richard Bamler, *Interferometric Processing of Sentinel-1 TOPS Data*, IEEE, doi:10.1109/TGRS.2015.2497902, https://ieeexplore.ieee.org/document/7390052/\n",
    "- Liang, C., Agram, P., Simons, M. and Fielding, E.J., 2019. Ionospheric correction of insar time series analysis of c-band sentinel-1 tops data. IEEE Transactions on Geoscience and Remote Sensing, 57(9), pp.6755-6773. "
   ]
  }
 ],
 "metadata": {
  "kernelspec": {
   "display_name": "Python 3",
   "language": "python",
   "name": "python3"
  },
  "language_info": {
   "codemirror_mode": {
    "name": "ipython",
    "version": 3
   },
   "file_extension": ".py",
   "mimetype": "text/x-python",
   "name": "python",
   "nbconvert_exporter": "python",
   "pygments_lexer": "ipython3",
   "version": "3.8.2"
  },
  "toc": {
   "base_numbering": 1,
   "nav_menu": {},
   "number_sections": false,
   "sideBar": true,
   "skip_h1_title": false,
   "title_cell": "Table of Contents",
   "title_sidebar": "Contents",
   "toc_cell": false,
   "toc_position": {
    "height": "calc(100% - 180px)",
    "left": "10px",
    "top": "150px",
    "width": "288px"
   },
   "toc_section_display": true,
   "toc_window_display": true
  }
 },
 "nbformat": 4,
 "nbformat_minor": 2
}
