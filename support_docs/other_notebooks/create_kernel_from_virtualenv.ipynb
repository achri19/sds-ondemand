{
 "cells": [
  {
   "cell_type": "markdown",
   "metadata": {},
   "source": [
    "This notebook demonstrates how to setup a virtual environment."
   ]
  },
  {
   "cell_type": "code",
   "execution_count": 1,
   "metadata": {},
   "outputs": [
    {
     "name": "stdout",
     "output_type": "stream",
     "text": [
      "/opt/conda/bin/python\n"
     ]
    }
   ],
   "source": [
    "!which python"
   ]
  },
  {
   "cell_type": "code",
   "execution_count": 2,
   "metadata": {},
   "outputs": [
    {
     "name": "stdout",
     "output_type": "stream",
     "text": [
      "Collecting package metadata (current_repodata.json): done\n",
      "Solving environment: done\n",
      "\n",
      "# All requested packages already installed.\n",
      "\n"
     ]
    }
   ],
   "source": [
    "!conda install -y virtualenv"
   ]
  },
  {
   "cell_type": "code",
   "execution_count": 3,
   "metadata": {},
   "outputs": [
    {
     "name": "stdout",
     "output_type": "stream",
     "text": [
      "created virtual environment CPython3.8.2.final.0-64 in 326ms\n",
      "  creator CPython3Posix(dest=/home/jovyan/myenv, clear=False, no_vcs_ignore=False, global=True)\n",
      "  seeder FromAppData(download=False, pip=bundle, setuptools=bundle, wheel=bundle, via=copy, app_data_dir=/home/jovyan/.local/share/virtualenv)\n",
      "    added seed packages: pip==20.3.3, setuptools==51.1.2, wheel==0.36.2\n",
      "  activators BashActivator,CShellActivator,FishActivator,PowerShellActivator,PythonActivator,XonshActivator\n"
     ]
    }
   ],
   "source": [
    "!virtualenv --system-site-packages ~/myenv"
   ]
  },
  {
   "cell_type": "code",
   "execution_count": 4,
   "metadata": {},
   "outputs": [
    {
     "name": "stdout",
     "output_type": "stream",
     "text": [
      "Requirement already satisfied: ipykernel in /opt/conda/lib/python3.8/site-packages (5.3.4)\n",
      "Requirement already satisfied: jupyter-client in /opt/conda/lib/python3.8/site-packages (from ipykernel) (6.1.7)\n",
      "Requirement already satisfied: ipython>=5.0.0 in /opt/conda/lib/python3.8/site-packages (from ipykernel) (7.19.0)\n",
      "Requirement already satisfied: tornado>=4.2 in /opt/conda/lib/python3.8/site-packages (from ipykernel) (6.0.4)\n",
      "Requirement already satisfied: traitlets>=4.1.0 in /opt/conda/lib/python3.8/site-packages (from ipykernel) (5.0.5)\n",
      "Requirement already satisfied: pickleshare in /opt/conda/lib/python3.8/site-packages (from ipython>=5.0.0->ipykernel) (0.7.5)\n",
      "Requirement already satisfied: decorator in /opt/conda/lib/python3.8/site-packages (from ipython>=5.0.0->ipykernel) (4.4.2)\n",
      "Requirement already satisfied: prompt-toolkit!=3.0.0,!=3.0.1,<3.1.0,>=2.0.0 in /opt/conda/lib/python3.8/site-packages (from ipython>=5.0.0->ipykernel) (3.0.8)\n",
      "Requirement already satisfied: setuptools>=18.5 in /home/jovyan/myenv/lib/python3.8/site-packages (from ipython>=5.0.0->ipykernel) (51.1.2)\n",
      "Requirement already satisfied: jedi>=0.10 in /opt/conda/lib/python3.8/site-packages (from ipython>=5.0.0->ipykernel) (0.17.2)\n",
      "Requirement already satisfied: backcall in /opt/conda/lib/python3.8/site-packages (from ipython>=5.0.0->ipykernel) (0.2.0)\n",
      "Requirement already satisfied: pexpect>4.3 in /opt/conda/lib/python3.8/site-packages (from ipython>=5.0.0->ipykernel) (4.8.0)\n",
      "Requirement already satisfied: pygments in /opt/conda/lib/python3.8/site-packages (from ipython>=5.0.0->ipykernel) (2.7.2)\n",
      "Requirement already satisfied: parso<0.8.0,>=0.7.0 in /opt/conda/lib/python3.8/site-packages (from jedi>=0.10->ipython>=5.0.0->ipykernel) (0.7.0)\n",
      "Requirement already satisfied: ptyprocess>=0.5 in /opt/conda/lib/python3.8/site-packages (from pexpect>4.3->ipython>=5.0.0->ipykernel) (0.6.0)\n",
      "Requirement already satisfied: wcwidth in /opt/conda/lib/python3.8/site-packages (from prompt-toolkit!=3.0.0,!=3.0.1,<3.1.0,>=2.0.0->ipython>=5.0.0->ipykernel) (0.2.5)\n",
      "Requirement already satisfied: ipython-genutils in /opt/conda/lib/python3.8/site-packages (from traitlets>=4.1.0->ipykernel) (0.2.0)\n",
      "Requirement already satisfied: jupyter-core>=4.6.0 in /opt/conda/lib/python3.8/site-packages (from jupyter-client->ipykernel) (4.7.0)\n",
      "Requirement already satisfied: pyzmq>=13 in /opt/conda/lib/python3.8/site-packages (from jupyter-client->ipykernel) (20.0.0)\n",
      "Requirement already satisfied: python-dateutil>=2.1 in /opt/conda/lib/python3.8/site-packages (from jupyter-client->ipykernel) (2.8.1)\n",
      "Requirement already satisfied: six>=1.5 in /opt/conda/lib/python3.8/site-packages (from python-dateutil>=2.1->jupyter-client->ipykernel) (1.15.0)\n"
     ]
    }
   ],
   "source": [
    "!~/myenv/bin/pip install --user ipykernel"
   ]
  },
  {
   "cell_type": "code",
   "execution_count": 5,
   "metadata": {},
   "outputs": [
    {
     "name": "stdout",
     "output_type": "stream",
     "text": [
      "Installed kernelspec myenv in /home/jovyan/.local/share/jupyter/kernels/myenv\n"
     ]
    }
   ],
   "source": [
    "!~/myenv/bin/python -m ipykernel install --user --name=myenv"
   ]
  },
  {
   "cell_type": "code",
   "execution_count": 6,
   "metadata": {},
   "outputs": [
    {
     "name": "stdout",
     "output_type": "stream",
     "text": [
      "{\n",
      " \"argv\": [\n",
      "  \"/home/jovyan/myenv/bin/python\",\n",
      "  \"-m\",\n",
      "  \"ipykernel_launcher\",\n",
      "  \"-f\",\n",
      "  \"{connection_file}\"\n",
      " ],\n",
      " \"display_name\": \"myenv\",\n",
      " \"language\": \"python\"\n",
      "}"
     ]
    }
   ],
   "source": [
    "!cat ~/.local/share/jupyter/kernels/myenv/kernel.json"
   ]
  },
  {
   "cell_type": "code",
   "execution_count": 8,
   "metadata": {},
   "outputs": [
    {
     "name": "stdout",
     "output_type": "stream",
     "text": [
      "Collecting https://github.com/hysds/otello/archive/develop.zip\n",
      "  Downloading https://github.com/hysds/otello/archive/develop.zip\n",
      "\u001b[K     \\ 283 kB 598 kB/s\n",
      "\u001b[?25hRequirement already satisfied: click in /opt/conda/lib/python3.8/site-packages (from otello==1.0.0) (6.7)\n",
      "Requirement already satisfied: pyyaml in /opt/conda/lib/python3.8/site-packages (from otello==1.0.0) (5.3.1)\n",
      "Requirement already satisfied: requests in /opt/conda/lib/python3.8/site-packages (from otello==1.0.0) (2.25.0)\n",
      "Requirement already satisfied: chardet<4,>=3.0.2 in /opt/conda/lib/python3.8/site-packages (from requests->otello==1.0.0) (3.0.4)\n",
      "Requirement already satisfied: certifi>=2017.4.17 in /opt/conda/lib/python3.8/site-packages (from requests->otello==1.0.0) (2020.12.5)\n",
      "Requirement already satisfied: idna<3,>=2.5 in /opt/conda/lib/python3.8/site-packages (from requests->otello==1.0.0) (2.10)\n",
      "Requirement already satisfied: urllib3<1.27,>=1.21.1 in /opt/conda/lib/python3.8/site-packages (from requests->otello==1.0.0) (1.25.11)\n",
      "Building wheels for collected packages: otello\n",
      "  Building wheel for otello (setup.py) ... \u001b[?25ldone\n",
      "\u001b[?25h  Created wheel for otello: filename=otello-1.0.0-py3-none-any.whl size=7779 sha256=0084c7ad559d1966e72e437797fc30052a5520338a581bd872297b32fc87f594\n",
      "  Stored in directory: /tmp/pip-ephem-wheel-cache-vxo43ofw/wheels/68/15/52/fa3993a055e9b8dcb495e785b841bfc54663dd63b1d14ee7f8\n",
      "Successfully built otello\n",
      "Installing collected packages: otello\n",
      "Successfully installed otello-1.0.0\n"
     ]
    }
   ],
   "source": [
    "!~/myenv/bin/pip install https://github.com/hysds/otello/archive/develop.zip"
   ]
  },
  {
   "cell_type": "code",
   "execution_count": 9,
   "metadata": {},
   "outputs": [
    {
     "name": "stdout",
     "output_type": "stream",
     "text": [
      "Loaded plugins: fastestmirror, ovl\n",
      "Loading mirror speeds from cached hostfile\n",
      " * base: mirrors.xmission.com\n",
      " * centos-sclo-rh: la.mirrors.clouvider.net\n",
      " * extras: mirror.phx1.us.spryservers.net\n",
      " * updates: mirrors.xtom.com\n",
      "base                                                     | 3.6 kB     00:00     \n",
      "centos-sclo-rh                                           | 3.0 kB     00:00     \n",
      "cuda                                                     | 3.0 kB     00:00     \n",
      "extras                                                   | 2.9 kB     00:00     \n",
      "updates                                                  | 2.9 kB     00:00     \n",
      "Package openldap-devel-2.4.44-22.el7.x86_64 already installed and latest version\n",
      "Nothing to do\n"
     ]
    }
   ],
   "source": [
    "!sudo yum install openldap-devel -y"
   ]
  },
  {
   "cell_type": "code",
   "execution_count": 12,
   "metadata": {},
   "outputs": [
    {
     "name": "stdout",
     "output_type": "stream",
     "text": [
      "Collecting https://github.com/hysds/pele/archive/HC-218.zip\n",
      "  Using cached https://github.com/hysds/pele/archive/HC-218.zip\n",
      "Requirement already satisfied: Flask in /home/jovyan/myenv/lib/python3.8/site-packages (from pele==1.0.0) (1.1.2)\n",
      "Requirement already satisfied: gunicorn in /home/jovyan/myenv/lib/python3.8/site-packages (from pele==1.0.0) (20.0.4)\n",
      "Requirement already satisfied: gevent in /home/jovyan/myenv/lib/python3.8/site-packages (from pele==1.0.0) (21.1.2)\n",
      "Requirement already satisfied: eventlet in /home/jovyan/myenv/lib/python3.8/site-packages (from pele==1.0.0) (0.30.0)\n",
      "Requirement already satisfied: supervisor in /home/jovyan/myenv/lib/python3.8/site-packages (from pele==1.0.0) (4.2.1)\n",
      "Requirement already satisfied: requests in /opt/conda/lib/python3.8/site-packages (from pele==1.0.0) (2.25.0)\n",
      "Requirement already satisfied: Flask-Assets in /home/jovyan/myenv/lib/python3.8/site-packages (from pele==1.0.0) (2.0)\n",
      "Requirement already satisfied: Flask-Bcrypt in /home/jovyan/myenv/lib/python3.8/site-packages (from pele==1.0.0) (0.7.1)\n",
      "Requirement already satisfied: Flask-Caching in /home/jovyan/myenv/lib/python3.8/site-packages (from pele==1.0.0) (1.9.0)\n",
      "Requirement already satisfied: Flask-Cors in /home/jovyan/myenv/lib/python3.8/site-packages (from pele==1.0.0) (3.0.10)\n",
      "Requirement already satisfied: Flask-DebugToolbar in /home/jovyan/myenv/lib/python3.8/site-packages (from pele==1.0.0) (0.11.0)\n",
      "Requirement already satisfied: Flask-HTTPAuth in /home/jovyan/myenv/lib/python3.8/site-packages (from pele==1.0.0) (4.2.0)\n",
      "Requirement already satisfied: Flask-Limiter in /home/jovyan/myenv/lib/python3.8/site-packages (from pele==1.0.0) (1.4)\n",
      "Requirement already satisfied: Flask-Login in /home/jovyan/myenv/lib/python3.8/site-packages (from pele==1.0.0) (0.5.0)\n",
      "Requirement already satisfied: Flask-Mail in /home/jovyan/myenv/lib/python3.8/site-packages (from pele==1.0.0) (0.9.1)\n",
      "Requirement already satisfied: Flask-Migrate in /home/jovyan/myenv/lib/python3.8/site-packages (from pele==1.0.0) (2.6.0)\n",
      "Requirement already satisfied: flask-restx>=0.2.0 in /home/jovyan/myenv/lib/python3.8/site-packages (from pele==1.0.0) (0.2.0)\n",
      "Requirement already satisfied: Flask-Script in /home/jovyan/myenv/lib/python3.8/site-packages (from pele==1.0.0) (2.0.6)\n",
      "Requirement already satisfied: Flask-SQLAlchemy in /home/jovyan/myenv/lib/python3.8/site-packages (from pele==1.0.0) (2.4.4)\n",
      "Requirement already satisfied: Flask-Testing in /home/jovyan/myenv/lib/python3.8/site-packages (from pele==1.0.0) (0.8.1)\n",
      "Requirement already satisfied: Flask-WTF in /home/jovyan/myenv/lib/python3.8/site-packages (from pele==1.0.0) (0.14.3)\n",
      "Requirement already satisfied: simpleldap in /home/jovyan/myenv/lib/python3.8/site-packages (from pele==1.0.0) (0.8)\n",
      "Requirement already satisfied: elasticsearch<8.0.0,>=7.0.0 in /home/jovyan/myenv/lib/python3.8/site-packages (from pele==1.0.0) (7.10.1)\n",
      "Requirement already satisfied: elasticsearch-dsl<8.0.0,>=7.0.0 in /home/jovyan/myenv/lib/python3.8/site-packages (from pele==1.0.0) (7.3.0)\n",
      "Requirement already satisfied: pyshp in /opt/conda/lib/python3.8/site-packages (from pele==1.0.0) (2.1.2)\n",
      "Requirement already satisfied: shapely==1.5.15 in /home/jovyan/myenv/lib/python3.8/site-packages (from pele==1.0.0) (1.5.15)\n",
      "Requirement already satisfied: Cython in /home/jovyan/myenv/lib/python3.8/site-packages (from pele==1.0.0) (0.29.21)\n",
      "Requirement already satisfied: redis in /home/jovyan/myenv/lib/python3.8/site-packages (from pele==1.0.0) (3.5.3)\n",
      "Requirement already satisfied: bcrypt in /home/jovyan/myenv/lib/python3.8/site-packages (from pele==1.0.0) (3.2.0)\n",
      "Requirement already satisfied: PyJWT in /opt/conda/lib/python3.8/site-packages (from pele==1.0.0) (1.7.1)\n",
      "Requirement already satisfied: coverage in /home/jovyan/myenv/lib/python3.8/site-packages (from pele==1.0.0) (5.3.1)\n",
      "Requirement already satisfied: webassets in /home/jovyan/myenv/lib/python3.8/site-packages (from pele==1.0.0) (2.0)\n",
      "Requirement already satisfied: lxml in /opt/conda/lib/python3.8/site-packages (from pele==1.0.0) (4.6.2)\n",
      "Requirement already satisfied: nodeenv in /home/jovyan/myenv/lib/python3.8/site-packages (from pele==1.0.0) (1.5.0)\n",
      "Requirement already satisfied: botocore in /opt/conda/lib/python3.8/site-packages (from pele==1.0.0) (1.19.33)\n",
      "Requirement already satisfied: aws-requests-auth==0.4.2 in /home/jovyan/myenv/lib/python3.8/site-packages (from pele==1.0.0) (0.4.2)\n",
      "Requirement already satisfied: certifi in /opt/conda/lib/python3.8/site-packages (from elasticsearch<8.0.0,>=7.0.0->pele==1.0.0) (2020.12.5)\n",
      "Requirement already satisfied: urllib3<2,>=1.21.1 in /opt/conda/lib/python3.8/site-packages (from elasticsearch<8.0.0,>=7.0.0->pele==1.0.0) (1.25.11)\n",
      "Requirement already satisfied: python-dateutil in /opt/conda/lib/python3.8/site-packages (from elasticsearch-dsl<8.0.0,>=7.0.0->pele==1.0.0) (2.8.1)\n",
      "Requirement already satisfied: six in /opt/conda/lib/python3.8/site-packages (from elasticsearch-dsl<8.0.0,>=7.0.0->pele==1.0.0) (1.15.0)\n",
      "Requirement already satisfied: werkzeug in /home/jovyan/myenv/lib/python3.8/site-packages (from flask-restx>=0.2.0->pele==1.0.0) (1.0.1)\n",
      "Requirement already satisfied: aniso8601>=0.82 in /home/jovyan/myenv/lib/python3.8/site-packages (from flask-restx>=0.2.0->pele==1.0.0) (8.1.0)\n",
      "Requirement already satisfied: pytz in /opt/conda/lib/python3.8/site-packages (from flask-restx>=0.2.0->pele==1.0.0) (2020.4)\n",
      "Requirement already satisfied: jsonschema in /opt/conda/lib/python3.8/site-packages (from flask-restx>=0.2.0->pele==1.0.0) (3.2.0)\n",
      "Requirement already satisfied: click>=5.1 in /opt/conda/lib/python3.8/site-packages (from Flask->pele==1.0.0) (6.7)\n",
      "Requirement already satisfied: itsdangerous>=0.24 in /home/jovyan/myenv/lib/python3.8/site-packages (from Flask->pele==1.0.0) (1.1.0)\n",
      "Requirement already satisfied: Jinja2>=2.10.1 in /opt/conda/lib/python3.8/site-packages (from Flask->pele==1.0.0) (2.11.2)\n",
      "Requirement already satisfied: MarkupSafe>=0.23 in /opt/conda/lib/python3.8/site-packages (from Jinja2>=2.10.1->Flask->pele==1.0.0) (1.1.1)\n",
      "Requirement already satisfied: idna<3,>=2.5 in /opt/conda/lib/python3.8/site-packages (from requests->pele==1.0.0) (2.10)\n",
      "Requirement already satisfied: chardet<4,>=3.0.2 in /opt/conda/lib/python3.8/site-packages (from requests->pele==1.0.0) (3.0.4)\n",
      "Requirement already satisfied: cffi>=1.1 in /opt/conda/lib/python3.8/site-packages (from bcrypt->pele==1.0.0) (1.14.0)\n",
      "Requirement already satisfied: pycparser in /opt/conda/lib/python3.8/site-packages (from cffi>=1.1->bcrypt->pele==1.0.0) (2.20)\n",
      "Requirement already satisfied: jmespath<1.0.0,>=0.7.1 in /opt/conda/lib/python3.8/site-packages (from botocore->pele==1.0.0) (0.10.0)\n",
      "Requirement already satisfied: dnspython<2.0.0,>=1.15.0 in /home/jovyan/myenv/lib/python3.8/site-packages (from eventlet->pele==1.0.0) (1.16.0)\n",
      "Requirement already satisfied: greenlet>=0.3 in /home/jovyan/myenv/lib/python3.8/site-packages (from eventlet->pele==1.0.0) (1.0.0)\n",
      "Requirement already satisfied: Blinker in /opt/conda/lib/python3.8/site-packages (from Flask-DebugToolbar->pele==1.0.0) (1.4)\n",
      "Requirement already satisfied: limits in /home/jovyan/myenv/lib/python3.8/site-packages (from Flask-Limiter->pele==1.0.0) (1.5.1)\n",
      "Requirement already satisfied: alembic>=0.7 in /opt/conda/lib/python3.8/site-packages (from Flask-Migrate->pele==1.0.0) (1.4.3)\n",
      "Requirement already satisfied: python-editor>=0.3 in /opt/conda/lib/python3.8/site-packages (from alembic>=0.7->Flask-Migrate->pele==1.0.0) (1.0.4)\n",
      "Requirement already satisfied: Mako in /opt/conda/lib/python3.8/site-packages (from alembic>=0.7->Flask-Migrate->pele==1.0.0) (1.1.3)\n",
      "Requirement already satisfied: SQLAlchemy>=1.1.0 in /opt/conda/lib/python3.8/site-packages (from alembic>=0.7->Flask-Migrate->pele==1.0.0) (1.3.20)\n",
      "Requirement already satisfied: WTForms in /home/jovyan/myenv/lib/python3.8/site-packages (from Flask-WTF->pele==1.0.0) (2.3.3)\n",
      "Requirement already satisfied: zope.interface in /home/jovyan/myenv/lib/python3.8/site-packages (from gevent->pele==1.0.0) (5.2.0)\n",
      "Requirement already satisfied: setuptools in /home/jovyan/myenv/lib/python3.8/site-packages (from gevent->pele==1.0.0) (51.1.2)\n",
      "Requirement already satisfied: zope.event in /home/jovyan/myenv/lib/python3.8/site-packages (from gevent->pele==1.0.0) (4.5.0)\n",
      "Requirement already satisfied: pyrsistent>=0.14.0 in /opt/conda/lib/python3.8/site-packages (from jsonschema->flask-restx>=0.2.0->pele==1.0.0) (0.17.3)\n",
      "Requirement already satisfied: attrs>=17.4.0 in /opt/conda/lib/python3.8/site-packages (from jsonschema->flask-restx>=0.2.0->pele==1.0.0) (20.3.0)\n",
      "Requirement already satisfied: python-ldap in /home/jovyan/myenv/lib/python3.8/site-packages (from simpleldap->pele==1.0.0) (3.3.1)\n",
      "Requirement already satisfied: pyasn1-modules>=0.1.5 in /opt/conda/lib/python3.8/site-packages (from python-ldap->simpleldap->pele==1.0.0) (0.2.8)\n",
      "Requirement already satisfied: pyasn1>=0.3.7 in /opt/conda/lib/python3.8/site-packages (from python-ldap->simpleldap->pele==1.0.0) (0.4.8)\n"
     ]
    }
   ],
   "source": [
    "!~/myenv/bin/pip install https://github.com/hysds/pele/archive/HC-218.zip"
   ]
  }
 ],
 "metadata": {
  "kernelspec": {
   "display_name": "Python 3",
   "language": "python",
   "name": "python3"
  },
  "language_info": {
   "codemirror_mode": {
    "name": "ipython",
    "version": 3
   },
   "file_extension": ".py",
   "mimetype": "text/x-python",
   "name": "python",
   "nbconvert_exporter": "python",
   "pygments_lexer": "ipython3",
   "version": "3.8.2"
  }
 },
 "nbformat": 4,
 "nbformat_minor": 4
}
