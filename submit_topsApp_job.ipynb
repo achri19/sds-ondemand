{
 "cells": [
  {
   "cell_type": "markdown",
   "metadata": {},
   "source": [
    "<font size=\"1\">Copyright 2021, by the California Institute of Technology. ALL RIGHTS RESERVED. United States Government sponsorship acknowledged. Any commercial use must be negotiated with the Office of Technology Transfer at the California Institute of Technology.</font>\n",
    "    \n",
    "<font size=\"1\">This software may be subject to U.S. export control laws and regulations. By accepting this document, the user agrees to comply with all applicable U.S. export laws and regulations. User has the responsibility to obtain export licenses, or other export authority as may be required, before exporting such information to foreign countries or providing access to foreign persons.<font>"
   ]
  },
  {
   "cell_type": "markdown",
   "metadata": {},
   "source": [
    "# Cloud-Scaling TopsApp Processing in the On-Demand NISAR Science Data System (SDS)"
   ]
  },
  {
   "cell_type": "markdown",
   "metadata": {},
   "source": [
    "## Introduction\n",
    "With TopsApp.ipynb, we can run topsApp in a notebook. Once topsApp.ipynb is integrated into the on-demand NISAR SDS, we can execute the topsApp notebook as a job in the on-demand NISAR SDS and run them at scale.    \n",
    "\n",
    "In this notebook we will show, how to:\n",
    " - **Create input data for MULTIPLE topsApp processing**\n",
    " - **Get information about topsApp job**\n",
    " - **Submit MULTIPLE topsApp jobs SIMULTANEOUSLY with different inputs**\n",
    " - **Download generated products from the cloud**\n",
    " - **Plot the generated innformation**\n"
   ]
  },
  {
   "cell_type": "markdown",
   "metadata": {},
   "source": [
    "\n",
    "\n",
    "## Configurable Parameters\n",
    "\n",
    "We can run this notebook to process topsApp with many different combinations of SLCs and region of interest as well as with different combination of topsApp properties like swaths, azimuth looks, range looks etc. In the followinng section we initizale all these tunable variables.\n",
    "\n",
    "**Input Parameters**\n",
    "\n",
    "- **min_lat, max_lat, min_loc, max_loc**: min/max latitude and longditude of Region of Interest.\n",
    "\n",
    "    Default values:\n",
    "        min_lat = 31.9 # type: number\n",
    "        max_lat = 33.94 # type: number\n",
    "        min_lon =  -118.74 # type: number\n",
    "        max_lon = -115.69 # type: number\n",
    "       \n",
    "- **reference_slcs, secondary_slcs** : List of reference SLCs and secondary SLCs.\n",
    "\n",
    "    Default value:\n",
    "        reference_slcs: List[str] = [\"S1B_IW_SLC__1SDV_20190628T014909_20190628T014936_016890_01FC87_55C8\"]\n",
    "        secondary_slcs: List[str] = [\"S1B_IW_SLC__1SDV_20190710T014909_20190710T014936_017065_0201B8_0252\"]  \n",
    "        \n",
    "**Tunable Parameters**\n",
    "- **swaths** : array conntaining swath values to be considerate.\n",
    "\n",
    "    Default value:\n",
    "        swaths: List[int] = [3]\n",
    "- **range_looks** : range looks value. Number.\n",
    "\n",
    "    Default value: \n",
    "        range_looks = 7        \n",
    "- **azimuth_looks** : azimuth looks value. Number.\n",
    "\n",
    "    Default value:\n",
    "        azimuth_looks = 3\n",
    "- **do_unwrap** : True or False if unwrapping shoud be done or not.\n",
    "\n",
    "    Default value:\n",
    "        do_unwrap = \"True\"\n",
    "- **unwrapper_name** : Unwrapper name when do_unwrap is True.\n",
    "\n",
    "    Default value:\n",
    "        unwrapper_name = \"snaphu_mcf\"\n",
    "- **do_denseoffsets** : True/False for denseoffsets processing.\n",
    "\n",
    "    Default value:\n",
    "        do_denseoffsets = \"False\"\n",
    "           \n",
    "\n"
   ]
  },
  {
   "cell_type": "code",
   "execution_count": null,
   "metadata": {},
   "outputs": [],
   "source": [
    "\n",
    "input_params = [ {\n",
    "    \"tags\" : \"test_from_jupyter-1\",\n",
    "    \"params\" : {  \n",
    "        \"min_lat\" : 37.89,\n",
    "        \"max_lat\" : 39.57,\n",
    "        \"min_lon\" : -119.75,\n",
    "        \"max_lon\" : -116.88,\n",
    "        \"reference_slcs\" : [\"S1B_IW_SLC__1SDV_20190628T015048_20190628T015116_016890_01FC87_50F1\"],\n",
    "        \"secondary_slcs\" : [\"S1B_IW_SLC__1SDV_20190710T015049_20190710T015117_017065_0201B8_0114\"]\n",
    "         }\n",
    "    },{\n",
    "    \"tags\" : \"test_from_jupyter-2\",\n",
    "    \"params\" : { \n",
    "        \"min_lat\" : 36.39,\n",
    "        \"max_lat\" : 38.42,\n",
    "        \"min_lon\" : -119.79,\n",
    "        \"max_lon\" : -116.57,\n",
    "        \"reference_slcs\" : [\"S1B_IW_SLC__1SDV_20190628T015023_20190628T015050_016890_01FC87_AA6E\"],\n",
    "        \"secondary_slcs\" : [\"S1B_IW_SLC__1SDV_20190710T015024_20190710T015051_017065_0201B8_ABFD\"]\n",
    "        }\n",
    "    },{\n",
    "    \"tags\" : \"test_from_jupyter-3\",\n",
    "    \"params\" : {\n",
    "\n",
    "        \"min_lat\" : 31.90,\n",
    "        \"max_lat\" : 33.94,\n",
    "        \"min_lon\" : -118.74,\n",
    "        \"max_lon\" : -115.69,\n",
    "        \"reference_slcs\" : [\"S1B_IW_SLC__1SDV_20190628T014909_20190628T014936_016890_01FC87_55C8\"],\n",
    "        \"secondary_slcs\" : [\"S1B_IW_SLC__1SDV_20190710T014909_20190710T014936_017065_0201B8_0252\"]\n",
    "        }\n",
    "    },{\n",
    "    \"tags\" : \"test_from_jupyter-4\",\n",
    "    \"params\" : {\n",
    "\n",
    "        \"min_lat\" : 33.40,\n",
    "        \"max_lat\" : 35.44,\n",
    "        \"min_lon\" : -119.09,\n",
    "        \"max_lon\" : -115.98,\n",
    "        \"reference_slcs\" : [\"S1B_IW_SLC__1SDV_20190628T014933_20190628T015000_016890_01FC87_81EB\"],\n",
    "        \"secondary_slcs\" : [\"S1B_IW_SLC__1SDV_20190710T014934_20190710T015001_017065_0201B8_4872\"]\n",
    "        }\n",
    "    },{\n",
    "    \"tags\" : \"test_from_jupyter-5\",\n",
    "    \"params\" : {\n",
    "\n",
    "        \"min_lat\" : 34.90,\n",
    "        \"max_lat\" : 36.53,\n",
    "        \"min_lon\" : -119.44,\n",
    "        \"max_lon\" : -116.28,\n",
    "        \"reference_slcs\" : [\"S1B_IW_SLC__1SDV_20190628T014958_20190628T015025_016890_01FC87_FC0D\"],\n",
    "        \"secondary_slcs\" : [\"S1B_IW_SLC__1SDV_20190710T014959_20190710T015026_017065_0201B8_069B\"]\n",
    "        }\n",
    "    }\n",
    "        \n",
    "]\n",
    "\n",
    "tunable_params = {\n",
    "    \"sensor_name\" : \"SENTINEL1\",\n",
    "    \"swaths\" : \"[1, 2, 3]\",\n",
    "    \"range_looks\" : 7,\n",
    "    \"azimuth_looks\" : 3,\n",
    "    \"do_unwrap\" : \"False\",\n",
    "    \"unwrapper_name\" : \"snaphu_mcf\",\n",
    "    \"do_denseoffsets\" : \"False\"\n",
    "}"
   ]
  },
  {
   "cell_type": "markdown",
   "metadata": {},
   "source": [
    "\n",
    "## Setup configuration for interaction with on-demand NISAR SDS\n",
    "In this section, we setup the necessary python libraries and API endpoints needed to interact with the **on-demand NISAR SDS**. \n",
    "\n",
    "The `otello` python library provides high-level access to operations on the on-demand SDS. In particular for this demo, it provides us with access to and information about the job types registered on the SDS along with the capability to submit jobs, check for job statuses, and to query for products generated by the job."
   ]
  },
  {
   "cell_type": "code",
   "execution_count": null,
   "metadata": {},
   "outputs": [],
   "source": [
    "import os, requests, json, getpass, time, re, shutil, sys\n",
    "from pathlib import Path\n",
    "from datetime import datetime\n",
    "from requests.auth import HTTPBasicAuth\n",
    "import urllib3\n",
    "import otello\n",
    "import os\n",
    "from pprint import pprint\n",
    "\n",
    "import os\n",
    "\n",
    "# this block makes sure the directory set-up/change is only done once and relative to the notebook's directory\n",
    "try:\n",
    "    start_dir\n",
    "except NameError:\n",
    "    start_dir = os.getcwd()\n",
    "    \n",
    "output_dir = os.path.join(start_dir, 'notebook_output/topsApp')\n",
    "python_dir = os.path.join(start_dir, 'python')\n",
    "\n",
    "!mkdir -p $output_dir\n",
    "os.chdir(output_dir)\n",
    "sys.path.append(python_dir)\n",
    "\n",
    "import plot_util\n",
    "\n",
    "\n",
    "ISCE_HOME=\"/opt/isce2/isce\"\n",
    "urllib3.disable_warnings()\n",
    "\n",
    "# set the mozart IP\n",
    "mozart_ip = \"100.64.122.59\"\n",
    "#mozart_ip = input(\"Enter IP address of your mozart instance then press <Enter>: \")\n",
    "print(f\"Using mozart IP address {mozart_ip}.\")\n",
    "\n",
    "if not os.path.exists(f\"{Path.home()}/.config/otello/config.yml\"):\n",
    "    otello.client.initialize()\n",
    "\n",
    "m = otello.Mozart()"
   ]
  },
  {
   "cell_type": "markdown",
   "metadata": {},
   "source": [
    "## Submitting an \"on-demand topsApp\" job\n",
    "### Next let's get more information on the topsApp Job:"
   ]
  },
  {
   "cell_type": "code",
   "execution_count": null,
   "metadata": {},
   "outputs": [],
   "source": [
    "job_type = \"job-topsApp:develop\"\n",
    "topsApp = m.get_job_types()[job_type]\n",
    "topsApp.initialize()"
   ]
  },
  {
   "cell_type": "markdown",
   "metadata": {},
   "source": [
    "### Prepare input for the MULTIPLE topsApp Jobs and submit them in bulk  to run in the on-demand NISAR SDS\n",
    "\n",
    "Note that we are explicitly overriding the default job queue in the submit_job call to specify the (only) one available in the Beta PCM environment."
   ]
  },
  {
   "cell_type": "code",
   "execution_count": null,
   "metadata": {
    "slideshow": {
     "slide_type": "subslide"
    }
   },
   "outputs": [],
   "source": [
    "job_set = otello.JobSet()\n",
    "topsApp.set_input_params(tunable_params)\n",
    "for i in range(len(input_params)):\n",
    "    topsApp.set_input_params(input_params[i][\"params\"])\n",
    "    job = topsApp.submit_job(tag=input_params[i][\"tags\"], queue=\"nisar-job_worker-small\")\n",
    "    job_set.append(job)"
   ]
  },
  {
   "cell_type": "markdown",
   "metadata": {},
   "source": [
    "### Let's wait for the jobs to complete generation of the topsApp products"
   ]
  },
  {
   "cell_type": "code",
   "execution_count": null,
   "metadata": {},
   "outputs": [],
   "source": [
    "job_set.wait_for_completion()"
   ]
  },
  {
   "cell_type": "markdown",
   "metadata": {},
   "source": [
    "### Get information about the generated topsApp products from the topsApp jobs\n",
    "#### The generated topsApp products are stored in the cloud next to the on-demand NISAR SDS"
   ]
  },
  {
   "cell_type": "code",
   "execution_count": null,
   "metadata": {},
   "outputs": [],
   "source": [
    "\n",
    "prods = []\n",
    "for job in job_set:\n",
    "    try:\n",
    "        prod = job.get_generated_products()\n",
    "        print(json.dumps(prod, indent=2, sort_keys=True))\n",
    "        prods.append(prod)\n",
    "    except Exception as e:\n",
    "        print(e)\n"
   ]
  },
  {
   "cell_type": "markdown",
   "metadata": {},
   "source": [
    "### Download the generated standard topsApp products from the cloud into this notebook\n",
    "#### Here we use the AWS CLI to download the generated datasets."
   ]
  },
  {
   "cell_type": "code",
   "execution_count": null,
   "metadata": {},
   "outputs": [],
   "source": [
    "local_dirs = []\n",
    "for prod in prods:\n",
    "    try:\n",
    "        prod_url = re.sub(r'^s3://.+?/(.+)$', r's3://\\1', prod[0][\"urls\"][-1]) # get s3 url\n",
    "        local_dir = os.path.basename(prod_url)\n",
    "        if os.path.isdir(local_dir): shutil.rmtree(local_dir)\n",
    "        !aws s3 sync $prod_url $local_dir\n",
    "        local_dirs.append(local_dir)\n",
    "    except Exception as e:\n",
    "        print(e)\n",
    "for local_dir in local_dirs:\n",
    "    !ls $local_dir"
   ]
  },
  {
   "cell_type": "markdown",
   "metadata": {},
   "source": [
    "### Use matplotlib to visualize the topsApp products\n",
    "Here we list the contents of the generated datasets. We plot filt_topophase.unw.geo file."
   ]
  },
  {
   "cell_type": "code",
   "execution_count": null,
   "metadata": {},
   "outputs": [],
   "source": [
    "import os\n",
    "import folium\n",
    "from glob import glob\n",
    "import matplotlib.pyplot as plt\n",
    "import numpy as np\n",
    "import rasterio as rio\n",
    "from rasterio.plot import show, plotting_extent\n",
    "from rasterio.merge import merge\n",
    "from PIL import Image, ImageChops\n",
    "\n",
    "\n",
    "# plot wrapped IFGs individually\n",
    "flat_plots = []\n",
    "flat_bboxes = []\n",
    "for i, file in enumerate(glob(\"hello_world*/filt_topophase.flat.geo\")):\n",
    "    src = rio.open(file)\n",
    "    fig, ax = plt.subplots(1, figsize=(18, 16))\n",
    "    data = src.read(1)\n",
    "    data[data==0] = np.nan\n",
    "    show(np.angle(data), cmap='rainbow', vmin=-np.pi, vmax=np.pi, transform=src.transform, ax=ax)\n",
    "    png_file = f'flat_{i}.png'\n",
    "    fig.savefig(png_file, transparent=True)\n",
    "    flat_plots.append(png_file)\n",
    "    flat_bboxes.append(src.bounds)"
   ]
  },
  {
   "cell_type": "code",
   "execution_count": null,
   "metadata": {},
   "outputs": [],
   "source": [
    "# function to trim png images\n",
    "def trim(img):\n",
    "    border = Image.new(img.mode, img.size, img.getpixel((0, 0)))\n",
    "    diff = ImageChops.difference(img, border)\n",
    "    diff = ImageChops.add(diff, diff, 2.0, -100)\n",
    "    bbox = diff.getbbox()\n",
    "    if bbox:\n",
    "        img = img.crop(bbox)\n",
    "    return np.array(img)\n",
    "\n",
    "\n",
    "# plot wrapped IFGs in folium map\n",
    "m = folium.Map(location=[35.71975793933433, -117.8668212890625],\n",
    "               tiles='Stamen Terrain', zoom_start=6)\n",
    "for i, plot in enumerate(flat_plots):\n",
    "    bounds = [[flat_bboxes[i].bottom, flat_bboxes[i].left],\n",
    "              [flat_bboxes[i].top, flat_bboxes[i].right]]\n",
    "    img = trim(Image.open(plot))\n",
    "    o = folium.raster_layers.ImageOverlay(image=img,\n",
    "                                          bounds=bounds,\n",
    "                                          opacity=.7,\n",
    "                                          interactive=True,\n",
    "                                          cross_origin=False)\n",
    "    o.add_to(m)\n",
    "folium.LayerControl().add_to(m)             \n",
    "m"
   ]
  }
 ],
 "metadata": {
  "celltoolbar": "Tags",
  "kernelspec": {
   "display_name": "Python 3 (ipykernel)",
   "language": "python",
   "name": "python3"
  },
  "language_info": {
   "codemirror_mode": {
    "name": "ipython",
    "version": 3
   },
   "file_extension": ".py",
   "mimetype": "text/x-python",
   "name": "python",
   "nbconvert_exporter": "python",
   "pygments_lexer": "ipython3",
   "version": "3.9.6"
  }
 },
 "nbformat": 4,
 "nbformat_minor": 4
}
