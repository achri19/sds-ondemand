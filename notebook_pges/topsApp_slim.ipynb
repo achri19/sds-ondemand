{
 "cells": [
  {
   "cell_type": "markdown",
   "metadata": {},
   "source": [
    "<font size=\"1\">Copyright 2021, by the California Institute of Technology. ALL RIGHTS RESERVED. United States Government sponsorship acknowledged. Any commercial use must be negotiated with the Office of Technology Transfer at the California Institute of Technology.</font>\n",
    "    \n",
    "<font size=\"1\">This software may be subject to U.S. export control laws and regulations. By accepting this document, the user agrees to comply with all applicable U.S. export laws and regulations. User has the responsibility to obtain export licenses, or other export authority as may be required, before exporting such information to foreign countries or providing access to foreign persons.<font>"
   ]
  },
  {
   "cell_type": "markdown",
   "metadata": {},
   "source": [
    "# Processing TopsApp\n",
    "\n",
    "## Introduction\n",
    "In this notebook, we will run the various steps of processing with topsApp.py. \n",
    "\n",
    "topsApp.py is a pair-by-pair interferometric processor that takes as input two Sentinel-1 SAR acquisitions acquired in TOPS mode.At this time, topsApp only supports SLC data from Sentinel-1 A and B. Processing is supported across the Sentinel-1 constellation, i.e. data acquired from A and B can be combined**\n",
    "\n",
    "Processing of TopsApp involves:\n",
    "\n",
    "**Downloading Inputs**\n",
    "  - Downloading SLCs : Both Reference and Secondary\n",
    "  - Downlaoding DEMs : Based on supplied region of interest (min/max lat/lon)\n",
    "  - Downloading Orbits : Based on SLC dates\n",
    "\n",
    "**Processing with ISCE**\n",
    "  - Creating ISCE input configuration files : topsApp.xml, reference.xml, secondary.xml\n",
    "  - Steps of topsApp processing (in order):\n",
    "     - startup\n",
    "     - preprocess\n",
    "     - computeBaselines**\n",
    "     - verifyDEM\n",
    "     - topo\n",
    "     - subsetoverlaps\n",
    "     - coarseoffsets\n",
    "     - coarseresamp\n",
    "     - overlapifg\n",
    "     - prepesd\n",
    "     - esd\n",
    "     - rangecoreg\n",
    "     - fineoffsets\n",
    "     - fineresamp\n",
    "     - ion\n",
    "     - burstifg\n",
    "     - mergebursts\n",
    "     - filter\n",
    "     - unwrap\n",
    "     - unwrap2stage\n",
    "     - geocode\n",
    "     - denseoffsets\n",
    "     - filteroffsets\n",
    "     - geocodeoffsets\n",
    "     \n",
    "     The steps of topsApp depends on start and end parameter supplied while calling topsApp. For example, the following command will process from the first step (startup) till step 'geocode'\n",
    "    ```\n",
    "     /opt/isce2/isce/applications/topsApp.py --start=startup --end=geocode\n",
    "    ```\n",
    "    \n",
    "    Also, some steps can be turned on or off by setting some properties in topsApp.xml. For example, 'unwrap' step will be ignored if'do_unwrap' property value is set to False\n",
    "   \n"
   ]
  },
  {
   "cell_type": "markdown",
   "metadata": {},
   "source": [
    "# Configurable Parameters\n",
    "\n",
    "We can run this notebook to process topsApp with many different combinations of SLCs and region of interest as well as with different combination of topsApp properties like swaths, azimuth looks, range looks etc. In the following section we initizale all these variables.\n",
    "\n",
    "**Input Parameters**\n",
    "\n",
    "- **min_lat, max_lat, min_loc, max_loc**: min/max latitude and longditude of Region of Interest.\n",
    "    Example:\n",
    "        min_lat = 31.9 # type: number\n",
    "- **reference_slcs, secondary_slcs** : List of reference SLCs and secondary SLCs.\n",
    "    Example:\n",
    "        reference_slcs: List[str] = [\"S1B_IW_SLC__1SDV_20190628T014909_20190628T014936_016890_01FC87_55C8\"]\n",
    "        \n",
    "**Tunable Parameters**\n",
    "- **swaths** : array conntaining swath values to be considerate.\n",
    "    Example:\n",
    "        swaths: List[int] = [3]\n",
    "- **range_looks** : range looks value. Number.\n",
    "    Example: \n",
    "        range_looks = 7        \n",
    "- **azimuth_looks** : azimuth looks value. Number.\n",
    "    Example:\n",
    "        azimuth_looks = 3\n",
    "- **do_unwrap** : True or False if unwrapping shoud be done or not.\n",
    "    Example:\n",
    "        do_unwrap = \"True\"\n",
    "- **unwrapper_name** : Unwrapper name when do_unwrap is True.\n",
    "    Example:\n",
    "        unwrapper_name = \"snaphu_mcf\"\n",
    "- **do_denseoffsets** : True/False for denseoffsets processing.\n",
    "    Example:\n",
    "        do_denseoffsets = \"False\"\n"
   ]
  },
  {
   "cell_type": "code",
   "execution_count": null,
   "metadata": {
    "tags": [
     "parameters"
    ]
   },
   "outputs": [],
   "source": [
    "from typing import List\n",
    "min_lat = 31.9 # type: number\n",
    "max_lat = 33.94 # type: number\n",
    "min_lon =  -118.74 # type: number\n",
    "max_lon = -115.69 # type: number\n",
    "        \n",
    "reference_slcs: List[str] = [\"S1B_IW_SLC__1SDV_20190628T014909_20190628T014936_016890_01FC87_55C8\"]\n",
    "secondary_slcs: List[str] = [\"S1B_IW_SLC__1SDV_20190710T014909_20190710T014936_017065_0201B8_0252\"]                     \n",
    "    \n",
    "sensor_name = \"SENTINEL1\"\n",
    "swaths: List[int] = [1, 2, 3]\n",
    "range_looks = 7\n",
    "azimuth_looks = 3\n",
    "do_unwrap = \"True\"\n",
    "unwrapper_name = \"snaphu_mcf\"\n",
    "do_denseoffsets = \"False\""
   ]
  },
  {
   "cell_type": "markdown",
   "metadata": {},
   "source": [
    "## Setup output directories"
   ]
  },
  {
   "cell_type": "code",
   "execution_count": null,
   "metadata": {},
   "outputs": [],
   "source": [
    "import os\n",
    "\n",
    "# directory in which the notebook resides\n",
    "if 'tutorial_home_dir' not in globals():\n",
    "    tutorial_home_dir = os.getcwd()\n",
    "print(\"Notebook directory: \", tutorial_home_dir)\n",
    "# assumption is this is in the notebook_pges subdirectory of the repo\n",
    "base_dir = os.path.abspath(os.path.join(tutorial_home_dir, '..'))\n",
    "\n",
    "# directory for data downloads\n",
    "output_dir = os.path.join(base_dir, 'notebook_output', 'topsApp')\n",
    "slc_dir = os.path.join(output_dir, 'data', 'slcs')\n",
    "orbit_dir = os.path.join(output_dir, 'data', 'orbits')\n",
    "insar_dir = os.path.join(output_dir, 'insar')\n",
    "\n",
    "# generate all the folders in case they do not exist yet\n",
    "os.makedirs(slc_dir, exist_ok=True)\n",
    "os.makedirs(orbit_dir, exist_ok=True)\n",
    "os.makedirs(insar_dir, exist_ok=True)\n",
    "\n",
    "# Always start at the notebook directory    \n",
    "os.chdir(tutorial_home_dir)"
   ]
  },
  {
   "cell_type": "markdown",
   "metadata": {},
   "source": [
    "## Setting up isce2 and endpoint data services"
   ]
  },
  {
   "cell_type": "code",
   "execution_count": null,
   "metadata": {},
   "outputs": [],
   "source": [
    "import os\n",
    "import json\n",
    "from math import floor, ceil\n",
    "import json\n",
    "import re\n",
    "import osaka\n",
    "import osaka.main\n",
    "from builtins import str\n",
    "import os, sys, re, json, logging, traceback, requests, argparse\n",
    "from datetime import datetime\n",
    "from pprint import pformat\n",
    "\n",
    "from requests.packages.urllib3.exceptions import (InsecureRequestWarning,\n",
    "                                                  InsecurePlatformWarning)\n",
    "import isce\n",
    "from iscesys.Component.ProductManager import ProductManager as PM\n",
    "\n",
    "try: from html.parser import HTMLParser\n",
    "except: from html.parser import HTMLParser\n",
    "try:\n",
    "    sys.path.append(os.path.join(os.path.dirname(os.path.dirname(os.path.abspath(__file__))), \"python\"))\n",
    "except:\n",
    "    sys.path.append(os.path.join(os.path.dirname(os.path.dirname(os.path.abspath(\"__file__\"))), \"python\"))\n",
    "    \n",
    "import topsApp_util\n",
    "\n",
    "log_format = \"[%(asctime)s: %(levelname)s/%(funcName)s] %(message)s\"\n",
    "logging.basicConfig(format=log_format, level=logging.INFO)\n",
    "logger = logging.getLogger('create_ifg')\n",
    "\n",
    "        \n",
    "requests.packages.urllib3.disable_warnings(InsecureRequestWarning)\n",
    "requests.packages.urllib3.disable_warnings(InsecurePlatformWarning)\n",
    "PROCESSING_START=datetime.now().strftime(\"%Y-%m-%dT%H:%M:%S\")\n",
    "\n",
    "PGE_BASE=os.getcwd()\n",
    "\n",
    "ISCE_HOME=\"/opt/isce2/isce\"\n",
    "\n",
    "SLC_RE = re.compile(r'(?P<mission>S1\\w)_IW_SLC__.*?' +\n",
    "                    r'_(?P<start_year>\\d{4})(?P<start_month>\\d{2})(?P<start_day>\\d{2})' +\n",
    "                    r'T(?P<start_hour>\\d{2})(?P<start_min>\\d{2})(?P<start_sec>\\d{2})' +\n",
    "                    r'_(?P<end_year>\\d{4})(?P<end_month>\\d{2})(?P<end_day>\\d{2})' +\n",
    "                    r'T(?P<end_hour>\\d{2})(?P<end_min>\\d{2})(?P<end_sec>\\d{2})_.*$')\n",
    "\n",
    "\n",
    "QC_SERVER = 'https://qc.sentinel1.eo.esa.int/'\n",
    "DATA_SERVER = 'http://aux.sentinel1.eo.esa.int/'\n",
    "\n",
    "ORBITMAP = [('precise','aux_poeorb', 100),\n",
    "            ('restituted','aux_resorb', 100)]\n",
    "\n",
    "OPER_RE = re.compile(r'S1\\w_OPER_AUX_(?P<type>\\w+)_OPOD_(?P<yr>\\d{4})(?P<mo>\\d{2})(?P<dy>\\d{2})')\n",
    "\n",
    "wd = os.getcwd()\n",
    "\n",
    "if isinstance(reference_slcs, str):\n",
    "    reference_slcs = json.loads(reference_slcs)\n",
    "if isinstance(secondary_slcs, str):\n",
    "    secondary_slcs = json.loads(secondary_slcs)\n",
    "    \n",
    "if isinstance(swaths, str):\n",
    "    swaths = json.loads(swaths)\n",
    "    \n",
    "localize_slcs = reference_slcs + secondary_slcs\n",
    "tops_properties = {}\n",
    "tops_properties[\"swaths\"] = swaths\n",
    "tops_properties[\"range looks\"] = range_looks\n",
    "tops_properties[\"azimuth looks\"] = azimuth_looks\n",
    "tops_properties[\"do unwrap\"] = do_unwrap\n",
    "tops_properties[\"unwrapper name\"] = unwrapper_name\n",
    "tops_properties[\"do denseoffsets\"] = do_denseoffsets\n",
    "tops_properties[\"region of interest\"] =\"[{}, {}, {}, {}]\".format(min_lat, max_lat, min_lon, max_lon)\n",
    "\n",
    "input_dict = {}\n",
    "input_dict[\"reference_slcs\"] = reference_slcs\n",
    "input_dict[\"secondary_slcs\"] = secondary_slcs\n",
    "input_dict[\"localize_slcs\"] = localize_slcs\n",
    "input_dict[\"min_lat\"]=min_lat\n",
    "input_dict[\"max_lat\"]=max_lat\n",
    "input_dict[\"min_lon\"]=min_lon\n",
    "input_dict[\"max_lon\"]=max_lon\n",
    "\n",
    "\n",
    "input_dict[\"sensor_name\"]=sensor_name\n",
    "input_dict[\"swaths\"] = swaths\n",
    "input_dict[\"range_looks\"]=range_looks\n",
    "input_dict[\"azimuth_looks\"]=azimuth_looks\n",
    "input_dict[\"do_unwrap\"]=do_unwrap\n",
    "input_dict[\"unwrapper_name\"]=unwrapper_name\n",
    "input_dict[\"do_denseoffsets\"]=do_denseoffsets\n",
    "\n",
    "\n",
    "wgs84_file = ''\n",
    "\n",
    "\n",
    "# directory in which the notebook resides\n",
    "if 'tutorial_home_dir' not in globals():\n",
    "    tutorial_home_dir = os.getcwd()\n",
    "print(\"Notebook directory: \", tutorial_home_dir)\n",
    "\n",
    "# directory for data downloads\n",
    "slc_dir = os.path.join(tutorial_home_dir,'data', 'slcs')\n",
    "orbit_dir = os.path.join(tutorial_home_dir, 'data', 'orbits')\n",
    "insar_dir = os.path.join(tutorial_home_dir, 'insar')\n"
   ]
  },
  {
   "cell_type": "markdown",
   "metadata": {
    "heading_collapsed": true,
    "hidden": true
   },
   "source": [
    "## 1. Collecting Input Datasets\n",
    " - Downnloading **SLCs**\n",
    " - Downloading **Orbits**\n",
    " - Downloading **Dems**\n",
    " "
   ]
  },
  {
   "cell_type": "markdown",
   "metadata": {
    "heading_collapsed": true,
    "hidden": true
   },
   "source": [
    "### 1.1 SLC Download\n",
    "\n",
    "TOPS SLC product files delivered from ESA are zip archives. When unpacked the zip extension will be replaced by SAFE. The products are therefore also frequently called SAFE files. topsApp.py can read the data from either a zip file or a SAFE file. To limit disk usage, it is recommended to not unzip the individual files.\n",
    "\n",
    "The zip or SAFE filenames provide information on the product type, the polarization, and the start and stop acquisition time. For example: S1A_IW_SLC__1SDV_20200511T135117_20200511T135144_032518_03C421_7768.zip\n",
    "- Type = slc\n",
    "- Polarization = Dual polarization\n",
    "- Date = 20200511\n",
    "- UTC time of acquisition = ~13:51\n",
    "- Sensing start for the acquisition was 20200511 at 13:51:17\n"
   ]
  },
  {
   "cell_type": "code",
   "execution_count": null,
   "metadata": {
    "scrolled": true
   },
   "outputs": [],
   "source": [
    "topsApp_util.download_slcs(localize_slcs, slc_dir)\n",
    "#extract_slc_data(slc_dir, localize_slcs)\n",
    "! ls -lh {slc_dir}"
   ]
  },
  {
   "cell_type": "markdown",
   "metadata": {
    "heading_collapsed": true,
    "hidden": true
   },
   "source": [
    "### 1.2 Orbits Download\n",
    "\n",
    "In addition to the **SAFE files**, **orbit files** and the **auxiliary instrument files** are required for ISCE processing. Both the orbit and instrument files are provided by ESA and can be downloaded at: https://qc.sentinel1.eo.esa.int/."
   ]
  },
  {
   "cell_type": "code",
   "execution_count": null,
   "metadata": {},
   "outputs": [],
   "source": [
    "from shutil import move\n",
    "import glob\n",
    "\n",
    "os.chdir(tutorial_home_dir)\n",
    "print(tutorial_home_dir)\n",
    "\n",
    "topsApp_util.get_orbit_files(localize_slcs)\n",
    "# Move the orbits to orbit folder\n",
    "orb_files = glob.glob(\"*.EOF\")\n",
    "for orb in orb_files:\n",
    "    move(orb, os.path.join(orbit_dir, orb))\n",
    "!ls {orbit_dir}"
   ]
  },
  {
   "cell_type": "markdown",
   "metadata": {},
   "source": [
    "### 1.3 Dems Download\n",
    "\n",
    "Dems over the region of intetrest is downloaded."
   ]
  },
  {
   "cell_type": "code",
   "execution_count": null,
   "metadata": {},
   "outputs": [],
   "source": [
    "import os\n",
    "\n",
    "os.chdir(insar_dir)\n",
    "topsApp_util.download_dem(min_lat, max_lat, min_lon, max_lon)\n",
    "\n",
    "wgs84_file =''\n",
    "if os.path.exists(\"dem.txt\"):\n",
    "    cmd = [\"awk\", \"'/wgs84/ {print $NF;exit}'\", \"dem.txt\"]\n",
    "    WGS84 = topsApp_util.run_cmd_output(cmd).decode(\"utf-8\").strip()\n",
    "    wgs84_file = os.path.join(\".\", WGS84)\n",
    "print(wgs84_file)\n",
    "\n",
    "input_dict[\"wgs84_file\"]=wgs84_file"
   ]
  },
  {
   "cell_type": "markdown",
   "metadata": {},
   "source": [
    "### 1.4 AUX_CAL file download ####\n",
    "\n",
    "The following calibration auxliary (AUX_CAL) file is used for **antenna pattern correction** to compensate the range phase offset of SAFE products with **IPF verison 002.36** (mainly for images acquired before March 2015). If all your SAFE products are from another IPF version, then no AUX files are needed. Check [ESA document](https://earth.esa.int/documents/247904/1653440/Sentinel-1-IPF_EAP_Phase_correction) for details. \n",
    "\n",
    "Run the command below to download the AUX_CAL file once and store it somewhere (_i.e._ ~/aux/aux_cal) so that you can use it all the time, for `stackSentinel.py -a` or `auxiliary data directory` in `topsApp.py`.\n",
    "\n",
    "```\n",
    "wget https://qc.sentinel1.eo.esa.int/product/S1A/AUX_CAL/20140908T000000/S1A_AUX_CAL_V20140908T000000_G20190626T100201.SAFE.TGZ\n",
    "tar zxvf S1A_AUX_CAL_V20140908T000000_G20190626T100201.SAFE.TGZ\n",
    "rm S1A_AUX_CAL_V20140908T000000_G20190626T100201.SAFE.TGZ"
   ]
  },
  {
   "cell_type": "code",
   "execution_count": null,
   "metadata": {},
   "outputs": [],
   "source": [
    "%%bash\n",
    "cd $insar_dir\n",
    "mkdir -p ./AuxDir\n",
    "wget https://qc.sentinel1.eo.esa.int/product/S1A/AUX_CAL/20140908T000000/S1A_AUX_CAL_V20140908T000000_G20190626T100201.SAFE.TGZ\n",
    "tar zxvf S1A_AUX_CAL_V20140908T000000_G20190626T100201.SAFE.TGZ --directory ./AuxDir\n",
    "rm S1A_AUX_CAL_V20140908T000000_G20190626T100201.SAFE.TGZ"
   ]
  },
  {
   "cell_type": "markdown",
   "metadata": {
    "heading_collapsed": true,
    "hidden": true
   },
   "source": [
    "## 2 topsApp Connfiguration Files\n"
   ]
  },
  {
   "cell_type": "markdown",
   "metadata": {
    "hidden": true
   },
   "source": [
    "For topsApp processing, we use *topsApp.xml*, *reference.xml* and *secondary.xml*  as config files to send input data information to isce."
   ]
  },
  {
   "cell_type": "markdown",
   "metadata": {
    "hidden": true
   },
   "source": [
    "### 2.1 topsApp.xml\n",
    "\n",
    "Example:\n",
    "```xml\n",
    "<?xml version=\"1.0\" encoding=\"UTF-8\"?>\n",
    "<topsApp>\n",
    "  <component name=\"topsinsar\">\n",
    "    <property name=\"Sensor name\">SENTINEL1</property>\n",
    "    <component name=\"reference\">\n",
    "        <catalog>reference.xml</catalog>\n",
    "    </component>\n",
    "    <component name=\"secondary\">\n",
    "        <catalog>secondary.xml</catalog>\n",
    "    </component>\n",
    "    <property name=\"swaths\">[3]</property>\n",
    "    <property name=\"range looks\">7</property>\n",
    "    <property name=\"azimuth looks\">3</property>\n",
    "    <property name=\"region of interest\">[37.98, 38.33, -118.21, -117.68]</property>\n",
    "    <property name=\"do unwrap\">True</property>\n",
    "    <property name=\"unwrapper name\">snaphu_mcf</property>\n",
    "    <property name=\"do denseoffsets\">True</property>\n",
    "    <property name=\"demfilename\">path_to_your_dem</property>\n",
    "    <property name=\"geocode demfilename\">path_to_your_dem</property>\n",
    "    <!--property name=\"geocode list\">['merged/phsig.cor', 'merged/filt_topophase.unw', 'merged/los.rdr', 'merged/topophase.flat', 'merged/filt_topophase.flat','merged/topophase.cor','merged/filt_topophase.unw.conncomp']</property>-->\n",
    "  </component>\n",
    "</topsApp>\n",
    "```\n",
    "\n",
    "- The reference and secondary components refer  to their own *.xml* files \n",
    "- The **swaths** property controls the number of swaths to be processed. \n",
    "- **range looks** and **azimuth looks**: The range resolution for sentinel varies from near to far range, but is roughly 5m, while the azimuth resolution is approximately 15m, leading to a multi-looked product that will be approximately 35m by 45m.\n",
    "- By specifying the **region of interest** as [S, N, W, E] to only capture the extent, topsApp.py will only extract those bursts from subswaths needed to cover the earthquake.\n",
    "- By default, topsApp can download a DEM on the fly. By including **demFilename** a local DEM can be specified as input for the processing.\n",
    "- By default, the geocoding in topsApp.py is performed at the same sampling as processing DEM. However, a different DEM *to be used specifically for geocoding* can be specified using the **geocode demfilename** property. This is used for the case when data has been multilooked to order of 100m or greater and when geocoding to 30m is an overkill.\n",
    "- By default, no unwrapping is done. In order to turn it on, set the property **do unwrap** to *True*.\n",
    "- In case unwrapping is requested, the default unwrapping strategy to be applied is the *icu* unwrapping method. For this tutorial, we will use *snaphu_mcf*.\n",
    "- Lastly, we request topsApp.py to run the dense-offsets using the **do denseoffsets** property. By enabling this, topsApp.py will estimate the range and azimuth offsets on the amplitude of the reference and secondary SLC files."
   ]
  },
  {
   "cell_type": "code",
   "execution_count": null,
   "metadata": {},
   "outputs": [],
   "source": [
    "topsApp_util.create_topsApp_xml(tops_properties, input_dict)"
   ]
  },
  {
   "cell_type": "markdown",
   "metadata": {
    "hidden": true
   },
   "source": [
    "### 2.2 reference.xml and secondary.xml\n",
    "\n",
    "Example:\n",
    "``` xml\n",
    "<component name=\"reference\">\n",
    "    <property name=\"orbit directory\">../data/orbits</property>\n",
    "    <property name=\"output directory\">reference</property>\n",
    "    <property name=\"safe\">['../data/slcs/S1A_IW_SLC__1SDV_20200511T135117_20200511T135144_032518_03C421_7768.zip']</property>\n",
    "</component>\n",
    "```\n",
    "- The value associated with the reference **safe** property corresponds to a list of SAFE files that are to be mosaiced when generating the interferogram. \n",
    "- The **orbit directory** points  to the directory where we have stored the POEORB (precise) orbits for this example."
   ]
  },
  {
   "cell_type": "code",
   "execution_count": null,
   "metadata": {},
   "outputs": [],
   "source": [
    "xml_file = os.path.join(tutorial_home_dir, \"support_docs/insar/reference.xml\")\n",
    "topsApp_util.create_xml(xml_file, 'reference', reference_slcs)\n",
    "\n",
    "xml_file = os.path.join(tutorial_home_dir, \"support_docs/insar/secondary.xml\")\n",
    "topsApp_util.create_xml(xml_file, 'secondary', secondary_slcs)"
   ]
  },
  {
   "cell_type": "markdown",
   "metadata": {},
   "source": [
    "### 2.3 Moving input XML Files in Appropriate Directory\n",
    "\n",
    "Moving the files in insar directory."
   ]
  },
  {
   "cell_type": "code",
   "execution_count": null,
   "metadata": {},
   "outputs": [],
   "source": [
    "## Template xml for this tutorial\n",
    "from shutil import copyfile, move \n",
    "\n",
    "topsAppXml_original =  os.path.join(tutorial_home_dir,'support_docs/insar/topsApp.xml')  \n",
    "refXml_original =  os.path.join(tutorial_home_dir,'support_docs/insar/reference.xml')  \n",
    "secXml_original =  os.path.join(tutorial_home_dir,'support_docs/insar/secondary.xml')  \n",
    "\n",
    "## Check if the topsApp.xml file already exists, if not copy the example for the excerisize\n",
    "if not os.path.isfile(os.path.join(insar_dir,'topsApp.xml')):\n",
    "    copyfile(topsAppXml_original, os.path.join(insar_dir, 'topsApp.xml'))\n",
    "else:\n",
    "    print(os.path.join(insar_dir,'topsApp.xml') + \" already exist, will not overwrite\")\n",
    "    \n",
    "if not os.path.isfile(os.path.join(insar_dir, 'reference.xml')):\n",
    "    copyfile(refXml_original, os.path.join(insar_dir,'reference.xml'))\n",
    "else:\n",
    "    print(os.path.join(insar_dir,'reference.xml') + \" already exist, will not overwrite\")\n",
    "    \n",
    "if not os.path.isfile(os.path.join(insar_dir, 'secondary.xml')):\n",
    "    copyfile(secXml_original,os.path.join(insar_dir, 'secondary.xml'))\n",
    "else:\n",
    "    print(os.path.join(insar_dir,'secondary.xml') + \" already exist, will not overwrite\")"
   ]
  },
  {
   "cell_type": "markdown",
   "metadata": {
    "heading_collapsed": true,
    "hidden": true
   },
   "source": [
    "## 3. topsApp.py processing steps\n",
    "\n",
    "The topsApp.py workflow can be called with a single command-line call to topsApp.py; by default it will run all the required processing steps with inputs pulled from the topsApp.xml file. Although this is an attractive feature, it is recommended to run topsApp.py with “steps” enabled. This will allow you to re-start the processing from a given processing step. If “steps” are not used, users must restart processing from the beginning of the workflow after fixing any downstream issues with the processing.\n",
    "\n",
    "\n",
    "**Steps of topsApp processing (in order)**:\n",
    " - startup\n",
    " - preproces\n",
    " - computeBaselines\n",
    " - verifyDEM\n",
    " - topo\n",
    " - subsetoverlaps\n",
    " - coarseoffsets\n",
    " - coarseresamp\n",
    " - overlapifg\n",
    " - prepesd\n",
    " - esd\n",
    " - rangecoreg\n",
    " - fineoffsets\n",
    " - fineresamp\n",
    " - ion\n",
    " - burstifg\n",
    " - mergebursts\n",
    " - filter\n",
    " - unwrap\n",
    " - unwrap2stage\n",
    " - geocode\n",
    " - denseoffsets\n",
    " - filteroffsets\n",
    " - geocodeoffsets\n",
    " \n"
   ]
  },
  {
   "cell_type": "code",
   "execution_count": null,
   "metadata": {
    "hidden": true
   },
   "outputs": [],
   "source": [
    "!/opt/isce2/isce/applications/topsApp.py --help --steps"
   ]
  },
  {
   "cell_type": "markdown",
   "metadata": {
    "hidden": true
   },
   "source": [
    "### 3.1 START THE PROCESSING\n",
    "We will do processing from \"startup\" to \"geocode\" in one step in working directory (insar)"
   ]
  },
  {
   "cell_type": "code",
   "execution_count": null,
   "metadata": {
    "hidden": true
   },
   "outputs": [],
   "source": [
    "os.chdir(insar_dir)\n",
    "!/opt/isce2/isce/applications/topsApp.py --start=startup --end=geocode"
   ]
  },
  {
   "cell_type": "markdown",
   "metadata": {},
   "source": [
    "### 3.2 PLOT  INTERFEROGRAM\n",
    "\n",
    "Plotting filt_topophase.unw.geo with metaplotlib"
   ]
  },
  {
   "cell_type": "code",
   "execution_count": null,
   "metadata": {},
   "outputs": [],
   "source": [
    "os.chdir(insar_dir)\n",
    "topsApp_util.plot_wrapped_data_singleframe('merged/filt_topophase.flat.geo')"
   ]
  },
  {
   "cell_type": "code",
   "execution_count": null,
   "metadata": {},
   "outputs": [],
   "source": [
    "import os\n",
    "import folium\n",
    "from glob import glob\n",
    "import matplotlib.pyplot as plt\n",
    "import numpy as np\n",
    "import rasterio as rio\n",
    "from rasterio.plot import show, plotting_extent\n",
    "from rasterio.merge import merge\n",
    "from PIL import Image, ImageChops\n",
    "\n",
    "os.chdir(insar_dir)\n",
    "src = rio.open('merged/filt_topophase.flat.geo')\n",
    "\n",
    "fig, ax = plt.subplots(1, figsize=(18, 16))\n",
    "data = src.read(1)\n",
    "data[data==0] = np.nan\n",
    "show(np.angle(data), cmap='rainbow', vmin=-np.pi, vmax=np.pi, transform=src.transform, ax=ax)\n",
    "png_file = f'flat.png'\n",
    "fig.savefig(png_file, transparent=True)"
   ]
  },
  {
   "cell_type": "markdown",
   "metadata": {},
   "source": [
    "### 3.3 Generate the Product"
   ]
  },
  {
   "cell_type": "code",
   "execution_count": null,
   "metadata": {},
   "outputs": [],
   "source": [
    "prod_name = topsApp_util.create_product(insar_dir, tops_properties, input_dict)\n",
    "print(prod_name)"
   ]
  },
  {
   "cell_type": "markdown",
   "metadata": {},
   "source": [
    "# Relevant references:\n",
    "- Heresh Fattahi, Piyush Agram, and Mark Simons, *Precise coregistration of Sentinel-1A TOPS data*, https://files.scec.org/s3fs-public/0129_1400_1530_Fattahi.pdf\n",
    "- Fattahi, H., Agram, P. and Simons, M., 2016. A network-based enhanced spectral diversity approach for TOPS time-series analysis. IEEE Transactions on Geoscience and Remote Sensing, 55(2), pp.777-786. https://core.ac.uk/reader/77927508\n",
    "- ESA, *Sentinel-1 and TOPS overview*, https://sentinel.esa.int/web/sentinel/user-guides/sentinel-1-sar\n",
    "- Nestor Yague-Martinez, Pau Prats-Iraola, Fernando Rodriguez Gonzalez,Ramon Brcic, Robert Shau, Dirk Geudtner, Michael Eineder, and Richard Bamler, *Interferometric Processing of Sentinel-1 TOPS Data*, IEEE, doi:10.1109/TGRS.2015.2497902, https://ieeexplore.ieee.org/document/7390052/\n",
    "- Liang, C., Agram, P., Simons, M. and Fielding, E.J., 2019. Ionospheric correction of insar time series analysis of c-band sentinel-1 tops data. IEEE Transactions on Geoscience and Remote Sensing, 57(9), pp.6755-6773. "
   ]
  },
  {
   "cell_type": "markdown",
   "metadata": {},
   "source": [
    "<font size=\"1\">This notebook is compatible with NISAR Jupyter Server Stack v1.4 and above</font>"
   ]
  }
 ],
 "metadata": {
  "celltoolbar": "Tags",
  "kernelspec": {
   "display_name": "Python 3 (ipykernel)",
   "language": "python",
   "name": "python3"
  },
  "language_info": {
   "codemirror_mode": {
    "name": "ipython",
    "version": 3
   },
   "file_extension": ".py",
   "mimetype": "text/x-python",
   "name": "python",
   "nbconvert_exporter": "python",
   "pygments_lexer": "ipython3",
   "version": "3.9.6"
  },
  "toc": {
   "base_numbering": 1,
   "nav_menu": {},
   "number_sections": false,
   "sideBar": true,
   "skip_h1_title": false,
   "title_cell": "Table of Contents",
   "title_sidebar": "Contents",
   "toc_cell": false,
   "toc_position": {
    "height": "calc(100% - 180px)",
    "left": "10px",
    "top": "150px",
    "width": "288px"
   },
   "toc_section_display": true,
   "toc_window_display": true
  }
 },
 "nbformat": 4,
 "nbformat_minor": 4
}
