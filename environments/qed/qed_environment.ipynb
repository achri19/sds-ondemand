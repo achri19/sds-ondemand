{
 "cells": [
  {
   "cell_type": "markdown",
   "id": "a591ffc2",
   "metadata": {},
   "source": [
    "### QED Installation\n",
    "This notebook installs QED under /home/jovyan, located parallel to other environments. Through the use of the jupyter server proxy extension, QED can be run as a separate web-app (the underlying Jupyter server image must have serverextensions and jupyter_server_proxy both installed in the base conda environment - which is available as of r1.7.7 of nisar_ade_base).\n",
    "\n",
    "Once installed QED can be run using the launcher, identified by the icon labelled QED. Depending on which version of QED you have installed, you may need to edit the ~/.pyre/qed.yaml file to indicate the datasets available to be viewed prior to starting QED.\n",
    "\n",
    "Because QED is undergoing continued developmend for the addition of new features, placing the ability for users to installed and upgrade it on their own is paramount, eliminating wait times on the OnDemand support and system administration teams."
   ]
  },
  {
   "cell_type": "markdown",
   "id": "9e21094c",
   "metadata": {},
   "source": [
    "The following cell can take a while to execute (30-45 minutes). "
   ]
  },
  {
   "cell_type": "code",
   "execution_count": null,
   "id": "29bfa063-0ac1-4f35-96c3-81843f53f5eb",
   "metadata": {
    "scrolled": true,
    "tags": []
   },
   "outputs": [],
   "source": [
    "%%bash\n",
    "\n",
    "pip install kernda\n",
    "\n",
    "mkdir -p ~/.local/envs\n",
    "conda config --append envs_dirs ~/.local/envs\n",
    "\n",
    "local_base=\"/home/jovyan/.local/envs\"\n",
    "env_base=${local_base}/qed\n",
    "qed_tools_dir=${env_base}/tools\n",
    "\n",
    "date_str=`date +%Y%m%d-%H%M%S`\n",
    "\n",
    "sudo yum install -y git vim zip unzip openssh-server\n",
    "\n",
    "# (re)create the QED environment\n",
    "conda env create -f qed_support_files/qed_environment.yaml -p ${env_base} --force\n",
    "\n",
    "# this hideousness extracts the active major.minor (only) python version\n",
    "python_version=`conda run -p ${env_base} python --version | awk '/Python/ {print $2}' | awk 'BEGIN { FS=\".\" } { print $1\".\"$2 }'`\n",
    "\n",
    "# checkout, build and install QED and its dependencies\n",
    "mkdir -p ${qed_tools_dir}\n",
    "pushd ${qed_tools_dir}\n",
    "git clone https://github.com/aivazis/mm\n",
    "git clone https://github.com/pyre/pyre\n",
    "git clone https://github.com/aivazis/qed\n",
    "popd\n",
    "\n",
    "mkdir -p /home/jovyan/.pyre\n",
    "if [ -f /home/jovyan/.pyre/mm.pfg ]\n",
    "then\n",
    "     mv /home/jovyan/.pyre/mm.pfg /home/jovyan/.pyre/mm.pfg.${date_str}\n",
    "fi\n",
    "sed -e \"s:@PREFIX@:${env_base}:g\" qed_support_files/mm.pfg > /home/jovyan/.pyre/mm.pfg\n",
    "\n",
    "mkdir -p /home/jovyan/.mm\n",
    "if [ -f /home/jovyan/.mm/config.mm ]\n",
    "then\n",
    "     mv /home/jovyan/.mm/config.mm /home/jovyan/.mm/config.mm.${date_str}\n",
    "fi\n",
    "sed -e \"s:@PYTHON_VERSION@:${python_version}:g\" qed_support_files/config.mm > /home/jovyan/.mm/config.mm\n",
    "if [ ! -f /home/jovyan/.pyre/qed.yaml ]\n",
    "then\n",
    "    cp qed_support_files/qed.yaml /home/jovyan/.pyre/qed.yaml\n",
    "fi\n",
    "\n",
    "# build pyre\n",
    "pushd ${qed_tools_dir}/pyre\n",
    "conda run -n qed python ${qed_tools_dir}/mm/mm.py --serial\n",
    "popd\n",
    "\n",
    "# build qed\n",
    "pushd ${qed_tools_dir}/qed\n",
    "conda run -n qed python ${qed_tools_dir}/mm/mm.py --serial\n",
    "popd\n",
    "\n",
    "mkdir -p /home/jovyan/.jupyter\n",
    "if [ -f /home/jovyan/.jupyter/jupyter_notebook_config.py ]\n",
    "then\n",
    "    mv /home/jovyan/.jupyter/jupyter_notebook_config.py /home/jovyan/.jupyter/jupyter_notebook_config.py.${date_str}\n",
    "fi\n",
    "cp qed_support_files/jupyter_notebook_config.py.ops /home/jovyan/.jupyter/jupyter_notebook_config.py\n",
    "\n",
    "# update the ipykernel to recognize the new kernel\n",
    "conda run -n qed python -m ipykernel install --user --name qed --display-name \"qed\"\n",
    "# now invoke kernda to modify the kernel file to ensure the kernel is invoked from within the conda environment\n",
    "conda run -n qed kernda --env-dir ${env_base} --display-name qed -o ~/.local/share/jupyter/kernels/qed/kernel.json"
   ]
  },
  {
   "cell_type": "code",
   "execution_count": null,
   "id": "b4d5fbba-d37a-4ddb-958a-fbdf69d25039",
   "metadata": {},
   "outputs": [],
   "source": []
  }
 ],
 "metadata": {
  "kernelspec": {
   "display_name": "base",
   "language": "python",
   "name": "base"
  },
  "language_info": {
   "codemirror_mode": {
    "name": "ipython",
    "version": 3
   },
   "file_extension": ".py",
   "mimetype": "text/x-python",
   "name": "python",
   "nbconvert_exporter": "python",
   "pygments_lexer": "ipython3",
   "version": "3.9.13"
  }
 },
 "nbformat": 4,
 "nbformat_minor": 5
}
